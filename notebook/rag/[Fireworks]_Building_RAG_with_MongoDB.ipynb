{
  "cells": [
    {
      "cell_type": "markdown",
      "metadata": {
        "id": "Iju-ToarIrnO"
      },
      "source": [
        "[![Open In Colab](https://colab.research.google.com/assets/colab-badge.svg)](https://colab.research.google.com/github/mongodb-developer/ai-rag-lab-notebooks/blob/main/notebook_template.ipynb)\n"
      ]
    },
    {
      "cell_type": "markdown",
      "metadata": {
        "id": "IliH4KUDIrnQ"
      },
      "source": [
        "[![Lab Documentation and Solutions](https://img.shields.io/badge/Lab%20Documentation%20and%20Solutions-purple)](https://mongodb-developer.github.io/ai-rag-lab/)\n"
      ]
    },
    {
      "cell_type": "markdown",
      "metadata": {
        "id": "BWRCEiL2IrnQ"
      },
      "source": [
        "# Step 1: Install libraries\n"
      ]
    },
    {
      "cell_type": "code",
      "execution_count": 1,
      "metadata": {
        "colab": {
          "base_uri": "https://localhost:8080/"
        },
        "id": "akXtl97uIrnR",
        "outputId": "700e3fc9-ddfb-4bfe-8470-76bb2e0d48ec"
      },
      "outputs": [
        {
          "name": "stdout",
          "output_type": "stream",
          "text": [
            "\u001b[2K     \u001b[90m━━━━━━━━━━━━━━━━━━━━━━━━━━━━━━━━━━━━━━━━\u001b[0m \u001b[32m50.4/50.4 kB\u001b[0m \u001b[31m980.7 kB/s\u001b[0m eta \u001b[36m0:00:00\u001b[0m\n",
            "\u001b[2K   \u001b[90m━━━━━━━━━━━━━━━━━━━━━━━━━━━━━━━━━━━━━━━━\u001b[0m \u001b[32m1.4/1.4 MB\u001b[0m \u001b[31m21.4 MB/s\u001b[0m eta \u001b[36m0:00:00\u001b[0m\n",
            "\u001b[2K   \u001b[90m━━━━━━━━━━━━━━━━━━━━━━━━━━━━━━━━━━━━━━━━\u001b[0m \u001b[32m471.6/471.6 kB\u001b[0m \u001b[31m15.5 MB/s\u001b[0m eta \u001b[36m0:00:00\u001b[0m\n",
            "\u001b[2K   \u001b[90m━━━━━━━━━━━━━━━━━━━━━━━━━━━━━━━━━━━━━━━━\u001b[0m \u001b[32m1.0/1.0 MB\u001b[0m \u001b[31m19.9 MB/s\u001b[0m eta \u001b[36m0:00:00\u001b[0m\n",
            "\u001b[2K   \u001b[90m━━━━━━━━━━━━━━━━━━━━━━━━━━━━━━━━━━━━━━━━\u001b[0m \u001b[32m95.1/95.1 kB\u001b[0m \u001b[31m4.3 MB/s\u001b[0m eta \u001b[36m0:00:00\u001b[0m\n",
            "\u001b[2K   \u001b[90m━━━━━━━━━━━━━━━━━━━━━━━━━━━━━━━━━━━━━━━━\u001b[0m \u001b[32m1.2/1.2 MB\u001b[0m \u001b[31m30.7 MB/s\u001b[0m eta \u001b[36m0:00:00\u001b[0m\n",
            "\u001b[2K   \u001b[90m━━━━━━━━━━━━━━━━━━━━━━━━━━━━━━━━━━━━━━━━\u001b[0m \u001b[32m255.2/255.2 kB\u001b[0m \u001b[31m13.4 MB/s\u001b[0m eta \u001b[36m0:00:00\u001b[0m\n",
            "\u001b[2K   \u001b[90m━━━━━━━━━━━━━━━━━━━━━━━━━━━━━━━━━━━━━━━━\u001b[0m \u001b[32m116.3/116.3 kB\u001b[0m \u001b[31m5.8 MB/s\u001b[0m eta \u001b[36m0:00:00\u001b[0m\n",
            "\u001b[2K   \u001b[90m━━━━━━━━━━━━━━━━━━━━━━━━━━━━━━━━━━━━━━━━\u001b[0m \u001b[32m313.6/313.6 kB\u001b[0m \u001b[31m15.7 MB/s\u001b[0m eta \u001b[36m0:00:00\u001b[0m\n",
            "\u001b[2K   \u001b[90m━━━━━━━━━━━━━━━━━━━━━━━━━━━━━━━━━━━━━━━━\u001b[0m \u001b[32m404.4/404.4 kB\u001b[0m \u001b[31m18.2 MB/s\u001b[0m eta \u001b[36m0:00:00\u001b[0m\n",
            "\u001b[2K   \u001b[90m━━━━━━━━━━━━━━━━━━━━━━━━━━━━━━━━━━━━━━━━\u001b[0m \u001b[32m295.8/295.8 kB\u001b[0m \u001b[31m10.2 MB/s\u001b[0m eta \u001b[36m0:00:00\u001b[0m\n",
            "\u001b[2K   \u001b[90m━━━━━━━━━━━━━━━━━━━━━━━━━━━━━━━━━━━━━━━━\u001b[0m \u001b[32m76.4/76.4 kB\u001b[0m \u001b[31m5.0 MB/s\u001b[0m eta \u001b[36m0:00:00\u001b[0m\n",
            "\u001b[2K   \u001b[90m━━━━━━━━━━━━━━━━━━━━━━━━━━━━━━━━━━━━━━━━\u001b[0m \u001b[32m78.0/78.0 kB\u001b[0m \u001b[31m4.7 MB/s\u001b[0m eta \u001b[36m0:00:00\u001b[0m\n",
            "\u001b[2K   \u001b[90m━━━━━━━━━━━━━━━━━━━━━━━━━━━━━━━━━━━━━━━━\u001b[0m \u001b[32m134.8/134.8 kB\u001b[0m \u001b[31m7.3 MB/s\u001b[0m eta \u001b[36m0:00:00\u001b[0m\n",
            "\u001b[2K   \u001b[90m━━━━━━━━━━━━━━━━━━━━━━━━━━━━━━━━━━━━━━━━\u001b[0m \u001b[32m194.1/194.1 kB\u001b[0m \u001b[31m10.4 MB/s\u001b[0m eta \u001b[36m0:00:00\u001b[0m\n",
            "\u001b[2K   \u001b[90m━━━━━━━━━━━━━━━━━━━━━━━━━━━━━━━━━━━━━━━━\u001b[0m \u001b[32m141.9/141.9 kB\u001b[0m \u001b[31m4.4 MB/s\u001b[0m eta \u001b[36m0:00:00\u001b[0m\n",
            "\u001b[2K   \u001b[90m━━━━━━━━━━━━━━━━━━━━━━━━━━━━━━━━━━━━━━━━\u001b[0m \u001b[32m54.5/54.5 kB\u001b[0m \u001b[31m1.5 MB/s\u001b[0m eta \u001b[36m0:00:00\u001b[0m\n",
            "\u001b[2K   \u001b[90m━━━━━━━━━━━━━━━━━━━━━━━━━━━━━━━━━━━━━━━━\u001b[0m \u001b[32m58.3/58.3 kB\u001b[0m \u001b[31m1.8 MB/s\u001b[0m eta \u001b[36m0:00:00\u001b[0m\n",
            "\u001b[?25h"
          ]
        }
      ],
      "source": [
        "! pip install -qU pymongo datasets langchain fireworks-ai tiktoken sentence_transformers tqdm"
      ]
    },
    {
      "cell_type": "markdown",
      "metadata": {
        "id": "JVSuY5NcIrnR"
      },
      "source": [
        "# Step 2: Setup prerequisites\n",
        "\n",
        "Replace:\n",
        "\n",
        "- `<MONGODB_URI>` with your **MongoDB connection string**\n",
        "- `<FIREWORKS_API_KEY>` with your **Fireworks API key**\n"
      ]
    },
    {
      "cell_type": "code",
      "execution_count": 2,
      "metadata": {
        "id": "MG-T5ojXIrnR"
      },
      "outputs": [],
      "source": [
        "import os\n",
        "from pymongo import MongoClient"
      ]
    },
    {
      "cell_type": "code",
      "execution_count": 3,
      "metadata": {
        "colab": {
          "base_uri": "https://localhost:8080/"
        },
        "id": "zHqXUOg6IrnS",
        "outputId": "073a3754-2f72-45f9-88ad-4e75f94f5195"
      },
      "outputs": [
        {
          "data": {
            "text/plain": [
              "{'ok': 1}"
            ]
          },
          "execution_count": 3,
          "metadata": {},
          "output_type": "execute_result"
        }
      ],
      "source": [
        "# Retain the quotes (\"\") when pasting the URI\n",
        "MONGODB_URI = \"\"\n",
        "# Initialize a MongoDB Python client\n",
        "mongodb_client = MongoClient(MONGODB_URI, appname=\"devrel.workshop.rag\")\n",
        "# Check the connection to the server\n",
        "mongodb_client.admin.command(\"ping\")"
      ]
    },
    {
      "cell_type": "code",
      "execution_count": 4,
      "metadata": {
        "id": "yI-KjAYrIrnS"
      },
      "outputs": [],
      "source": [
        "# Retain the quotes (\"\") when pasting the API key\n",
        "os.environ[\"FIREWORKS_API_KEY\"] = \"\""
      ]
    },
    {
      "cell_type": "markdown",
      "metadata": {
        "id": "5BhCvhS4IrnS"
      },
      "source": [
        "# Step 3: Load the dataset\n"
      ]
    },
    {
      "cell_type": "code",
      "execution_count": 85,
      "metadata": {
        "id": "2MAzuLb7IrnT"
      },
      "outputs": [],
      "source": [
        "import pandas as pd\n",
        "from datasets import load_dataset\n",
        "import json"
      ]
    },
    {
      "cell_type": "code",
      "execution_count": 88,
      "metadata": {
        "id": "eRAVJQ_LIrnT"
      },
      "outputs": [],
      "source": [
        "data = pd.read_csv(\"/content/scraped_articles.csv\")\n",
        "docs = json.loads(data.to_json(orient='records'))"
      ]
    },
    {
      "cell_type": "code",
      "execution_count": 89,
      "metadata": {
        "colab": {
          "base_uri": "https://localhost:8080/"
        },
        "id": "Mnl3fzpgIrnT",
        "outputId": "ff90057c-9157-4180-8376-e0231c0400f3"
      },
      "outputs": [
        {
          "data": {
            "text/plain": [
              "8"
            ]
          },
          "execution_count": 89,
          "metadata": {},
          "output_type": "execute_result"
        }
      ],
      "source": [
        "# Check the number of documents in the dataset\n",
        "len(docs)"
      ]
    },
    {
      "cell_type": "code",
      "execution_count": 90,
      "metadata": {
        "colab": {
          "base_uri": "https://localhost:8080/"
        },
        "id": "OtdcTiOnIrnT",
        "outputId": "6bf77084-472b-4fd9-f33f-709929af093a"
      },
      "outputs": [
        {
          "data": {
            "text/plain": [
              "[{'Category': 'Packaging Beans',\n",
              "  'Scraped Content': 'Share:\\nTwitter\\nFacebook\\nPocket\\nLinkedIn\\nSensorial degradation in green coffee can represent significant financial losses for producers, traders, and roasters. Yet while a certain degree of degradation over time may be inevitable, the material of the coffee packaging can have a significant impact on the shelf life and quality of the beans.\\nJute, high-barrier, vacuum: which is really best? How much of an impact does the material actually have on the beans? And how can we measure this? Let’s take a look.\\nLee este artículo en español\\nMaterial Del Empaque: Cómo Afecta al Café Verde Con el Tiempo\\nAn empty, used jute bag with moisture stains. Credit: Ivan Petrich\\nReviewing Green Coffee Packaging Materials\\nSome of the most common materials are burlap, permeable plastic, high-barrier plastic, and vacuum.\\nBurlap\\nA canvas made from natural fibres extracted from plants, jute or burlap is the most traditional material used for manufacturing coffee bags. It’s an eco-friendly option; the\\nFood and Agriculture Organization of the United Nations\\nsays that it is “100% bio-degradable and recyclable and thus environmentally friendly.” It’s also durable and relatively affordable, being the\\noldest coffee packaging material\\nto date.\\nHowever, it doesn’t provide protection against moisture or oxygen – two elements associated with poorer coffee quality and even defects such as mold. The bags are permeable.\\nMoreover, jute bags traditionally hold 60 kilos of coffee (or, in some countries, 70 kilos). Meanwhile, plastic big bags and container liners can store from 1 to more than 20 tons of green beans. Depending on the lot being stored or shipped, producers may decide to opt for larger and therefore more efficient storage options.\\nPlastic\\nMost commonly made of polyethylene or polypropylene, plastic storage options range from 60-kilo bags to big bags and container liners. The material is cheaper and more resistant to moistures and gases than jute but is still permeable.\\nYou might also like\\nHow Oxygen Damages Green Coffee Quality\\nGreen coffee beans stored in a plastic fabric coffee bag at Cerro Verde, El Manilal, Nayarit, México. Credit: Ana Valencia\\nHigh-Barrier\\nProfessor Flávio Meira Borém is an agronomic engineer specialized in vegetable production. He has dedicated the past few years to studying coffee. He says that a high-barrier bag is “a pack with different compositions and structures which are capable of preventing gas and water exchanges between the inside and the atmosphere… It’s packaging with high impermeability.”\\nWhile more expensive than other types of packaging, a high-barrier bag is designed to maintain the coffee’s quality over time by preventing chemical reactions with moisture and oxygen. You can find high-barrier packaging in a range of sizes, including container liners.\\nHigh-barrier\\nVideplast\\nbags in use at Fazenda Klem. Credit: Nicholas Yamada\\nVacuum\\nWhen coffee is vacuum packed, it is also stored in impermeable plastic bags. Then, in addition to the hermetic isolation of the green coffee, a negative pressure is then created to remove all air.\\nIt’s a common belief that multi-laminate vacuum-packing is the most effective way to preserve green coffee quality. However, with a considerably higher cost, this method is typically only used for samples or micro and nano lots of exceptional specialty coffees.\\nVacuum-packed green coffee samples. Credit: Ivan Petrich\\nDefining Coffee Degradation\\nCoffee degradation is the chemical changes that result in reduced flavors and aromas in the beans, especially sweetness and acidity. Cupping by a professional Q grader according to\\nSCA protocols\\nremains the most common way to measure coffee quality. Yet there are other ways to track degradation.\\nSome of these focus not on the sensorial qualities you can notice when drinking the coffee but instead on the chemical composition of the beans and how that relates to their cup profiles. While this is a relatively new field, these studies allow us to better understand degradation even before it becomes evident to the human tongue and nose. Nuclear magnetic resonance (NMR) and Raman spectrometry are two methods used for this.\\nGiselle Figueiredo Abreu is an agricultural engineer and the author of “Raman spectroscopy: A new strategy for monitoring the quality of green coffee beans during storage,” which she published as part of her post-graduate work, overseen by Prof. Borém.\\nAbreu crossed-referenced sensorial reports from Q Graders with the results from Raman spectroscopy, and used this to analyze green coffee stored in permeable and impermeable packaging over time.\\nThe coffee samples were of natural and pulped natural coffees cupping at over 84 points. Three types of 30-kilo containers were used: permeable paper packaging without a barrier, paper packaging with an impermeable high-barrier plastic bag inside, and vacuum packaging. The coffees were analyzed every three months for 18 months.\\nA high-barrier big bag developed to hold up to 1,200 kilos. Credit:\\nVideplast\\nThe Impact of Bag Material, 0–6 Months\\nAccording to Prof. Borém, in the first six months, the Q graders weren’t able to identify significant differences in the cupping scores for either naturals or pulped naturals, regardless of the choice of packaging. He says, “Cuppers have a very small likelihood of detecting sensorial differences in specialty coffee in the first 6 months. The possibility is very small, the differences are slight.”\\nBut he stresses that the chemical composition was visible at both three months and six months, when they used both NMR and Raman spectrometry, for samples stored in permeable bags. Samples stored in impermeable bags, however, did not have visible evidence of any chemical changes.\\n“We were able to prove that the chemical composition of coffee begins to change early on, and this change will only be noticed by the cuppers after six months of storage,” he explains.\\n“This change is irreversible,” he stresses.\\nRecommendations\\nAlthough cupping scores might not show a difference between permeable packaging, such as jute bags, and impermeable high-barrier packaging, it’s clear that the beans are already beginning to degrade.\\nLeandro Martinoto is P&D Manager at\\nVideplast\\n, a packaging manufacturer with a focus on specialty and\\nfine coffees\\n. He tells me, “We recommend that after processing, coffee should be stored in multi-laminated high-barrier structures. These can be big bags, regular sacks, or liners.”\\nProf. Borém also recommends that for specialty naturals and pulped naturals, “after the resting period… this coffee should already immediately be protected with a high-barrier bag.”\\nWithin the warehouse, big bags and high-barrier liners will help conserve space and reduce costs. For smaller lots and for transportation, high-barrier bags are preferable to jute bags.\\nGreen coffee inside a Videplast high-barrier bag. Credit: Nicholas Yamada\\nThe Impact of Coffee Bag Material, 6–18 Months\\nAfter six months, cupping scores for coffee stored in permeable packaging started to fall. Prof. Borém says, “The sensory difference is already striking.”\\nHe points to a pulped natural coffee originally cupped at 85–86 points and stored in permeable packaging. At nine months, it was cupping below 80 and considered commodity coffee. After 18 months, the coffee fell to below 75. In contrast, in the impermeable bags, it was still cupping at 83–84 points a year later, before dropping to 82 points after 18 months.\\nAs for the different types of permeable packaging – high-barrier and vacuum-packing – the study only found negligible differences.\\nUnlike in the first six months, processing had a significant impact at this stage. Prof. Borém tells me, “These changes were more evident in the natural coffee than in the pulped natural.”\\nRecommendations\\nWhile it’s recommendable that specialty coffee is stored in impermeable bags straight after storage (the same applies for fine cup coffees), after six months, it becomes imperative. This is particularly true for coffees dried with some or all of the fruit still attached to them. Naturals are particularly vulnerable to degradation.\\nIt is also worth remembering that the study was based on coffees in a stable environment. Coffees being transported, especially those going overseas, may be exposed to greater degrees of humidity. They will be at higher risk of degradation without the protection given by impermeable packaging. Container liners may also help to mitigate this risk.\\nRead more in\\nWhy Specialty Naturals Need Strict Quality Control\\nGreen bean samples. Credit:\\nBattlecreek Coffee Roasters\\nWhen it comes to specialty coffee, preserving the beans’ quality for as long as possible is essential. Doing so can protect the value of the coffee as well as the business relationships formed between producers, traders, and roasters. Paying attention to bag material, especially for natural and pulped natural coffees, can significantly reduce bean degradation over time.\\nFound this interesting? Find out\\nHow Oxygen Damages Green Coffee Quality\\nFeature photo: Green coffee in jute bags. Feature photo credit: Neil Soque\\nPlease note: This article has been\\nsponsored\\nby\\nVideplast\\n.\\nWant to read more articles like this?\\nSign up for our newsletter!\\nShare:\\nTwitter\\nFacebook\\nPocket\\nLinkedIn'},\n",
              " {'Category': 'Packaging Beans',\n",
              "  'Scraped Content': 'Menu\\nServices\\nOcean Freight\\nUAE\\nIndia\\nChina\\nUSA\\nSaudi Arabia\\nKuwait\\nQatar\\nTurkey\\nItaly\\nBrazil\\nUK\\nFrance\\nArgentina\\nNetherlands\\nAustralia\\nNew Zealand\\nSouth Africa\\nGermany\\nAir Freight\\nUAE\\nAustralia\\nNetherlands\\nIndia\\nQatar\\nChina\\nItaly\\nUK\\nUSA\\nTurkey\\nArgentina\\nBrazil\\nChile\\nFrance\\nSaudi Arabia\\nGermany\\nSpain\\nCanada\\nCourier\\nLand Freight\\nCustoms Clearance\\nForwarder Alliance\\nDFreight Platfrom\\nHelp Center\\nDFreight Mobile App\\nHow Our Platform Works\\nTake Your Supply Chain to the Next Level. End-to-End Supply Chain Management\\nWatch Demo\\nResources\\nIncoterms\\nCFR\\nCIF\\nCIP\\nCPT\\nDAP\\nDAT\\nDDP\\nDPU\\nEXW\\nFAS\\nFCA\\nFOB\\nCase Studies\\nAmerican Specialty Food\\nRoyal Care Medical Equipment\\nArista Construction Systems\\nAl Mazen\\nKenya and Burki Motors FZCO\\nPVS International\\nMulti Home Furniture\\nE-Guides\\nUAE Shipping Guide\\nCommodities Guide\\nLogistics Manager’s Guide\\nShipping Glossary\\nContainer Tracking\\nExplore World Ports\\nShipping Calculator\\nHow Our Platform Works\\nTake Your Supply Chain to the Next Level. End-to-End Supply Chain Management\\nWatch Demo\\nAbout\\nAbout Us\\nPrivacy Policy\\nContact Us\\nCustomer Care\\nTerms and Conditions\\nHow Our Platform Works\\nTake Your Supply Chain to the Next Level. End-to-End Supply Chain Management\\nWatch Demo\\nBlog\\nCareers\\nLogin\\nA Comprehensive Guide to Shipping Coffee\\nNovember 9, 2023\\nIn this blog post we’ll cover a comprehensive guide to shipping coffee around the world and explain everything you need to know about it.\\nShipping coffee worldwide is a critical aspect of the global coffee trade. As coffee consumption continues to rise and demand for specialty and exotic coffees grows, the need for efficient and reliable shipping methods becomes paramount. For companies seeking to venture into the global coffee market, shipping coffee worldwide presents a significant opportunity for growth and expansion. shipping coffee globally requires careful planning, knowledge of the coffee supply chain, and an understanding of the complexities involved in international logistics.\\nDFreight is an experienced freight forwarder specializing in the shipping of coffee worldwide. With a deep understanding of the intricacies of international logistics, DFreight has established itself as a trusted partner for coffee businesses looking to expand their reach and deliver their products to global markets. Ready to ship your coffee worldwide with confidence and reliability? Partner with DFreight, the experienced freight forwarder that understands the unique requirements of shipping coffee.\\nTable of Contents\\nToggle\\nUnderstanding the Coffee Supply Chain\\nPackaging and Storage of Coffee\\nInternational Shipping Methods for Coffee\\nExporting and Importing Coffee\\nChallenges and Solutions in Shipping Coffee\\nDFreight’s Expertise in Shipping Coffee Worldwide\\nConclusion\\nUnderstanding the Coffee Supply Chain\\nThe coffee industry is a complex and intricate network of processes that spans multiple regions and involves numerous stakeholders. To appreciate the journey of a cup of coffee from farm to consumer, it is essential to understand the coffee supply chain. This encompasses the various stages involved in bringing coffee beans from the hands of farmers to the shelves of coffee shops and homes worldwide.\\nThe coffee supply chain begins with coffee cultivation, predominantly in regions known as coffee belts, such as Central and South America, Africa, and Asia. Smallholder farmers, often working in cooperatives, grow coffee plants and carefully nurture them to produce high-quality cherries. Once the coffee cherries have ripened, they are harvested and undergo processing.\\nAfter processing, the coffee beans need to be sorted, graded, and prepared for export. This involves removing any defects or impurities, categorizing the beans based on size and quality, and packaging them appropriately. Coffee grading systems, such as the\\nSpecialty Coffee Association’s (SCA)\\nprotocol, help determine the quality and value of the beans.\\nOnce the coffee is ready for export, it enters the international trade market. Exporters and importers play a vital role in facilitating the movement of coffee between producing and consuming countries. They handle logistics, negotiate contracts, arrange shipping, and navigate customs procedures to ensure the smooth flow of coffee across borders.\\nUpon arrival in the destination country, coffee undergoes further processing, including roasting, grinding, and packaging, before it reaches consumers through various channels like coffee shops, supermarkets, or online retailers. This final stage of the supply chain involves the efforts of roasters, distributors, wholesalers, and retailers to bring the coffee to market.\\nUnderstanding the coffee supply chain is crucial for all stakeholders involved, as it allows for better decision-making, quality control, and sustainability practices. By appreciating the complexities and challenges at each stage, coffee businesses can forge stronger partnerships, ensure transparency, and ultimately deliver an exceptional coffee experience to consumers worldwide.\\nPackaging and Storage of Coffee\\nPackaging\\nand storage play a crucial role in maintaining the quality and freshness of coffee beans throughout the supply chain. Proper packaging not only protects the beans from external factors but also helps preserve their aroma, flavor, and overall quality. Additionally, appropriate storage conditions are essential to prevent degradation and ensure that the coffee reaches consumers in optimal condition.\\nWhen it comes to packaging coffee, there are several factors to consider. Firstly, the packaging material should provide a barrier against oxygen, moisture, light, and odors, as these elements can deteriorate the coffee’s flavor and aroma. Common packaging materials include foil-lined bags, vacuum-sealed pouches, or cans with airtight seals. These materials help create a protective environment, shielding the beans from external influences.\\nFurthermore, the packaging design should facilitate easy handling, storage, and transportation. It is important to consider the size and shape of the package to optimize space utilization and minimize damage during shipping. Additionally, clear labeling with information such as origin, roast date, and brewing instructions can help consumers make informed choices and enjoy the coffee to its fullest potential.\\nIn terms of storage, coffee beans should be kept in a cool, dry, and dark environment. Exposure to heat, humidity, and sunlight can accelerate the deterioration process and negatively impact the flavor and quality of the beans. Ideally, coffee should be stored in airtight containers away from direct sunlight, heat sources, and strong odors, as coffee beans are highly absorbent and can easily pick up undesirable flavors and aromas.\\nMoreover, it is important to avoid excessive temperature fluctuations, as this can cause condensation inside the packaging and compromise the coffee’s freshness. For larger quantities of coffee, it may be beneficial to store the beans in smaller, airtight containers to minimize exposure to air and maintain freshness.\\nBy paying attention to packaging and storage practices, coffee businesses and consumers can enjoy the full potential of the beans, savoring the unique flavors and aromas that make each cup of coffee a delightful experience.\\nInternational Shipping Methods for Coffee\\nWhen it comes to shipping coffee worldwide, selecting the right shipping method is crucial to ensure the timely and safe delivery of coffee beans. There are several international shipping methods available, each with its own advantages and considerations. Here are some common methods used for shipping coffee globally:\\nOcean Freight:\\nOcean freight is a popular choice for shipping large quantities of coffee over long distances. This method is cost-effective and well-suited for bulk shipments. Coffee beans are typically packed in containers, either\\nFull Container Load (FCL) or Less than Container Load (LCL)\\n, and transported by cargo ships. However, ocean freight can have longer transit times compared to other methods.\\nOcean Freight\\nAir Freight:\\nAir freight is a faster shipping option, ideal for smaller quantities of coffee or when time is of the essence. It allows for quicker delivery, reducing the risk of quality degradation. Air freight is generally more expensive than ocean freight due to the higher transportation costs, but it offers the advantage of shorter transit times.\\nAir Freight\\nExpress Courier:\\nExpress\\ncourier services\\nprovide fast and reliable shipping for smaller coffee shipments. This method is suitable for time-sensitive deliveries or smaller orders. Express courier services usually offer\\ndoor-to-door\\ndelivery with tracking capabilities, ensuring greater visibility and security for the shipment. However, it may be costlier compared to other methods, especially for larger volumes.\\nIntermodal Shipping:\\nIntermodal shipping combines different modes of transportation, such as utilizing both ocean and rail or trucking services. This method can offer a balance between cost-effectiveness and quicker transit times, depending on the specific routes and distances involved. Intermodal shipping provides flexibility and can be tailored to meet the unique needs of coffee shipments.\\nWhen selecting an international shipping method for coffee, it is essential to consider factors such as budget, volume, destination, and delivery requirements. It is also crucial to work with experienced freight forwarders or shipping agents who specialize in coffee logistics. These professionals can provide guidance on the most suitable shipping method, handle documentation, navigate customs procedures, and ensure compliance with international regulations.\\nBy carefully evaluating the available shipping options and partnering with the right logistics experts, coffee businesses can effectively transport their products worldwide, maintaining the quality, freshness, and integrity of the beans throughout the shipping process.\\nExporting and Importing Coffee\\nExporting and importing coffee is a crucial part of the global coffee supply chain, connecting coffee-producing regions with coffee-consuming markets around the world. The process involves various steps, documentation, and considerations to ensure the smooth and efficient movement of coffee across borders. Here is an overview of exporting and importing coffee:\\nExporting Coffee:\\nQuality Control:\\nCoffee exporters work closely with coffee farmers and cooperatives to ensure that the coffee meets the required quality standards. This involves quality assessment, grading, and adherence to specific certifications, such as Fair Trade or Organic.\\nProcessing and Packaging:\\nExporters oversee the processing and packaging of coffee beans, ensuring that they are properly sorted, cleaned, and packaged for export. This includes selecting appropriate packaging materials and labeling the coffee bags with necessary information.\\nExport Documentation:\\nExporters handle the necessary documentation for customs clearance and international trade compliance. This includes documents like\\ncommercial invoices\\n,\\npacking lists\\n,\\ncertificates of origin\\n, phytosanitary certificates, and any required export permits.\\nLogistics and Shipping:\\nExporters work with freight forwarders and shipping companies to arrange the transportation of coffee from the origin country to the destination. They handle logistics, negotiate contracts, and ensure proper packaging and handling to protect the quality of the coffee during transit.\\nImporting Coffee:\\nSourcing and Procurement:\\nCoffee importers search for suitable coffee suppliers and establish relationships with producers or exporters in coffee-producing regions. They evaluate the quality, flavor profiles, and sustainability practices of different coffees to meet the demands of their target market.\\nImport Documentation:\\nImporters handle the necessary import documentation, including customs declarations,\\nimport licenses\\n, and compliance with regulatory requirements of the destination country. They ensure the accuracy and completeness of these documents for smooth customs clearance.\\nCustoms Clearance:\\nImporters work with customs brokers or agents to facilitate the smooth clearance of coffee through customs. They provide the required documentation, pay any applicable\\nduties or taxes\\n, and ensure compliance with import regulations.\\nDistribution and Sales:\\nImporters distribute the imported coffee to various channels. They may also provide marketing and promotional support to build awareness and demand for the coffee within their target market.\\nThroughout the exporting and importing process, it is essential for coffee businesses to stay informed about international trade regulations, market trends, and sustainability practices. They must also ensure transparency, ethical sourcing, and fair trade practices to contribute to a sustainable and thriving coffee industry.\\nChallenges and Solutions in Shipping Coffee\\nShipping coffee comes with its fair share of challenges, but there are several solutions to overcome them. One significant challenge is maintaining the quality and freshness of the coffee during transit, particularly when shipping over long distances. To address this, proper packaging and storage techniques, such as vacuum-sealing and using moisture-resistant bags, can help preserve the coffee’s flavor and aroma.\\nAnother challenge is navigating customs procedures and regulations, which can vary from country to country. Employing\\nexperienced freight forwarders\\nwho specialize in coffee logistics can ensure compliance with these requirements.\\nAdditionally, selecting the right shipping method, whether it’s ocean freight, air freight, or express courier, based on the volume, destination, and time sensitivity of the shipment can help optimize the shipping process.\\nBy addressing these challenges with appropriate solutions, coffee businesses can successfully ship their products worldwide while maintaining the quality and integrity of the coffee beans.\\nDFreight’s Expertise in Shipping Coffee Worldwide\\nDFreight is an experienced freight forwarder that specializes in\\nshipping perishable goods\\n, including\\nfoods\\n,\\nchocolate\\n, coffee, and more, globally. With a strong emphasis on quality and reliability, DFreight offers efficient shipping solutions via air or ocean freight. Their\\nonline tracking\\noption provides real-time visibility, allowing customers to monitor their shipments throughout the entire journey.\\nWhen it comes to shipping coffee, DFreight understands the unique requirements to preserve its freshness and quality. DFreight’s expertise in handling perishable goods ensures that the coffee is carefully stored and transported under controlled conditions, minimizing the risk of degradation.\\nDFreight offers both air and\\nocean freight options\\nfor shipping coffee. Air freight is an excellent choice for time-sensitive deliveries, ensuring that the coffee reaches its destination quickly. On the other hand, ocean freight is a cost-effective solution for larger volumes of coffee, ideal for businesses looking to ship coffee in bulk.\\nWith their extensive network of carriers and partnerships with trusted shipping lines and\\nairlines\\n, DFreight can provide competitive rates and reliable transit times for shipping coffee worldwide. Their experienced team of professionals assists in navigating customs procedures, ensuring compliance with international regulations and trade requirements.\\nBy choosing DFreight as the freight forwarder for coffee shipments, businesses can benefit from their expertise in handling perishable goods, their commitment to quality, and their reliable shipping options. With the added advantage of online tracking, customers can stay informed about the progress of their coffee shipments, providing peace of mind and confidence in the shipping process.\\nConclusion\\nIn conclusion, shipping coffee presents unique challenges due to its perishable nature and the need to maintain its quality and freshness. However, with the expertise of experienced freight forwarders like DFreight, businesses can overcome these challenges and successfully ship coffee worldwide. By utilizing air or ocean freight options, and ensuring compliance with customs procedures, DFreight offers efficient and reliable solutions for transporting coffee.\\nWith their online tracking option, customers can have real-time visibility of their shipments, providing peace of mind and confidence in the shipping process. With DFreight’s commitment to quality and their understanding of the intricacies of shipping coffee, businesses can confidently expand their reach and connect coffee producers with consumers around the world.\\nHow should I package coffee for international shipping?\\nTo ensure the freshness and quality of the coffee during international shipping, it is recommended to pack it in airtight bags or containers. Additionally, use cushion packaging or bubble wrap to protect the coffee from damage during shipping.\\nAre there any restrictions on shipping coffee internationally?\\nYes, different countries have varying regulations and restrictions on shipping coffee. Some countries may have import restrictions or require specific documentation, such as certificates of origin or health certificates. It is crucial to check the regulations of the destination country before shipping.\\nAre there any additional costs involved in shipping coffee internationally?\\nYes, when shipping coffee internationally, there may be additional costs such as customs duties, taxes, and import fees.\\nShare\\nDon’t Miss Updates on the Shipping and Logistics Industry\\nAir transportation is a convenient and fast way to move cargo and is suitable for small and large companies as well as individuals.\\nYou Might Also Like\\nThe Changing Face of the Freight Industry: From ISS to Ground\\nHow to Set up an Import/Export Business in Dubai\\nRestricted Items You Can’t Easily Import Into the UAE\\nblog archive\\nShipping Fitness Equipment to/from Dubai\\nShipping Solar Panels for a Sustainable Future\\nA Comprehensive Guide to Shipping Coffee\\nMulti Home Furniture and DFreight: A Logistics Success Story\\nShipping Bottled Water Worldwide: A Comprehensive Guide\\nSearch\\nSearch\\nCommodities\\nAn Ultimate Guide to Shipping Metals and Minerals\\nAn Ultimate Guide to Shipping Generators and Power Systems\\nAn Ultimate Guide to Shipping Electrical and Plumbing Equipment\\nMost Popular\\nAn Insight Into BMW Supply Chain Strategy\\nBreaking Down McDonald’s Supply Chain Strategy: A Recipe for Success\\nAn Insight into Unilever Supply Chain Strategy\\nPrivacy Policy\\nCopyright © 2021 Dfreight.org\\nSafe Web\\nContact Us\\nOur customer support team is available for your assistance. You can give us a call or send us an email.\\nInfo@Dfreight.org\\n402, Emaar Square Bldg 4, Downtown, Dubai\\nQuick Menu\\nAbout\\nContact Us\\nCareers\\nCopyright © 2021 Dfreight.org'},\n",
              " {'Category': 'Packaging Beans',\n",
              "  'Scraped Content': \"Home page\\nBlog\\nCoffee Packaging: Trends and Ways to Keep Your Coffee Fresh\\nCoffee Packaging: Trends and Ways to Keep Your Coffee Fresh\\nMaciej Zajac\\n|\\n12 October 2023\\n|\\n7 min read\\nSubscribe now! Receive 5% discount.\\nBy signing up for our newsletter and you’ll get 5% off your first order.\\nPlease enter a valid email address\\nI agree to Packhelp.com\\nTerms and Conditions\\nand\\nPrivacy Policy\\n.\\nPlease select an option\\nSubscribe\\nsubscribed\\nGreat!\\nYou're now subscribed!\\nIn this article:\\nCoffee's distinctive edge: Why it's not just another food product\\nThe best coffee packaging solutions for fresh coffee\\nBeans on the move: Optimising coffee delivery for peak freshness\\nInspiration station: coffee brands crushing the packaging game\\nWhat's the best coffee packaging for me?\\nAh, coffee.\\nNothing beats that first sip of fresh coffee in the morning.\\nThe comforting aroma. The warmth of the mug. A taste that awakens your senses.\\n\\u200b\\u200bJust picture it: steam rising from a freshly poured cup. The rich smell fills the air. And then that first indulgent sip.\\nIt's a cherished ritual for many. And an essential part of the day for countless Europeans. In fact, Europe is the world's largest coffee market. This coffee-loving continent made up\\n32%\\nof global coffee consumption in 2021.\\nBut there's nothing worse than going in for that first sip of nirvana only for your coffee to taste old. Stale. Flavorless. Instantly your day is off to a bad start. And the aftermath? A disappointed customer who'll likely never buy from that same coffee brand again.\\nSo how can you prevent the dreaded fate of stale coffee?\\nIt all comes down to \\u200cproper\\ncoffee packaging\\n. From harvest to first sip, you'll guarantee the best quality coffee encased in your branding.\\nIn this article, you'll learn:\\nFactors that play a pivotal role in preserving coffee's freshness.\\nThe best coffee packaging solutions on the market.\\nHow to streamline the coffee delivery process.\\nCoffee bag design inspiration from top brands.\\nCoffee's distinctive edge: Why it's not just another food product\\nShipping food is a complicated process. You must find the proper packaging to keep it fresh and preserve the flavour. But coffee takes this requirement to another level.\\nThink of it this way. You can package a loaf of bread in a clear plastic bag, add a twist tie and call it a day. Coffee, on the other hand is not that simple. If you walk down the coffee aisle, you'll see:\\nOpaque, vacuum-sealed bags\\nWhole bean vs. ground coffee\\nDegassing valves and seals\\nAirtight coffee tins\\nWhy? At its core,\\ncoffee is a symphony of flavours and aromas\\n. But what grants it its rich character and flavour profile makes it challenging to preserve.\\nLet's break down the main factors that keep coffee fresh.\\nOxygen: The silent flavour thief\\nFreshly roasted coffee beans are a treasure trove of flavours. However, expose them to oxygen, and you'll witness a slow, heartbreaking fade of those intricate notes.\\nIn other words,\\noxidation is coffee's natural enemy\\n. It turns those flavourful beans stale, flat, and lifeless.\\nMoisture: The coffee bean's bane\\nMoisture and coffee have a love-hate relationship. While coffee beans require (a lot of) moisture in the growing process, it becomes an enemy immediately after roasting.\\nMoisture can compromise the bean's integrity\\n. It leads to mould, off-flavours, and shorter shelf life.\\nLight: more foe than friend\\nLike our skin, coffee beans are sensitive to light. Prolonged exposure can break down the essential oils that give coffee its distinctive flavour.\\nEnter the unsung hero: coffee packaging.\\nYour packing is more than a vessel to hold the beans.\\nCoffee packaging\\nacts as a fortress. It shields your beloved brew from the elements.\\nIt guarantees that every sip resonates with the rich flavours and aromas that coffee aficionados cherish.\\nSource\\nThe packaging might seem like one of the final steps in the \\u200cgrand scheme of your coffee's journey from the farm to the cup. But this last line of defence determines whether your morning brew is a fresh revelation or a flat disappointment.\\nRemember, coffee isn't just another food product. It's an experience. It's a lifestyle. And preserving that experience demands respect, knowledge, and the right packaging.\\nTake note that another essential part of the importance of packaging is how customers feel when they see it. Once it reaches the last stage of becoming a coffee product, ensure that you have an\\neffective coffee shop logo\\nthat expresses the quality of your efforts.\\nPackaging is also the perfect place to\\nshow off your brand's personality\\n. More on that later.\\nThe best coffee packaging solutions for fresh coffee\\nHere are the\\nbest coffee packing solutions\\nto preserve your finest roast.\\nGood: doypacks with resealable zippers\\nDoypacks are a favourite for a reason. Their resealable zippers make accessing your coffee convenient once opened. And it provides a tight seal to keep out unwanted elements.\\nThis straightforward solution is a popular choice for coffee brands. Especially\\nrecyclable paper doypacks\\nare cost-effective and do a good job of keeping your coffee fresh. The\\nflat bottoms are ideal for displaying coffee\\non retail store shelves or in your customers' pantry.\\nAnd that's also why you'll often find this packaging in most local coffee shops and roasteries.\\nBetter: vacuum-sealed bags and tins\\nWant to extend your coffee's shelf life? Look no further than vacuum-sealed bags and tins.\\nBy removing air from the equation, vacuum-sealed packaging helps maintain your coffee's freshness for longer periods. The result? A consistent flavour with each brew.\\nTins and cans are a popular choice for craft roasteries\\n. They're unique. They block out unwanted light. And they provide some of the best airtight seals. So if you want to\\nstand out from the masses\\n, a\\ncustom can\\ndesign is a solid option.\\nWilliams Sonoma\\n, an American gourmet food and cookware brand, packages its coffee the same day it's roasted. Then it vacuum-packs the coffee beans in tins to ensure optimal freshness.\\nBetter yet, this coffee bean packaging stands out from the rest of the bags on the shelves. And their beans are less likely to face damage during shipping.\\nBest: degassing valves\\nFreshly roasted coffee beans release carbon dioxide. Without an outlet, this could compromise the package and the bean quality.\\nDegassing valves solve this problem by letting the gas out without allowing external air inside the bag.\\nAnd although this sounds like a wild machine, it's quite the opposite. It's so small that most people don't realize it's a core part of a coffee bag.\\nIt looks like a small button. Sometimes, it's called an\\naroma valve\\nor coffee valve b\\necause you can smell the coffee's unique aroma through the valve.\\nHawaii is the most isolated population centre in the world. They know a thing or two about protecting the freshness of their 100% Kona coffee during transit.\\nMountain Thunder Coffee Plantation\\nsays coffee lovers should never buy a bag of coffee without a degassing valve. Why?\\nDegassing valves are the key components to preserving coffee flavours and freshness.\\nWhole coffee beans maintain their freshness for up to 12 months when stored in:\\nNitrogen-flushed bags with a one-way valve\\nA basic\\npouch equipped with a degassing valve\\nNitrogen flushing swaps out oxygen in food packaging for nitrogen. This method preserves food quality, as nitrogen remains neutral. It doesn't affect texture, flavour, or taste.\\nNitrogen forms a protective barrier around products during transport and shelf storage.\\nConversely, vacuum sealing simply extracts all the air from the package before sealing. It doesn't introduce any gasses. The takeaway? Nitrogen flushing is a superior method for packaging coffee over vacuum sealing.\\nSustainable packaging: biodegradable and compostable bags\\nToday, customers are increasingly eco-conscious. They actively seek out retailers who align with their values. And recent data support this claim, with\\n82%\\nof consumers willing to pay more for sustainable packaging.\\nBiodegradable and compostable bags\\nare a quality sustainable packaging solution\\nfor an eco-conscious consumer base.\\nCompostable doypacks with resealable zipper\\nWhen you pick these\\neco-friendly options\\n, you're preserving the quality of your product. And you build a brand image that resonates with consumers — protecting our planet.\\nA sustainable choice today can lead to increased customer loyalty tomorrow.\\nKeep this in mind as you navigate your coffee packaging decisions.\\nConsistent coffee packaging\\nWhen you piece together a hodge podge of various packaging solutions, chances are your\\nbranding is not going to be consistent\\n.\\nThat's why looking for a single\\ncoffee packaging supplier\\nis worth going the extra mile.\\nWhether you're a\\ncoffee subscription service\\nor a basic coffee shop,\\nyou want your packaging to be uniform and representative.\\nIn order to verify the quality of your supplier's packaging, order samples of your\\nprinted mailer boxes\\n,\\nresealable pouches,\\ncustom labels\\n, or anything else you might need.\\nTry out the materials. Compare the vividness of the print. That's how you know all the pieces together create a cohesive whole.\\nOrdering a consistent coffee packaging set from a single supplier can:\\nEnhance the\\nunboxing experience\\n.\\nElevate your brand's perception.\\nSimplify the shipping process and reduce your carbon footprint.\\nPro tip:\\nUse mailer boxes for convenience and protection of your coffee pouches and cans\\n. With sturdy exterior boxes to protect the beans, your coffee will reach its destination in optimal condition.\\nThe result? The best cup of coffee. And happy customers.\\nBeans on the move: Optimising coffee delivery for peak freshness\\nWith \\u200cproper packaging (and storage), you can increase the shelf life of your coffee. Here's a quick and fast guide:\\nGround coffee in an unopened bag:\\n2–4 months\\nRoasted whole coffee beans in a vacuum-sealed bag:\\n3–5 months\\nWhole coffee beans in an airtight container:\\n12 months\\nThat's great, right? You have a decent amount of time to get your coffee into the hands of your consumers. But coffee enthusiasts want the best of the best. They want coffee a few days after it's roasted.\\nWhile the type of coffee packaging you choose is important, so is the shipping process. Let's dive into how to make that more efficient.\\n1. Streamline your entire supply chain process\\nFrom harvesting to shipping, there are many moving parts in the coffee supply chain. And any serious kinks can impact your ability to deliver the highest quality coffee.\\nStart by evaluating your current suppliers.\\nAre they reliable and timely?\\nAre there any bottlenecks in procurement?\\nInvest in the proper\\nsupply chain analytics\\ntools to help you uncover your problem areas. You can access real-time insights into inventory levels, on-time delivery metrics, and order costs.\\nFor example,\\n\\u200casset tracking software\\nallows you to check the location and condition of coffee shipments at any given moment.\\nThat's right.\\nYou can trace coffee packages from origin to destination.\\nThese insights help identify potential issues or delays in real-time. That way, you can take prompt corrective actions as needed.\\nSo wave goodbye to supply chain mishaps with increased transparency and hello to coffee that stays fresh and delicious. Oh, and don't forget about the potential cost savings.\\n2. Find the right delivery partner\\nNext, it's time to focus on logistics. The goal?\\nOptimise routes for efficient deliveries\\n. That way, the journey from your packing facility to the store shelves (or customer's doorstep) is as direct as possible.\\nCollaborate with transportation partners who prioritise punctuality and care in handling your products. Using an\\nexpress courier service\\nthat offers same-day delivery reduces transit time. You can guarantee that your coffee is always fresh upon arrival.\\nAnd the best part?\\nAccording to\\nresearch from GoPeople\\n,\\n88% of customers are willing to pay for same-day delivery. It makes them more likely to shop online.\\nWith the right delivery partner, your biggest coffee fans get the freshest batch every time.\\nThe higher price tag for same-day delivery doesn't dent your margins. And you build a competitive edge. It's a win-win.\\nInspiration station: coffee brands crushing the packaging game\\nPackaging is an important part of your brand identity. Follow the leads of these coffee brands to learn how to step up your coffee packaging game.\\n1. Chamberlain Coffee\\nStarted by YouTuber Emma Chamberlain,\\nChamberlain Coffee\\nis an ode to passion and brand authenticity.\\nOne of the first things you notice about Chamberlain Coffee's packaging is its chic, modern, and colourful aesthetic. It is perfectly complemented with a creative\\ncoffee logo\\n.\\nThe\\ncoffee bag design\\nhits the nail on the head for their target market: Gen Z.\\nThe designs often mirror Emma's personal style, featuring hand-drawn doodles and playful graphics. They also use compostable packaging, leading the charge in sustainable coffee packaging practices.\\nThis is a seamless blend of sustainability, personalized charm, and contemporary design. It not only preserves the freshness of the coffee inside but also crafts a\\nmemorable unboxing experience\\nfor consumers.\\nChamberlain Coffee has seen great success since its launch in 2020. With $15 million in funding, a ready-to-drink product on Walmart shelves, the sky's the limit for this trendy coffee brand.\\nThis is a seamless blend of sustainability, personalised charm, and contemporary design. It not only preserves the freshness of the coffee inside but also crafts a\\nmemorable unboxing experience\\nfor consumers.\\nChamberlain Coffee has seen great success since its launch in 2020. With $15 million in funding, a ready-to-drink product on Walmart shelves, the sky's the limit for this trendy coffee brand.\\n2. Dak Coffee Roasters\\nInspired by the real Italian Espresso he first tasted in Milan, Louis-Philippe Boucher realised that coffee is a whole universe of flavours, roasts and brews. He founded\\nDak Coffee Roasters\\nto celebrate the ritual and explore the experience of coffee drinking.\\nDak Coffee Roasters are a company offering monthly subscriptions or one-time buys of the finest filter and espresso coffees from all over the world.\\nTheir mission is to deliver the most amazing coffee experience to anyone who wants it.\\nThis means inclusive branding - and simple is the way to do it.\\nThe\\nwhite mailer box\\nwith a basic graphic and logo is a refreshing, minimalistic approach to coffee packaging. It stands out in the hot beverage industry, full of mouth-watering images and intense colours.\\nDak Coffee Roasters communicate that for them, it's all about the coffee and the person drinking it, not fancy marketing tactics.\\nBut you need high-quality print and packaging material to achieve such a message.\\nThe company only sells coffee that's ethically sourced. They work sustainability into every aspect of their business - from fair wages to eco-conscious packaging. And this speaks through their unique, plain white box with eco print.\\nIt's a masterclass in minimalistic elegance\\n. Black and white. Devoid of distractions and frills. It is a testament to their philosophy: sometimes, simplicity speaks volumes.\\n3. Mother Tongue Coffee\\nIn the growing industry of artisanal coffee,\\nMother Tongue Coffee\\nhas found itself a niche. It combines seasoned expertise with a deep commitment to ethics.\\nJen Apodaca, the brain behind Mother Tongue, has been roasting since 2005. Her unparalleled roasting skills have graced renowned names like Intelligentsia and Blue Bottle.\\nOne glance at Mother Tongue's packaging has you captivated.\\nIt's funky. It's distinctive. And it has a flair that's hard to forget. The design ethos reflects Jen's journey and vision, blending quirkiness with authenticity.\\nNeed inspiration? Check out these amazing food packaging designs\\nMother Tongue believes in a sustainable business approach. Their mission is clear: coffee isn't a charity. It's a business. And for it to thrive, every stakeholder, from the farmer to the consumer, should benefit.\\n4. Ten Belles\\nAt the heart of\\nTen Belles\\n' roasting operations lies the Loring Falcon. It's a state-of-the-art roaster that perfectly embodies the brand's commitment to the environment. With minimal gas usage and emissions, it's a testament to Ten Belles' dedication to sustainable roasting.\\nNow, here's where Ten Belles truly shines: their packaging. Ten Belles offers a delightful deviation in an era saturated with single-use packages. They sell their beans in bulk across all their shops.\\nThe goal is to reduce packaging waste.\\nThat leads to the crown jewel of their coffee packaging approach:\\na refillable tin\\n. It allows customers to engage in an eco-friendly shopping experience.\\nThey urge customers to either purchase their signature tins or come prepared with their own containers. It's a conscious move that reduces waste and brings a unique aesthetic appeal.\\n5. Morgon Coffee Roasters\\n\\u200b\\u200bIn the vibrant heart of Gothenburg, during the summer of 2018, a fresh coffee narrative began to percolate.\\nMorgon Coffee Roasters\\nis a recent entrant in the coffee industry. But the seasoned trio behind it bring nearly 40 years of combined coffee wisdom.\\nFor Morgon, the journey from bean to cup is an enchanting one. And they want every customer to feel that same allure. Enter \\u200ctheir packaging — a harmonious blend of aesthetics and functionality.\\nEach bag, short and stocky, is a canvas. Abstract images splash across them.\\nEvery package looks like it belongs at an art museum.\\nThey've crafted a world where art, experience, and flavour intertwine effortlessly.\\nWhat's the best coffee packaging for me?\\nDeciding on the ideal coffee packaging requires introspection and market awareness. The right choice isn't just about aesthetics or functionality.\\nIt\\u200c reflects your brand's values and objectives.\\nSource\\nAsk yourself these questions:\\nAm I willing to invest in meticulous packaging techniques like nitrogen flushing?\\nWhich takes precedence: flavour protection or branding appeal?\\nHow important is sustainability to my brand's mission?\\nWhat are my financial constraints?\\nYour answers will guide you toward packaging solutions that align with your brand's ethos and logistical needs.\\nAnd if you need help along the way, connect with\\nPackhelp\\n. Our team can provide competitive quotes. And our seasoned packaging engineers are available around the clock. They're ready to share insights on what works best for the coffee industry.\\nWhat packaging options will you choose to make a mark in this growing industry?\\nAuthor Bio:\\nKelly is a self-proclaimed coffee addict who might love her morning java more than most acquaintances. \\u200b\\u200bWhen she's not exploring every coffee shop in town, she's writing content for all the unsuspecting souls of the internet from her perch at\\nHome & Jet\\n. If you read something mediocre online, there's a decent chance Kelly had her caffeinated fingers in it.\\nMaciej Zajac\\nCo-founder and COO of Packhelp. With a strong background in business development, Maciej drives Packhelp's operational excellence and supply chain. Passionate about optimising processes, he ensures that Packhelp delivers top-notch packaging to businesses of all sizes.\"},\n",
              " {'Category': 'Packaging Beans',\n",
              "  'Scraped Content': 'What Types of Coffee Packaging Do You Need?'},\n",
              " {'Category': 'Packaging Beans',\n",
              "  'Scraped Content': \"From bags, valves, designs, printing, and stickers; coffee packaging can feel like a big mess! Learn more about coffee bag packaging & design.\\nWhen shopping for coffee, consumers consider everything from the roast level to the brand's location.\\nBut the most influential factor?\\nCoffee bag design and packaging.\\n70% of consumers\\nreport that packaging design has a major influence on their decision to buy a product. Researchers tend to give packaging anywhere from\\n30 to 90 percent\\nof the credit for a customer's purchasing decision.\\nWhether you're selling your coffee in\\ngrocery stores\\n, your shop, or\\nonline\\n, your coffee bag design is one of the most meaningful interactions a person has with your brand.\\nNot only does your coffee packaging design help raise brand awareness, it also helps your coffee business stand out from the crowd and attract more coffee lovers and customers.\\nIn our guide, we'll show you everything you need to know about designing your coffee bags, including:\\n3 components your coffee packaging needs for quality, freshness, and compliance\\nThe 4 important packaging decisions every roaster must make\\nHow to create a coffee bag design that sells\"},\n",
              " {'Category': 'Packaging Beans',\n",
              "  'Scraped Content': '4 Factors to Consider When Selecting Coffee Packaging\\nDanielle Ohl\\nApril 17, 2018\\nYour coffee packaging is your brand ambassador,\\xa0a communicator of your company values, and what keeps your coffee fresh. It is a vital piece of your marketing and ensures the quality of your product on its journey to reach your loyal consumers. So don\\'t treat it as an afterthought; give your coffee packaging the attention it rightfully deserves!\\nDownload our free Coffee Production Calculator\\nto uncover hidden inefficiencies that could be killing your business >>\\nHere are 4 factors to consider:\\n1. Types of coffee packaging bags\\nAs you look at store shelves in the coffee section, you will likely see 5 main types of coffee packaging bags, shown below:\\nFlat Bottom Bag\\nThe\\nflat bottom coffee bag\\nis one of the most popular packaging formats in the coffee industry. It features a prominent shelf presence and is able to stand unassisted for maximum impact. Often the top of the bag is folded over or completely down into a brick shape and sealed.\\nRead about how\\xa0\"Death Wish Coffee\"\\xa0uses VFFS packaging automation to create their iconic coffee bags >>\\nQuad Seal Bag\\nA\\nquad seal bag\\nis also very popular in the coffee industry. This bag has crisp side seals, can stand unassisted, and is attention-grabbing for its modular look. This coffee packaging bag type holds its shape very well and can support heavier fills of coffee. The quad seal bag usually is more costly than other bag styles.\\nPillow Bag\\nThe most economical and simplistic bag type, the\\npillow bag\\nis often used for fractional, single-serve coffee packaging formats. This bag style lays flat for display purposes. The pillow bag is by far the least costly to produce.\\nBag-in-Bag (BIB)\\nFractional packs of coffee can be packaged\\nbag-in-bag\\ninto a larger package\\xa0for foodservice or bulk sale purposes. Modern coffee packaging machines can form, fill, and seal the smaller frac packs and subsequently\\xa0package those into a larger outer wrap on a single\\nbag-in-bag machine\\n.\\nDoypack\\nWith a flat top and a rounded, oval-shaped bottom,\\xa0the\\nDoypack\\nor stand-up pouch differentiates itself from more typical coffee package types. It gives the consumer an impression of a premium, small-batch product. Often fitted with zippers, this coffee packaging bag type is beloved by consumers for its convenience. This bag style\\xa0usually costs more than other more simple bag types.\\nWhile stand-up pouches can be created on form fill seal machines, they are much better looking when purchased premade, and\\xa0then filled and sealed on an\\nautomatic pouch packing machine\\n.\\nRead about how Bean Box uses a coffee pouch\\xa0machine to fill and seal their premium kraft coffee bags >>\\n2. Coffee freshness factors\\nWill your product be distributed to stores, cafes, businesses, or shipped to end-users nation- or worldwide? If so, your coffee will need to stay fresh until the very end. To accomplish this,\\nModified Atmosphere Packaging (MAP)\\noptions can be used.\\nThe most popular modified atmosphere packaging system is\\nONE-WAY DEGASSING VALVES\\n, which allow the natural build-up of carbon dioxide in freshly roasted coffee an escape route while not letting\\nCOFFEE FRESHNESS KILLERS\\nlike oxygen, moisture, or light inside the bag.\\nOther modified atmosphere packaging options include nitrogen gas flushing, which displaces oxygen in the coffee bag before filling, and use of high-barrier packaging materials. You can choose to use one type of MAP in your coffee bean packaging design or many, depending upon your needs. For most modern coffee packaging applications, all of the above are recommended.\\n3. Coffee packaging convenience options\\nWith a busy consumer base that values their time above all,\\nCONVENIENCE PACKAGING\\nis all the rage in the coffee market.\\nCoffee roasters should consider the following options when catering to modern customers:\\nModern consumers are less brand loyal than ever before\\xa0and seek to purchase smaller, trial-sized packages of coffee as they explore their options.\\nClick to Tweet\\nZippers\\nOne of the most popular recloseable options, zippers mean a consumer can reuse the product after opening. Zipper reclosures provide an effective barrier against staling.\\nTies or tape\\nPopular in the coffee industry are tin tie and tape down closures. These reclosable options can be employed either independently or together on your coffee bean packaging machine. This choice is not as airtight as a zipper but is still a popular look for stand-up coffee packaging bags.\\nClear labeling\\nThe Perfect Daily Grind attests that \"you need a good label to communicate the origin(s), processing method, [and] roast date...of your beans.\" Customers want the whole story, in plain language, in plain sight.\\nMinimal package design\\nConsumers are already overwhelmed with choices, visuals, and data. Make it easy for them to select your coffee with minimal use of graphics and bold, solid patterns in your coffee bag packaging design.\\n\\'Try me\\' package sizes\\nBulk packages of coffee still have their place in the market, don\\'t get us wrong. But modern consumers are less brand loyal than ever before, and they want to purchase smaller, trial sized packages of coffee as they explore their options.\\n4. Coffee packaging process\\nWill you be hand-filling your coffee bags or are you considering automating with\\nCOFFEE PACKAGING EQUIPMENT\\n? If you plan to hand-fill your coffee bags, The Perfect Daily Grind recommends you choose a bag style that has a wide enough top opening to accommodate your scoop or filling apparatus. The Doypack may not be ideal in this situation as it only has two corners at its top opening, limiting the amount of room available for a filling tool. Compare this with the quad seal or flat bottom bag, which usually have four corners at their top openings and much more room to accommodate filling tools.\\nAlso note that hand-packing, while it may have a lower cost to entry, seriously limits your throughput, accuracy, and ability to ramp up production on a moment\\'s notice. If you already use - or are considering purchasing - automated\\nCOFFEE BAGGING EQUIPMENT\\n, your bag options are almost unlimited.\\nMost modern coffee packing machines can easily accommodate multiple bag styles and sizes. Fill weights are no longer a worry as automated filling solutions can operate at a high level of accuracy. Your throughput can increase by leaps and bounds and if you suddenly receive a large order, scaling your production up is no biggie.\\nNeed help planning your coffee production?\\nHow long has it been since you\\'ve assessed your coffee production and packaging processes? There may be hidden inefficiencies\\xa0present that are killing your business\\n(and your roast)\\n.\\nDownload our\\nfree Coffee Production Planning Tool\\nfor a comprehensive check-up:\\nGet your FREE coffee production planner >>\\nOriginally published 3/28/2017, updated 4/17/2018\\nRelated Blog Posts\\n3 unexpected ways COVID-19 is impacting the packaging industry\\n7 ways COVID-19 is changing the packaging industry\\nUpdates from Viking Masek about the coronavirus'},\n",
              " {'Category': 'Shipping Beans',\n",
              "  'Scraped Content': 'Table of contents\\n1. Shipping Coffee\\n2. Shipping Methods\\n3. Awards and Endorsements\\n4. Choosing Your Carrier\\n5. Choosing FreightCenter\\n6. The Coffee Supply Chain Unveiled\\n7. Packaging\\n8. Palletization\\n9. Containerization\\n10. Temperature Control\\n11. Challenges and Solutions\\n12. Shipping Cost\\n13. Shipping with FreightCenter\\n14. Coffee Shipping FAQS\\nShipping Coffee\\nCoffee is one of the largest commodity markets in the world, with the morning pick-me-up of many coming in second next to oil! Every year, 7 billion kgs of coffee are traded, and 133 million bags are exported, creating a 28 billion dollar market. The global coffee market was valued at over 88 billion dollars in 2023, with the growth forecast predicting a 4.6% rise every year until 2028. Coffee consumption and the demand for specialty and exotic coffee continue to rise. This increase in demand prompts the need for reliable and efficient shipping methods. Shipping coffee globally presents many opportunities for growth and expansion.\\nShipping Methods\\nChoosing the right shipping method for coffee beans is crucial, and various factors come into play, such as cost, transit time, destination, volume, and any specific requirements for maintaining the coffee’s quality during transit.\\nAir freight\\nis ideal for time-sensitive shipments, ensuring fast transit to preserve the coffee’s freshness. Often suitable for smaller quantities.\\nGround freight\\nsuits smaller quantities and shorter distances, providing a cost-effective solution. Ocean freight, while slower, is the most economical for large volumes, allowing beans to undergo a natural maturation process that enhances flavor.\\nOcean freight\\nis the cheapest option, allowing collaboration with others heading to the same destination and regulating temperature in full containers.\\nCargo ships commonly transport coffee beans, whether packed in Full Container Load (FCL) or Less than Container Load (LCL).\\nA potential option for specialty roasters or farmers is a refrigerated container to help control temperature and moisture levels.\\nExpress courier services\\nare excellent for time-sensitive and small orders, providing door-to-door delivery with tracking abilities. Specialty roasters or farmers may consider refrigerated containers for temperature and moisture control.\\nMastering the intricacies of the shipping process is essential to ensure coffee beans reach their destination with aroma, flavor, and quality intact, from meticulous packaging to strategic transportation.\\nAt\\nFreightCenter\\n, our industry expertise, extensive carrier network, comprehensive logistics support, and commitment to the safe transportation of coffee make us the ideal company to trust for shipping coffee. Our dedication to customer satisfaction and efficient delivery aligns perfectly with the industry’s unique requirements.\\nTable of Contents:\\nCoffee Supply Chain\\nImports & Exports\\nPackaging\\nPalletization\\nContainerization\\nTemperature Control\\nChallenges and Solutions\\nShipping Costs\\nConclusion\\nFAQ'},\n",
              " {'Category': 'MCMC Regulation',\n",
              "  'Scraped Content': \"NATIONAL POLICY OBJECTIVES\\nThe Commission has been entrusted to promote the following policy objectives for the postal services industry:\\nTo safeguard the provision of affordable and quality universal service;\\nTo promote the growth of a competitive and innovative postal services industry;\\nTo establish Malaysia as a major global centre and hub for postal services;\\nTo regulate for the long-term benefit of the user;\\nTo promote a\\xa0high level of consumer confidence in service delivery by the postal services industry;\\nTo ensure the security of postal service industry workers and the security of postal articles and the postal network;\\nTo respond to the technical, economic and social environment and needs of consumers; and\\nTo ensure fair competition amongst the parties involved in the postal services industry in Malaysia.\\nNATIONAL POSTAL STRATEGY\\nEffective postal and courier services which meet commercial and social needs of the country are important to both competitiveness and social cohesion. Hence, the Government of Malaysia is committed:\\nTo promote a vibrant postal and courier market;\\nTo promote an efficient Post Office network to meet the country's present and future needs;\\nTo promote greater access to postal services for its population by creating a conducive postal regulatory and development policy framework; and\\nTo promote a modern and ubiquitous postal and courier service network that results in excellent service quality and innovative products by industry players.\\nThe National Postal Strategy (NPS) sets out a roadmap for the development of postal and courier sector in Malaysia for a period 2010 to 2014. It lays an aggressive and coherent development agenda which is designed to meet the changing needs of customers, marker and operating environment driven mainly by the information revolution, globalization and changing economic climate.\\nThe NPS was officially launched by the Deputy Minister of Information Communications and Culture Malaysia, YB Dato’ Joseph Salang on 9 October 2010 in conjunction with the World Postal Day celebration in Kuching, Sarawak.\\nVision\\nThe postal and courier sector - an essential component of the Malaysian economy.\\nMission\\nTo drive the development and growth of a robust postal and courier sector in line with the economic and social needs of the nation.\\nThrusts\\nNPS is engineered on five thrusts:\\nSustainable Universal Postal Service\\nImprove Service Quality\\nImprove Productivity\\nFoster Industry Growth\\nEnhance International Development\\nNational Postal Strategy - Full Document\"}]"
            ]
          },
          "execution_count": 90,
          "metadata": {},
          "output_type": "execute_result"
        }
      ],
      "source": [
        "# Preview a document\n",
        "# docs[0]\n",
        "docs\n",
        "# data = data[data['Scraped Content' != \"\"]]"
      ]
    },
    {
      "cell_type": "markdown",
      "metadata": {
        "id": "3XI6DDDUIrnT"
      },
      "source": [
        "# Step 4: Chunk up the data\n"
      ]
    },
    {
      "cell_type": "code",
      "execution_count": 91,
      "metadata": {
        "id": "PcyCLgTYIrnT"
      },
      "outputs": [],
      "source": [
        "from langchain.text_splitter import RecursiveCharacterTextSplitter\n",
        "from typing import Dict, List"
      ]
    },
    {
      "cell_type": "code",
      "execution_count": 92,
      "metadata": {
        "id": "bbFxHwy3IrnT"
      },
      "outputs": [],
      "source": [
        "# Separators to split on\n",
        "separators = [\"\\n\\n\", \"\\n\", \" \", \"\", \"#\", \"##\", \"###\"]"
      ]
    },
    {
      "cell_type": "markdown",
      "metadata": {
        "id": "sbo9ofvsIrnT"
      },
      "source": [
        "📚 https://python.langchain.com/v0.1/docs/modules/data_connection/document_transformers/split_by_token/#tiktoken\n"
      ]
    },
    {
      "cell_type": "code",
      "execution_count": 93,
      "metadata": {
        "id": "fBTkL7msIrnU"
      },
      "outputs": [],
      "source": [
        "# Use the `RecursiveCharacterTextSplitter` text splitter with the `cl100k_base` encoding\n",
        "# For text data, you typically want to keep 1-2 paragraphs (~200 tokens) in a single chunk\n",
        "# Chunk overlap of 15-20% of the chunk size is recommended\n",
        "# Pass the `separators` list above as an argument called `separators`\n",
        "text_splitter = RecursiveCharacterTextSplitter.from_tiktoken_encoder(\n",
        "    encoding_name=\"cl100k_base\", separators=separators, chunk_size=200, chunk_overlap=30\n",
        ")"
      ]
    },
    {
      "cell_type": "markdown",
      "metadata": {
        "id": "hqbZApbtIrnU"
      },
      "source": [
        "📚 https://api.python.langchain.com/en/latest/character/langchain_text_splitters.character.RecursiveCharacterTextSplitter.html"
      ]
    },
    {
      "cell_type": "code",
      "execution_count": 94,
      "metadata": {
        "id": "90qk-pJDIrnU"
      },
      "outputs": [],
      "source": [
        "def get_chunks(doc: Dict, text_field: str) -> List[Dict]:\n",
        "    \"\"\"\n",
        "    Chunk up a document.\n",
        "\n",
        "    Args:\n",
        "        doc (Dict): Parent document to generate chunks from.\n",
        "        text_field (str): Text field to chunk.\n",
        "\n",
        "    Returns:\n",
        "        List[Dict]: List of chunked documents.\n",
        "    \"\"\"\n",
        "    # Extract the field to chunk from `doc`\n",
        "    text = doc[text_field]\n",
        "    # Split `text` using the appropriate method of the `RecursiveCharacterTextSplitter` class\n",
        "    # NOTE: `text` is a string\n",
        "    chunks = text_splitter.split_text(text)\n",
        "\n",
        "    # Iterate through `chunks` and for each chunk:\n",
        "    # 1. Create a shallow copy of `doc`, call it `temp`\n",
        "    # 2. Set the `text_field` field in `temp` to the content of the chunk\n",
        "    # 3. Append `temp` to `chunked_data`\n",
        "    chunked_data = []\n",
        "    for chunk in chunks:\n",
        "       temp = doc.copy()\n",
        "       temp[text_field]=chunk\n",
        "       chunked_data.append(temp)\n",
        "\n",
        "    return chunked_data"
      ]
    },
    {
      "cell_type": "code",
      "execution_count": 95,
      "metadata": {
        "colab": {
          "base_uri": "https://localhost:8080/"
        },
        "id": "3xCXAXqOIrnU",
        "outputId": "d91391d8-10cb-4333-b897-94de757d3ad0"
      },
      "outputs": [
        {
          "data": {
            "text/plain": [
              "list"
            ]
          },
          "execution_count": 95,
          "metadata": {},
          "output_type": "execute_result"
        }
      ],
      "source": [
        "split_docs = []\n",
        "type(docs)"
      ]
    },
    {
      "cell_type": "code",
      "execution_count": 96,
      "metadata": {
        "id": "xYn8geANIrnU"
      },
      "outputs": [],
      "source": [
        "# Iterate through `docs`, use the `get_chunks` function to chunk up the documents based on the \"body\" field, and add the list of chunked documents to `split_docs` initialized above.\n",
        "split_docs = []\n",
        "for doc in docs:\n",
        "    # print(doc[1][\"Scraped Content\"])\n",
        "    chunks = get_chunks(doc, \"Scraped Content\")\n",
        "    split_docs.extend(chunks)"
      ]
    },
    {
      "cell_type": "code",
      "execution_count": 98,
      "metadata": {
        "colab": {
          "base_uri": "https://localhost:8080/"
        },
        "id": "Tzsy_V3Z1QgZ",
        "outputId": "73f3722d-33cc-4427-e768-36826f500e11"
      },
      "outputs": [
        {
          "name": "stdout",
          "output_type": "stream",
          "text": [
            "[{'Category': 'Packaging Beans', 'Scraped Content': 'Share:\\nTwitter\\nFacebook\\nPocket\\nLinkedIn\\nSensorial degradation in green coffee can represent significant financial losses for producers, traders, and roasters. Yet while a certain degree of degradation over time may be inevitable, the material of the coffee packaging can have a significant impact on the shelf life and quality of the beans.\\nJute, high-barrier, vacuum: which is really best? How much of an impact does the material actually have on the beans? And how can we measure this? Let’s take a look.\\nLee este artículo en español\\nMaterial Del Empaque: Cómo Afecta al Café Verde Con el Tiempo\\nAn empty, used jute bag with moisture stains. Credit: Ivan Petrich\\nReviewing Green Coffee Packaging Materials\\nSome of the most common materials are burlap, permeable plastic, high-barrier plastic, and vacuum.\\nBurlap\\nA canvas made from natural fibres extracted from plants, jute or burlap is the most traditional material used for manufacturing coffee bags. It’s an eco-friendly option; the\\nFood and Agriculture Organization of the United Nations\\nsays that it is “100% bio-degradable and recyclable and thus environmentally friendly.” It’s also durable and relatively affordable, being the\\noldest coffee packaging material\\nto date.\\nHowever, it doesn’t provide protection against moisture or oxygen – two elements associated with poorer coffee quality and even defects such as mold. The bags are permeable.\\nMoreover, jute bags traditionally hold 60 kilos of coffee (or, in some countries, 70 kilos). Meanwhile, plastic big bags and container liners can store from 1 to more than 20 tons of green beans. Depending on the lot being stored or shipped, producers may decide to opt for larger and therefore more efficient storage options.\\nPlastic\\nMost commonly made of polyethylene or polypropylene, plastic storage options range from 60-kilo bags to big bags and container liners. The material is cheaper and more resistant to moistures and gases than jute but is still permeable.\\nYou might also like\\nHow Oxygen Damages Green Coffee Quality\\nGreen coffee beans stored in a plastic fabric coffee bag at Cerro Verde, El Manilal, Nayarit, México. Credit: Ana Valencia\\nHigh-Barrier\\nProfessor Flávio Meira Borém is an agronomic engineer specialized in vegetable production. He has dedicated the past few years to studying coffee. He says that a high-barrier bag is “a pack with different compositions and structures which are capable of preventing gas and water exchanges between the inside and the atmosphere… It’s packaging with high impermeability.”\\nWhile more expensive than other types of packaging, a high-barrier bag is designed to maintain the coffee’s quality over time by preventing chemical reactions with moisture and oxygen. You can find high-barrier packaging in a range of sizes, including container liners.\\nHigh-barrier\\nVideplast\\nbags in use at Fazenda Klem. Credit: Nicholas Yamada\\nVacuum\\nWhen coffee is vacuum packed, it is also stored in impermeable plastic bags. Then, in addition to the hermetic isolation of the green coffee, a negative pressure is then created to remove all air.\\nIt’s a common belief that multi-laminate vacuum-packing is the most effective way to preserve green coffee quality. However, with a considerably higher cost, this method is typically only used for samples or micro and nano lots of exceptional specialty coffees.\\nVacuum-packed green coffee samples. Credit: Ivan Petrich\\nDefining Coffee Degradation\\nCoffee degradation is the chemical changes that result in reduced flavors and aromas in the beans, especially sweetness and acidity. Cupping by a professional Q grader according to\\nSCA protocols\\nremains the most common way to measure coffee quality. Yet there are other ways to track degradation.\\nSome of these focus not on the sensorial qualities you can notice when drinking the coffee but instead on the chemical composition of the beans and how that relates to their cup profiles. While this is a relatively new field, these studies allow us to better understand degradation even before it becomes evident to the human tongue and nose. Nuclear magnetic resonance (NMR) and Raman spectrometry are two methods used for this.\\nGiselle Figueiredo Abreu is an agricultural engineer and the author of “Raman spectroscopy: A new strategy for monitoring the quality of green coffee beans during storage,” which she published as part of her post-graduate work, overseen by Prof. Borém.\\nAbreu crossed-referenced sensorial reports from Q Graders with the results from Raman spectroscopy, and used this to analyze green coffee stored in permeable and impermeable packaging over time.\\nThe coffee samples were of natural and pulped natural coffees cupping at over 84 points. Three types of 30-kilo containers were used: permeable paper packaging without a barrier, paper packaging with an impermeable high-barrier plastic bag inside, and vacuum packaging. The coffees were analyzed every three months for 18 months.\\nA high-barrier big bag developed to hold up to 1,200 kilos. Credit:\\nVideplast\\nThe Impact of Bag Material, 0–6 Months\\nAccording to Prof. Borém, in the first six months, the Q graders weren’t able to identify significant differences in the cupping scores for either naturals or pulped naturals, regardless of the choice of packaging. He says, “Cuppers have a very small likelihood of detecting sensorial differences in specialty coffee in the first 6 months. The possibility is very small, the differences are slight.”\\nBut he stresses that the chemical composition was visible at both three months and six months, when they used both NMR and Raman spectrometry, for samples stored in permeable bags. Samples stored in impermeable bags, however, did not have visible evidence of any chemical changes.\\n“We were able to prove that the chemical composition of coffee begins to change early on, and this change will only be noticed by the cuppers after six months of storage,” he explains.\\n“This change is irreversible,” he stresses.\\nRecommendations\\nAlthough cupping scores might not show a difference between permeable packaging, such as jute bags, and impermeable high-barrier packaging, it’s clear that the beans are already beginning to degrade.\\nLeandro Martinoto is P&D Manager at\\nVideplast\\n, a packaging manufacturer with a focus on specialty and\\nfine coffees\\n. He tells me, “We recommend that after processing, coffee should be stored in multi-laminated high-barrier structures. These can be big bags, regular sacks, or liners.”\\nProf. Borém also recommends that for specialty naturals and pulped naturals, “after the resting period… this coffee should already immediately be protected with a high-barrier bag.”\\nWithin the warehouse, big bags and high-barrier liners will help conserve space and reduce costs. For smaller lots and for transportation, high-barrier bags are preferable to jute bags.\\nGreen coffee inside a Videplast high-barrier bag. Credit: Nicholas Yamada\\nThe Impact of Coffee Bag Material, 6–18 Months\\nAfter six months, cupping scores for coffee stored in permeable packaging started to fall. Prof. Borém says, “The sensory difference is already striking.”\\nHe points to a pulped natural coffee originally cupped at 85–86 points and stored in permeable packaging. At nine months, it was cupping below 80 and considered commodity coffee. After 18 months, the coffee fell to below 75. In contrast, in the impermeable bags, it was still cupping at 83–84 points a year later, before dropping to 82 points after 18 months.\\nAs for the different types of permeable packaging – high-barrier and vacuum-packing – the study only found negligible differences.\\nUnlike in the first six months, processing had a significant impact at this stage. Prof. Borém tells me, “These changes were more evident in the natural coffee than in the pulped natural.”\\nRecommendations\\nWhile it’s recommendable that specialty coffee is stored in impermeable bags straight after storage (the same applies for fine cup coffees), after six months, it becomes imperative. This is particularly true for coffees dried with some or all of the fruit still attached to them. Naturals are particularly vulnerable to degradation.\\nIt is also worth remembering that the study was based on coffees in a stable environment. Coffees being transported, especially those going overseas, may be exposed to greater degrees of humidity. They will be at higher risk of degradation without the protection given by impermeable packaging. Container liners may also help to mitigate this risk.\\nRead more in\\nWhy Specialty Naturals Need Strict Quality Control\\nGreen bean samples. Credit:\\nBattlecreek Coffee Roasters\\nWhen it comes to specialty coffee, preserving the beans’ quality for as long as possible is essential. Doing so can protect the value of the coffee as well as the business relationships formed between producers, traders, and roasters. Paying attention to bag material, especially for natural and pulped natural coffees, can significantly reduce bean degradation over time.\\nFound this interesting? Find out\\nHow Oxygen Damages Green Coffee Quality\\nFeature photo: Green coffee in jute bags. Feature photo credit: Neil Soque\\nPlease note: This article has been\\nsponsored\\nby\\nVideplast\\n.\\nWant to read more articles like this?\\nSign up for our newsletter!\\nShare:\\nTwitter\\nFacebook\\nPocket\\nLinkedIn'}, {'Category': 'Packaging Beans', 'Scraped Content': 'Menu\\nServices\\nOcean Freight\\nUAE\\nIndia\\nChina\\nUSA\\nSaudi Arabia\\nKuwait\\nQatar\\nTurkey\\nItaly\\nBrazil\\nUK\\nFrance\\nArgentina\\nNetherlands\\nAustralia\\nNew Zealand\\nSouth Africa\\nGermany\\nAir Freight\\nUAE\\nAustralia\\nNetherlands\\nIndia\\nQatar\\nChina\\nItaly\\nUK\\nUSA\\nTurkey\\nArgentina\\nBrazil\\nChile\\nFrance\\nSaudi Arabia\\nGermany\\nSpain\\nCanada\\nCourier\\nLand Freight\\nCustoms Clearance\\nForwarder Alliance\\nDFreight Platfrom\\nHelp Center\\nDFreight Mobile App\\nHow Our Platform Works\\nTake Your Supply Chain to the Next Level. End-to-End Supply Chain Management\\nWatch Demo\\nResources\\nIncoterms\\nCFR\\nCIF\\nCIP\\nCPT\\nDAP\\nDAT\\nDDP\\nDPU\\nEXW\\nFAS\\nFCA\\nFOB\\nCase Studies\\nAmerican Specialty Food\\nRoyal Care Medical Equipment\\nArista Construction Systems\\nAl Mazen\\nKenya and Burki Motors FZCO\\nPVS International\\nMulti Home Furniture\\nE-Guides\\nUAE Shipping Guide\\nCommodities Guide\\nLogistics Manager’s Guide\\nShipping Glossary\\nContainer Tracking\\nExplore World Ports\\nShipping Calculator\\nHow Our Platform Works\\nTake Your Supply Chain to the Next Level. End-to-End Supply Chain Management\\nWatch Demo\\nAbout\\nAbout Us\\nPrivacy Policy\\nContact Us\\nCustomer Care\\nTerms and Conditions\\nHow Our Platform Works\\nTake Your Supply Chain to the Next Level. End-to-End Supply Chain Management\\nWatch Demo\\nBlog\\nCareers\\nLogin\\nA Comprehensive Guide to Shipping Coffee\\nNovember 9, 2023\\nIn this blog post we’ll cover a comprehensive guide to shipping coffee around the world and explain everything you need to know about it.\\nShipping coffee worldwide is a critical aspect of the global coffee trade. As coffee consumption continues to rise and demand for specialty and exotic coffees grows, the need for efficient and reliable shipping methods becomes paramount. For companies seeking to venture into the global coffee market, shipping coffee worldwide presents a significant opportunity for growth and expansion. shipping coffee globally requires careful planning, knowledge of the coffee supply chain, and an understanding of the complexities involved in international logistics.\\nDFreight is an experienced freight forwarder specializing in the shipping of coffee worldwide. With a deep understanding of the intricacies of international logistics, DFreight has established itself as a trusted partner for coffee businesses looking to expand their reach and deliver their products to global markets. Ready to ship your coffee worldwide with confidence and reliability? Partner with DFreight, the experienced freight forwarder that understands the unique requirements of shipping coffee.\\nTable of Contents\\nToggle\\nUnderstanding the Coffee Supply Chain\\nPackaging and Storage of Coffee\\nInternational Shipping Methods for Coffee\\nExporting and Importing Coffee\\nChallenges and Solutions in Shipping Coffee\\nDFreight’s Expertise in Shipping Coffee Worldwide\\nConclusion\\nUnderstanding the Coffee Supply Chain\\nThe coffee industry is a complex and intricate network of processes that spans multiple regions and involves numerous stakeholders. To appreciate the journey of a cup of coffee from farm to consumer, it is essential to understand the coffee supply chain. This encompasses the various stages involved in bringing coffee beans from the hands of farmers to the shelves of coffee shops and homes worldwide.\\nThe coffee supply chain begins with coffee cultivation, predominantly in regions known as coffee belts, such as Central and South America, Africa, and Asia. Smallholder farmers, often working in cooperatives, grow coffee plants and carefully nurture them to produce high-quality cherries. Once the coffee cherries have ripened, they are harvested and undergo processing.\\nAfter processing, the coffee beans need to be sorted, graded, and prepared for export. This involves removing any defects or impurities, categorizing the beans based on size and quality, and packaging them appropriately. Coffee grading systems, such as the\\nSpecialty Coffee Association’s (SCA)\\nprotocol, help determine the quality and value of the beans.\\nOnce the coffee is ready for export, it enters the international trade market. Exporters and importers play a vital role in facilitating the movement of coffee between producing and consuming countries. They handle logistics, negotiate contracts, arrange shipping, and navigate customs procedures to ensure the smooth flow of coffee across borders.\\nUpon arrival in the destination country, coffee undergoes further processing, including roasting, grinding, and packaging, before it reaches consumers through various channels like coffee shops, supermarkets, or online retailers. This final stage of the supply chain involves the efforts of roasters, distributors, wholesalers, and retailers to bring the coffee to market.\\nUnderstanding the coffee supply chain is crucial for all stakeholders involved, as it allows for better decision-making, quality control, and sustainability practices. By appreciating the complexities and challenges at each stage, coffee businesses can forge stronger partnerships, ensure transparency, and ultimately deliver an exceptional coffee experience to consumers worldwide.\\nPackaging and Storage of Coffee\\nPackaging\\nand storage play a crucial role in maintaining the quality and freshness of coffee beans throughout the supply chain. Proper packaging not only protects the beans from external factors but also helps preserve their aroma, flavor, and overall quality. Additionally, appropriate storage conditions are essential to prevent degradation and ensure that the coffee reaches consumers in optimal condition.\\nWhen it comes to packaging coffee, there are several factors to consider. Firstly, the packaging material should provide a barrier against oxygen, moisture, light, and odors, as these elements can deteriorate the coffee’s flavor and aroma. Common packaging materials include foil-lined bags, vacuum-sealed pouches, or cans with airtight seals. These materials help create a protective environment, shielding the beans from external influences.\\nFurthermore, the packaging design should facilitate easy handling, storage, and transportation. It is important to consider the size and shape of the package to optimize space utilization and minimize damage during shipping. Additionally, clear labeling with information such as origin, roast date, and brewing instructions can help consumers make informed choices and enjoy the coffee to its fullest potential.\\nIn terms of storage, coffee beans should be kept in a cool, dry, and dark environment. Exposure to heat, humidity, and sunlight can accelerate the deterioration process and negatively impact the flavor and quality of the beans. Ideally, coffee should be stored in airtight containers away from direct sunlight, heat sources, and strong odors, as coffee beans are highly absorbent and can easily pick up undesirable flavors and aromas.\\nMoreover, it is important to avoid excessive temperature fluctuations, as this can cause condensation inside the packaging and compromise the coffee’s freshness. For larger quantities of coffee, it may be beneficial to store the beans in smaller, airtight containers to minimize exposure to air and maintain freshness.\\nBy paying attention to packaging and storage practices, coffee businesses and consumers can enjoy the full potential of the beans, savoring the unique flavors and aromas that make each cup of coffee a delightful experience.\\nInternational Shipping Methods for Coffee\\nWhen it comes to shipping coffee worldwide, selecting the right shipping method is crucial to ensure the timely and safe delivery of coffee beans. There are several international shipping methods available, each with its own advantages and considerations. Here are some common methods used for shipping coffee globally:\\nOcean Freight:\\nOcean freight is a popular choice for shipping large quantities of coffee over long distances. This method is cost-effective and well-suited for bulk shipments. Coffee beans are typically packed in containers, either\\nFull Container Load (FCL) or Less than Container Load (LCL)\\n, and transported by cargo ships. However, ocean freight can have longer transit times compared to other methods.\\nOcean Freight\\nAir Freight:\\nAir freight is a faster shipping option, ideal for smaller quantities of coffee or when time is of the essence. It allows for quicker delivery, reducing the risk of quality degradation. Air freight is generally more expensive than ocean freight due to the higher transportation costs, but it offers the advantage of shorter transit times.\\nAir Freight\\nExpress Courier:\\nExpress\\ncourier services\\nprovide fast and reliable shipping for smaller coffee shipments. This method is suitable for time-sensitive deliveries or smaller orders. Express courier services usually offer\\ndoor-to-door\\ndelivery with tracking capabilities, ensuring greater visibility and security for the shipment. However, it may be costlier compared to other methods, especially for larger volumes.\\nIntermodal Shipping:\\nIntermodal shipping combines different modes of transportation, such as utilizing both ocean and rail or trucking services. This method can offer a balance between cost-effectiveness and quicker transit times, depending on the specific routes and distances involved. Intermodal shipping provides flexibility and can be tailored to meet the unique needs of coffee shipments.\\nWhen selecting an international shipping method for coffee, it is essential to consider factors such as budget, volume, destination, and delivery requirements. It is also crucial to work with experienced freight forwarders or shipping agents who specialize in coffee logistics. These professionals can provide guidance on the most suitable shipping method, handle documentation, navigate customs procedures, and ensure compliance with international regulations.\\nBy carefully evaluating the available shipping options and partnering with the right logistics experts, coffee businesses can effectively transport their products worldwide, maintaining the quality, freshness, and integrity of the beans throughout the shipping process.\\nExporting and Importing Coffee\\nExporting and importing coffee is a crucial part of the global coffee supply chain, connecting coffee-producing regions with coffee-consuming markets around the world. The process involves various steps, documentation, and considerations to ensure the smooth and efficient movement of coffee across borders. Here is an overview of exporting and importing coffee:\\nExporting Coffee:\\nQuality Control:\\nCoffee exporters work closely with coffee farmers and cooperatives to ensure that the coffee meets the required quality standards. This involves quality assessment, grading, and adherence to specific certifications, such as Fair Trade or Organic.\\nProcessing and Packaging:\\nExporters oversee the processing and packaging of coffee beans, ensuring that they are properly sorted, cleaned, and packaged for export. This includes selecting appropriate packaging materials and labeling the coffee bags with necessary information.\\nExport Documentation:\\nExporters handle the necessary documentation for customs clearance and international trade compliance. This includes documents like\\ncommercial invoices\\n,\\npacking lists\\n,\\ncertificates of origin\\n, phytosanitary certificates, and any required export permits.\\nLogistics and Shipping:\\nExporters work with freight forwarders and shipping companies to arrange the transportation of coffee from the origin country to the destination. They handle logistics, negotiate contracts, and ensure proper packaging and handling to protect the quality of the coffee during transit.\\nImporting Coffee:\\nSourcing and Procurement:\\nCoffee importers search for suitable coffee suppliers and establish relationships with producers or exporters in coffee-producing regions. They evaluate the quality, flavor profiles, and sustainability practices of different coffees to meet the demands of their target market.\\nImport Documentation:\\nImporters handle the necessary import documentation, including customs declarations,\\nimport licenses\\n, and compliance with regulatory requirements of the destination country. They ensure the accuracy and completeness of these documents for smooth customs clearance.\\nCustoms Clearance:\\nImporters work with customs brokers or agents to facilitate the smooth clearance of coffee through customs. They provide the required documentation, pay any applicable\\nduties or taxes\\n, and ensure compliance with import regulations.\\nDistribution and Sales:\\nImporters distribute the imported coffee to various channels. They may also provide marketing and promotional support to build awareness and demand for the coffee within their target market.\\nThroughout the exporting and importing process, it is essential for coffee businesses to stay informed about international trade regulations, market trends, and sustainability practices. They must also ensure transparency, ethical sourcing, and fair trade practices to contribute to a sustainable and thriving coffee industry.\\nChallenges and Solutions in Shipping Coffee\\nShipping coffee comes with its fair share of challenges, but there are several solutions to overcome them. One significant challenge is maintaining the quality and freshness of the coffee during transit, particularly when shipping over long distances. To address this, proper packaging and storage techniques, such as vacuum-sealing and using moisture-resistant bags, can help preserve the coffee’s flavor and aroma.\\nAnother challenge is navigating customs procedures and regulations, which can vary from country to country. Employing\\nexperienced freight forwarders\\nwho specialize in coffee logistics can ensure compliance with these requirements.\\nAdditionally, selecting the right shipping method, whether it’s ocean freight, air freight, or express courier, based on the volume, destination, and time sensitivity of the shipment can help optimize the shipping process.\\nBy addressing these challenges with appropriate solutions, coffee businesses can successfully ship their products worldwide while maintaining the quality and integrity of the coffee beans.\\nDFreight’s Expertise in Shipping Coffee Worldwide\\nDFreight is an experienced freight forwarder that specializes in\\nshipping perishable goods\\n, including\\nfoods\\n,\\nchocolate\\n, coffee, and more, globally. With a strong emphasis on quality and reliability, DFreight offers efficient shipping solutions via air or ocean freight. Their\\nonline tracking\\noption provides real-time visibility, allowing customers to monitor their shipments throughout the entire journey.\\nWhen it comes to shipping coffee, DFreight understands the unique requirements to preserve its freshness and quality. DFreight’s expertise in handling perishable goods ensures that the coffee is carefully stored and transported under controlled conditions, minimizing the risk of degradation.\\nDFreight offers both air and\\nocean freight options\\nfor shipping coffee. Air freight is an excellent choice for time-sensitive deliveries, ensuring that the coffee reaches its destination quickly. On the other hand, ocean freight is a cost-effective solution for larger volumes of coffee, ideal for businesses looking to ship coffee in bulk.\\nWith their extensive network of carriers and partnerships with trusted shipping lines and\\nairlines\\n, DFreight can provide competitive rates and reliable transit times for shipping coffee worldwide. Their experienced team of professionals assists in navigating customs procedures, ensuring compliance with international regulations and trade requirements.\\nBy choosing DFreight as the freight forwarder for coffee shipments, businesses can benefit from their expertise in handling perishable goods, their commitment to quality, and their reliable shipping options. With the added advantage of online tracking, customers can stay informed about the progress of their coffee shipments, providing peace of mind and confidence in the shipping process.\\nConclusion\\nIn conclusion, shipping coffee presents unique challenges due to its perishable nature and the need to maintain its quality and freshness. However, with the expertise of experienced freight forwarders like DFreight, businesses can overcome these challenges and successfully ship coffee worldwide. By utilizing air or ocean freight options, and ensuring compliance with customs procedures, DFreight offers efficient and reliable solutions for transporting coffee.\\nWith their online tracking option, customers can have real-time visibility of their shipments, providing peace of mind and confidence in the shipping process. With DFreight’s commitment to quality and their understanding of the intricacies of shipping coffee, businesses can confidently expand their reach and connect coffee producers with consumers around the world.\\nHow should I package coffee for international shipping?\\nTo ensure the freshness and quality of the coffee during international shipping, it is recommended to pack it in airtight bags or containers. Additionally, use cushion packaging or bubble wrap to protect the coffee from damage during shipping.\\nAre there any restrictions on shipping coffee internationally?\\nYes, different countries have varying regulations and restrictions on shipping coffee. Some countries may have import restrictions or require specific documentation, such as certificates of origin or health certificates. It is crucial to check the regulations of the destination country before shipping.\\nAre there any additional costs involved in shipping coffee internationally?\\nYes, when shipping coffee internationally, there may be additional costs such as customs duties, taxes, and import fees.\\nShare\\nDon’t Miss Updates on the Shipping and Logistics Industry\\nAir transportation is a convenient and fast way to move cargo and is suitable for small and large companies as well as individuals.\\nYou Might Also Like\\nThe Changing Face of the Freight Industry: From ISS to Ground\\nHow to Set up an Import/Export Business in Dubai\\nRestricted Items You Can’t Easily Import Into the UAE\\nblog archive\\nShipping Fitness Equipment to/from Dubai\\nShipping Solar Panels for a Sustainable Future\\nA Comprehensive Guide to Shipping Coffee\\nMulti Home Furniture and DFreight: A Logistics Success Story\\nShipping Bottled Water Worldwide: A Comprehensive Guide\\nSearch\\nSearch\\nCommodities\\nAn Ultimate Guide to Shipping Metals and Minerals\\nAn Ultimate Guide to Shipping Generators and Power Systems\\nAn Ultimate Guide to Shipping Electrical and Plumbing Equipment\\nMost Popular\\nAn Insight Into BMW Supply Chain Strategy\\nBreaking Down McDonald’s Supply Chain Strategy: A Recipe for Success\\nAn Insight into Unilever Supply Chain Strategy\\nPrivacy Policy\\nCopyright © 2021 Dfreight.org\\nSafe Web\\nContact Us\\nOur customer support team is available for your assistance. You can give us a call or send us an email.\\nInfo@Dfreight.org\\n402, Emaar Square Bldg 4, Downtown, Dubai\\nQuick Menu\\nAbout\\nContact Us\\nCareers\\nCopyright © 2021 Dfreight.org'}, {'Category': 'Packaging Beans', 'Scraped Content': \"Home page\\nBlog\\nCoffee Packaging: Trends and Ways to Keep Your Coffee Fresh\\nCoffee Packaging: Trends and Ways to Keep Your Coffee Fresh\\nMaciej Zajac\\n|\\n12 October 2023\\n|\\n7 min read\\nSubscribe now! Receive 5% discount.\\nBy signing up for our newsletter and you’ll get 5% off your first order.\\nPlease enter a valid email address\\nI agree to Packhelp.com\\nTerms and Conditions\\nand\\nPrivacy Policy\\n.\\nPlease select an option\\nSubscribe\\nsubscribed\\nGreat!\\nYou're now subscribed!\\nIn this article:\\nCoffee's distinctive edge: Why it's not just another food product\\nThe best coffee packaging solutions for fresh coffee\\nBeans on the move: Optimising coffee delivery for peak freshness\\nInspiration station: coffee brands crushing the packaging game\\nWhat's the best coffee packaging for me?\\nAh, coffee.\\nNothing beats that first sip of fresh coffee in the morning.\\nThe comforting aroma. The warmth of the mug. A taste that awakens your senses.\\n\\u200b\\u200bJust picture it: steam rising from a freshly poured cup. The rich smell fills the air. And then that first indulgent sip.\\nIt's a cherished ritual for many. And an essential part of the day for countless Europeans. In fact, Europe is the world's largest coffee market. This coffee-loving continent made up\\n32%\\nof global coffee consumption in 2021.\\nBut there's nothing worse than going in for that first sip of nirvana only for your coffee to taste old. Stale. Flavorless. Instantly your day is off to a bad start. And the aftermath? A disappointed customer who'll likely never buy from that same coffee brand again.\\nSo how can you prevent the dreaded fate of stale coffee?\\nIt all comes down to \\u200cproper\\ncoffee packaging\\n. From harvest to first sip, you'll guarantee the best quality coffee encased in your branding.\\nIn this article, you'll learn:\\nFactors that play a pivotal role in preserving coffee's freshness.\\nThe best coffee packaging solutions on the market.\\nHow to streamline the coffee delivery process.\\nCoffee bag design inspiration from top brands.\\nCoffee's distinctive edge: Why it's not just another food product\\nShipping food is a complicated process. You must find the proper packaging to keep it fresh and preserve the flavour. But coffee takes this requirement to another level.\\nThink of it this way. You can package a loaf of bread in a clear plastic bag, add a twist tie and call it a day. Coffee, on the other hand is not that simple. If you walk down the coffee aisle, you'll see:\\nOpaque, vacuum-sealed bags\\nWhole bean vs. ground coffee\\nDegassing valves and seals\\nAirtight coffee tins\\nWhy? At its core,\\ncoffee is a symphony of flavours and aromas\\n. But what grants it its rich character and flavour profile makes it challenging to preserve.\\nLet's break down the main factors that keep coffee fresh.\\nOxygen: The silent flavour thief\\nFreshly roasted coffee beans are a treasure trove of flavours. However, expose them to oxygen, and you'll witness a slow, heartbreaking fade of those intricate notes.\\nIn other words,\\noxidation is coffee's natural enemy\\n. It turns those flavourful beans stale, flat, and lifeless.\\nMoisture: The coffee bean's bane\\nMoisture and coffee have a love-hate relationship. While coffee beans require (a lot of) moisture in the growing process, it becomes an enemy immediately after roasting.\\nMoisture can compromise the bean's integrity\\n. It leads to mould, off-flavours, and shorter shelf life.\\nLight: more foe than friend\\nLike our skin, coffee beans are sensitive to light. Prolonged exposure can break down the essential oils that give coffee its distinctive flavour.\\nEnter the unsung hero: coffee packaging.\\nYour packing is more than a vessel to hold the beans.\\nCoffee packaging\\nacts as a fortress. It shields your beloved brew from the elements.\\nIt guarantees that every sip resonates with the rich flavours and aromas that coffee aficionados cherish.\\nSource\\nThe packaging might seem like one of the final steps in the \\u200cgrand scheme of your coffee's journey from the farm to the cup. But this last line of defence determines whether your morning brew is a fresh revelation or a flat disappointment.\\nRemember, coffee isn't just another food product. It's an experience. It's a lifestyle. And preserving that experience demands respect, knowledge, and the right packaging.\\nTake note that another essential part of the importance of packaging is how customers feel when they see it. Once it reaches the last stage of becoming a coffee product, ensure that you have an\\neffective coffee shop logo\\nthat expresses the quality of your efforts.\\nPackaging is also the perfect place to\\nshow off your brand's personality\\n. More on that later.\\nThe best coffee packaging solutions for fresh coffee\\nHere are the\\nbest coffee packing solutions\\nto preserve your finest roast.\\nGood: doypacks with resealable zippers\\nDoypacks are a favourite for a reason. Their resealable zippers make accessing your coffee convenient once opened. And it provides a tight seal to keep out unwanted elements.\\nThis straightforward solution is a popular choice for coffee brands. Especially\\nrecyclable paper doypacks\\nare cost-effective and do a good job of keeping your coffee fresh. The\\nflat bottoms are ideal for displaying coffee\\non retail store shelves or in your customers' pantry.\\nAnd that's also why you'll often find this packaging in most local coffee shops and roasteries.\\nBetter: vacuum-sealed bags and tins\\nWant to extend your coffee's shelf life? Look no further than vacuum-sealed bags and tins.\\nBy removing air from the equation, vacuum-sealed packaging helps maintain your coffee's freshness for longer periods. The result? A consistent flavour with each brew.\\nTins and cans are a popular choice for craft roasteries\\n. They're unique. They block out unwanted light. And they provide some of the best airtight seals. So if you want to\\nstand out from the masses\\n, a\\ncustom can\\ndesign is a solid option.\\nWilliams Sonoma\\n, an American gourmet food and cookware brand, packages its coffee the same day it's roasted. Then it vacuum-packs the coffee beans in tins to ensure optimal freshness.\\nBetter yet, this coffee bean packaging stands out from the rest of the bags on the shelves. And their beans are less likely to face damage during shipping.\\nBest: degassing valves\\nFreshly roasted coffee beans release carbon dioxide. Without an outlet, this could compromise the package and the bean quality.\\nDegassing valves solve this problem by letting the gas out without allowing external air inside the bag.\\nAnd although this sounds like a wild machine, it's quite the opposite. It's so small that most people don't realize it's a core part of a coffee bag.\\nIt looks like a small button. Sometimes, it's called an\\naroma valve\\nor coffee valve b\\necause you can smell the coffee's unique aroma through the valve.\\nHawaii is the most isolated population centre in the world. They know a thing or two about protecting the freshness of their 100% Kona coffee during transit.\\nMountain Thunder Coffee Plantation\\nsays coffee lovers should never buy a bag of coffee without a degassing valve. Why?\\nDegassing valves are the key components to preserving coffee flavours and freshness.\\nWhole coffee beans maintain their freshness for up to 12 months when stored in:\\nNitrogen-flushed bags with a one-way valve\\nA basic\\npouch equipped with a degassing valve\\nNitrogen flushing swaps out oxygen in food packaging for nitrogen. This method preserves food quality, as nitrogen remains neutral. It doesn't affect texture, flavour, or taste.\\nNitrogen forms a protective barrier around products during transport and shelf storage.\\nConversely, vacuum sealing simply extracts all the air from the package before sealing. It doesn't introduce any gasses. The takeaway? Nitrogen flushing is a superior method for packaging coffee over vacuum sealing.\\nSustainable packaging: biodegradable and compostable bags\\nToday, customers are increasingly eco-conscious. They actively seek out retailers who align with their values. And recent data support this claim, with\\n82%\\nof consumers willing to pay more for sustainable packaging.\\nBiodegradable and compostable bags\\nare a quality sustainable packaging solution\\nfor an eco-conscious consumer base.\\nCompostable doypacks with resealable zipper\\nWhen you pick these\\neco-friendly options\\n, you're preserving the quality of your product. And you build a brand image that resonates with consumers — protecting our planet.\\nA sustainable choice today can lead to increased customer loyalty tomorrow.\\nKeep this in mind as you navigate your coffee packaging decisions.\\nConsistent coffee packaging\\nWhen you piece together a hodge podge of various packaging solutions, chances are your\\nbranding is not going to be consistent\\n.\\nThat's why looking for a single\\ncoffee packaging supplier\\nis worth going the extra mile.\\nWhether you're a\\ncoffee subscription service\\nor a basic coffee shop,\\nyou want your packaging to be uniform and representative.\\nIn order to verify the quality of your supplier's packaging, order samples of your\\nprinted mailer boxes\\n,\\nresealable pouches,\\ncustom labels\\n, or anything else you might need.\\nTry out the materials. Compare the vividness of the print. That's how you know all the pieces together create a cohesive whole.\\nOrdering a consistent coffee packaging set from a single supplier can:\\nEnhance the\\nunboxing experience\\n.\\nElevate your brand's perception.\\nSimplify the shipping process and reduce your carbon footprint.\\nPro tip:\\nUse mailer boxes for convenience and protection of your coffee pouches and cans\\n. With sturdy exterior boxes to protect the beans, your coffee will reach its destination in optimal condition.\\nThe result? The best cup of coffee. And happy customers.\\nBeans on the move: Optimising coffee delivery for peak freshness\\nWith \\u200cproper packaging (and storage), you can increase the shelf life of your coffee. Here's a quick and fast guide:\\nGround coffee in an unopened bag:\\n2–4 months\\nRoasted whole coffee beans in a vacuum-sealed bag:\\n3–5 months\\nWhole coffee beans in an airtight container:\\n12 months\\nThat's great, right? You have a decent amount of time to get your coffee into the hands of your consumers. But coffee enthusiasts want the best of the best. They want coffee a few days after it's roasted.\\nWhile the type of coffee packaging you choose is important, so is the shipping process. Let's dive into how to make that more efficient.\\n1. Streamline your entire supply chain process\\nFrom harvesting to shipping, there are many moving parts in the coffee supply chain. And any serious kinks can impact your ability to deliver the highest quality coffee.\\nStart by evaluating your current suppliers.\\nAre they reliable and timely?\\nAre there any bottlenecks in procurement?\\nInvest in the proper\\nsupply chain analytics\\ntools to help you uncover your problem areas. You can access real-time insights into inventory levels, on-time delivery metrics, and order costs.\\nFor example,\\n\\u200casset tracking software\\nallows you to check the location and condition of coffee shipments at any given moment.\\nThat's right.\\nYou can trace coffee packages from origin to destination.\\nThese insights help identify potential issues or delays in real-time. That way, you can take prompt corrective actions as needed.\\nSo wave goodbye to supply chain mishaps with increased transparency and hello to coffee that stays fresh and delicious. Oh, and don't forget about the potential cost savings.\\n2. Find the right delivery partner\\nNext, it's time to focus on logistics. The goal?\\nOptimise routes for efficient deliveries\\n. That way, the journey from your packing facility to the store shelves (or customer's doorstep) is as direct as possible.\\nCollaborate with transportation partners who prioritise punctuality and care in handling your products. Using an\\nexpress courier service\\nthat offers same-day delivery reduces transit time. You can guarantee that your coffee is always fresh upon arrival.\\nAnd the best part?\\nAccording to\\nresearch from GoPeople\\n,\\n88% of customers are willing to pay for same-day delivery. It makes them more likely to shop online.\\nWith the right delivery partner, your biggest coffee fans get the freshest batch every time.\\nThe higher price tag for same-day delivery doesn't dent your margins. And you build a competitive edge. It's a win-win.\\nInspiration station: coffee brands crushing the packaging game\\nPackaging is an important part of your brand identity. Follow the leads of these coffee brands to learn how to step up your coffee packaging game.\\n1. Chamberlain Coffee\\nStarted by YouTuber Emma Chamberlain,\\nChamberlain Coffee\\nis an ode to passion and brand authenticity.\\nOne of the first things you notice about Chamberlain Coffee's packaging is its chic, modern, and colourful aesthetic. It is perfectly complemented with a creative\\ncoffee logo\\n.\\nThe\\ncoffee bag design\\nhits the nail on the head for their target market: Gen Z.\\nThe designs often mirror Emma's personal style, featuring hand-drawn doodles and playful graphics. They also use compostable packaging, leading the charge in sustainable coffee packaging practices.\\nThis is a seamless blend of sustainability, personalized charm, and contemporary design. It not only preserves the freshness of the coffee inside but also crafts a\\nmemorable unboxing experience\\nfor consumers.\\nChamberlain Coffee has seen great success since its launch in 2020. With $15 million in funding, a ready-to-drink product on Walmart shelves, the sky's the limit for this trendy coffee brand.\\nThis is a seamless blend of sustainability, personalised charm, and contemporary design. It not only preserves the freshness of the coffee inside but also crafts a\\nmemorable unboxing experience\\nfor consumers.\\nChamberlain Coffee has seen great success since its launch in 2020. With $15 million in funding, a ready-to-drink product on Walmart shelves, the sky's the limit for this trendy coffee brand.\\n2. Dak Coffee Roasters\\nInspired by the real Italian Espresso he first tasted in Milan, Louis-Philippe Boucher realised that coffee is a whole universe of flavours, roasts and brews. He founded\\nDak Coffee Roasters\\nto celebrate the ritual and explore the experience of coffee drinking.\\nDak Coffee Roasters are a company offering monthly subscriptions or one-time buys of the finest filter and espresso coffees from all over the world.\\nTheir mission is to deliver the most amazing coffee experience to anyone who wants it.\\nThis means inclusive branding - and simple is the way to do it.\\nThe\\nwhite mailer box\\nwith a basic graphic and logo is a refreshing, minimalistic approach to coffee packaging. It stands out in the hot beverage industry, full of mouth-watering images and intense colours.\\nDak Coffee Roasters communicate that for them, it's all about the coffee and the person drinking it, not fancy marketing tactics.\\nBut you need high-quality print and packaging material to achieve such a message.\\nThe company only sells coffee that's ethically sourced. They work sustainability into every aspect of their business - from fair wages to eco-conscious packaging. And this speaks through their unique, plain white box with eco print.\\nIt's a masterclass in minimalistic elegance\\n. Black and white. Devoid of distractions and frills. It is a testament to their philosophy: sometimes, simplicity speaks volumes.\\n3. Mother Tongue Coffee\\nIn the growing industry of artisanal coffee,\\nMother Tongue Coffee\\nhas found itself a niche. It combines seasoned expertise with a deep commitment to ethics.\\nJen Apodaca, the brain behind Mother Tongue, has been roasting since 2005. Her unparalleled roasting skills have graced renowned names like Intelligentsia and Blue Bottle.\\nOne glance at Mother Tongue's packaging has you captivated.\\nIt's funky. It's distinctive. And it has a flair that's hard to forget. The design ethos reflects Jen's journey and vision, blending quirkiness with authenticity.\\nNeed inspiration? Check out these amazing food packaging designs\\nMother Tongue believes in a sustainable business approach. Their mission is clear: coffee isn't a charity. It's a business. And for it to thrive, every stakeholder, from the farmer to the consumer, should benefit.\\n4. Ten Belles\\nAt the heart of\\nTen Belles\\n' roasting operations lies the Loring Falcon. It's a state-of-the-art roaster that perfectly embodies the brand's commitment to the environment. With minimal gas usage and emissions, it's a testament to Ten Belles' dedication to sustainable roasting.\\nNow, here's where Ten Belles truly shines: their packaging. Ten Belles offers a delightful deviation in an era saturated with single-use packages. They sell their beans in bulk across all their shops.\\nThe goal is to reduce packaging waste.\\nThat leads to the crown jewel of their coffee packaging approach:\\na refillable tin\\n. It allows customers to engage in an eco-friendly shopping experience.\\nThey urge customers to either purchase their signature tins or come prepared with their own containers. It's a conscious move that reduces waste and brings a unique aesthetic appeal.\\n5. Morgon Coffee Roasters\\n\\u200b\\u200bIn the vibrant heart of Gothenburg, during the summer of 2018, a fresh coffee narrative began to percolate.\\nMorgon Coffee Roasters\\nis a recent entrant in the coffee industry. But the seasoned trio behind it bring nearly 40 years of combined coffee wisdom.\\nFor Morgon, the journey from bean to cup is an enchanting one. And they want every customer to feel that same allure. Enter \\u200ctheir packaging — a harmonious blend of aesthetics and functionality.\\nEach bag, short and stocky, is a canvas. Abstract images splash across them.\\nEvery package looks like it belongs at an art museum.\\nThey've crafted a world where art, experience, and flavour intertwine effortlessly.\\nWhat's the best coffee packaging for me?\\nDeciding on the ideal coffee packaging requires introspection and market awareness. The right choice isn't just about aesthetics or functionality.\\nIt\\u200c reflects your brand's values and objectives.\\nSource\\nAsk yourself these questions:\\nAm I willing to invest in meticulous packaging techniques like nitrogen flushing?\\nWhich takes precedence: flavour protection or branding appeal?\\nHow important is sustainability to my brand's mission?\\nWhat are my financial constraints?\\nYour answers will guide you toward packaging solutions that align with your brand's ethos and logistical needs.\\nAnd if you need help along the way, connect with\\nPackhelp\\n. Our team can provide competitive quotes. And our seasoned packaging engineers are available around the clock. They're ready to share insights on what works best for the coffee industry.\\nWhat packaging options will you choose to make a mark in this growing industry?\\nAuthor Bio:\\nKelly is a self-proclaimed coffee addict who might love her morning java more than most acquaintances. \\u200b\\u200bWhen she's not exploring every coffee shop in town, she's writing content for all the unsuspecting souls of the internet from her perch at\\nHome & Jet\\n. If you read something mediocre online, there's a decent chance Kelly had her caffeinated fingers in it.\\nMaciej Zajac\\nCo-founder and COO of Packhelp. With a strong background in business development, Maciej drives Packhelp's operational excellence and supply chain. Passionate about optimising processes, he ensures that Packhelp delivers top-notch packaging to businesses of all sizes.\"}, {'Category': 'Packaging Beans', 'Scraped Content': 'What Types of Coffee Packaging Do You Need?'}, {'Category': 'Packaging Beans', 'Scraped Content': \"From bags, valves, designs, printing, and stickers; coffee packaging can feel like a big mess! Learn more about coffee bag packaging & design.\\nWhen shopping for coffee, consumers consider everything from the roast level to the brand's location.\\nBut the most influential factor?\\nCoffee bag design and packaging.\\n70% of consumers\\nreport that packaging design has a major influence on their decision to buy a product. Researchers tend to give packaging anywhere from\\n30 to 90 percent\\nof the credit for a customer's purchasing decision.\\nWhether you're selling your coffee in\\ngrocery stores\\n, your shop, or\\nonline\\n, your coffee bag design is one of the most meaningful interactions a person has with your brand.\\nNot only does your coffee packaging design help raise brand awareness, it also helps your coffee business stand out from the crowd and attract more coffee lovers and customers.\\nIn our guide, we'll show you everything you need to know about designing your coffee bags, including:\\n3 components your coffee packaging needs for quality, freshness, and compliance\\nThe 4 important packaging decisions every roaster must make\\nHow to create a coffee bag design that sells\"}, {'Category': 'Packaging Beans', 'Scraped Content': '4 Factors to Consider When Selecting Coffee Packaging\\nDanielle Ohl\\nApril 17, 2018\\nYour coffee packaging is your brand ambassador,\\xa0a communicator of your company values, and what keeps your coffee fresh. It is a vital piece of your marketing and ensures the quality of your product on its journey to reach your loyal consumers. So don\\'t treat it as an afterthought; give your coffee packaging the attention it rightfully deserves!\\nDownload our free Coffee Production Calculator\\nto uncover hidden inefficiencies that could be killing your business >>\\nHere are 4 factors to consider:\\n1. Types of coffee packaging bags\\nAs you look at store shelves in the coffee section, you will likely see 5 main types of coffee packaging bags, shown below:\\nFlat Bottom Bag\\nThe\\nflat bottom coffee bag\\nis one of the most popular packaging formats in the coffee industry. It features a prominent shelf presence and is able to stand unassisted for maximum impact. Often the top of the bag is folded over or completely down into a brick shape and sealed.\\nRead about how\\xa0\"Death Wish Coffee\"\\xa0uses VFFS packaging automation to create their iconic coffee bags >>\\nQuad Seal Bag\\nA\\nquad seal bag\\nis also very popular in the coffee industry. This bag has crisp side seals, can stand unassisted, and is attention-grabbing for its modular look. This coffee packaging bag type holds its shape very well and can support heavier fills of coffee. The quad seal bag usually is more costly than other bag styles.\\nPillow Bag\\nThe most economical and simplistic bag type, the\\npillow bag\\nis often used for fractional, single-serve coffee packaging formats. This bag style lays flat for display purposes. The pillow bag is by far the least costly to produce.\\nBag-in-Bag (BIB)\\nFractional packs of coffee can be packaged\\nbag-in-bag\\ninto a larger package\\xa0for foodservice or bulk sale purposes. Modern coffee packaging machines can form, fill, and seal the smaller frac packs and subsequently\\xa0package those into a larger outer wrap on a single\\nbag-in-bag machine\\n.\\nDoypack\\nWith a flat top and a rounded, oval-shaped bottom,\\xa0the\\nDoypack\\nor stand-up pouch differentiates itself from more typical coffee package types. It gives the consumer an impression of a premium, small-batch product. Often fitted with zippers, this coffee packaging bag type is beloved by consumers for its convenience. This bag style\\xa0usually costs more than other more simple bag types.\\nWhile stand-up pouches can be created on form fill seal machines, they are much better looking when purchased premade, and\\xa0then filled and sealed on an\\nautomatic pouch packing machine\\n.\\nRead about how Bean Box uses a coffee pouch\\xa0machine to fill and seal their premium kraft coffee bags >>\\n2. Coffee freshness factors\\nWill your product be distributed to stores, cafes, businesses, or shipped to end-users nation- or worldwide? If so, your coffee will need to stay fresh until the very end. To accomplish this,\\nModified Atmosphere Packaging (MAP)\\noptions can be used.\\nThe most popular modified atmosphere packaging system is\\nONE-WAY DEGASSING VALVES\\n, which allow the natural build-up of carbon dioxide in freshly roasted coffee an escape route while not letting\\nCOFFEE FRESHNESS KILLERS\\nlike oxygen, moisture, or light inside the bag.\\nOther modified atmosphere packaging options include nitrogen gas flushing, which displaces oxygen in the coffee bag before filling, and use of high-barrier packaging materials. You can choose to use one type of MAP in your coffee bean packaging design or many, depending upon your needs. For most modern coffee packaging applications, all of the above are recommended.\\n3. Coffee packaging convenience options\\nWith a busy consumer base that values their time above all,\\nCONVENIENCE PACKAGING\\nis all the rage in the coffee market.\\nCoffee roasters should consider the following options when catering to modern customers:\\nModern consumers are less brand loyal than ever before\\xa0and seek to purchase smaller, trial-sized packages of coffee as they explore their options.\\nClick to Tweet\\nZippers\\nOne of the most popular recloseable options, zippers mean a consumer can reuse the product after opening. Zipper reclosures provide an effective barrier against staling.\\nTies or tape\\nPopular in the coffee industry are tin tie and tape down closures. These reclosable options can be employed either independently or together on your coffee bean packaging machine. This choice is not as airtight as a zipper but is still a popular look for stand-up coffee packaging bags.\\nClear labeling\\nThe Perfect Daily Grind attests that \"you need a good label to communicate the origin(s), processing method, [and] roast date...of your beans.\" Customers want the whole story, in plain language, in plain sight.\\nMinimal package design\\nConsumers are already overwhelmed with choices, visuals, and data. Make it easy for them to select your coffee with minimal use of graphics and bold, solid patterns in your coffee bag packaging design.\\n\\'Try me\\' package sizes\\nBulk packages of coffee still have their place in the market, don\\'t get us wrong. But modern consumers are less brand loyal than ever before, and they want to purchase smaller, trial sized packages of coffee as they explore their options.\\n4. Coffee packaging process\\nWill you be hand-filling your coffee bags or are you considering automating with\\nCOFFEE PACKAGING EQUIPMENT\\n? If you plan to hand-fill your coffee bags, The Perfect Daily Grind recommends you choose a bag style that has a wide enough top opening to accommodate your scoop or filling apparatus. The Doypack may not be ideal in this situation as it only has two corners at its top opening, limiting the amount of room available for a filling tool. Compare this with the quad seal or flat bottom bag, which usually have four corners at their top openings and much more room to accommodate filling tools.\\nAlso note that hand-packing, while it may have a lower cost to entry, seriously limits your throughput, accuracy, and ability to ramp up production on a moment\\'s notice. If you already use - or are considering purchasing - automated\\nCOFFEE BAGGING EQUIPMENT\\n, your bag options are almost unlimited.\\nMost modern coffee packing machines can easily accommodate multiple bag styles and sizes. Fill weights are no longer a worry as automated filling solutions can operate at a high level of accuracy. Your throughput can increase by leaps and bounds and if you suddenly receive a large order, scaling your production up is no biggie.\\nNeed help planning your coffee production?\\nHow long has it been since you\\'ve assessed your coffee production and packaging processes? There may be hidden inefficiencies\\xa0present that are killing your business\\n(and your roast)\\n.\\nDownload our\\nfree Coffee Production Planning Tool\\nfor a comprehensive check-up:\\nGet your FREE coffee production planner >>\\nOriginally published 3/28/2017, updated 4/17/2018\\nRelated Blog Posts\\n3 unexpected ways COVID-19 is impacting the packaging industry\\n7 ways COVID-19 is changing the packaging industry\\nUpdates from Viking Masek about the coronavirus'}, {'Category': 'Shipping Beans', 'Scraped Content': 'Table of contents\\n1. Shipping Coffee\\n2. Shipping Methods\\n3. Awards and Endorsements\\n4. Choosing Your Carrier\\n5. Choosing FreightCenter\\n6. The Coffee Supply Chain Unveiled\\n7. Packaging\\n8. Palletization\\n9. Containerization\\n10. Temperature Control\\n11. Challenges and Solutions\\n12. Shipping Cost\\n13. Shipping with FreightCenter\\n14. Coffee Shipping FAQS\\nShipping Coffee\\nCoffee is one of the largest commodity markets in the world, with the morning pick-me-up of many coming in second next to oil! Every year, 7 billion kgs of coffee are traded, and 133 million bags are exported, creating a 28 billion dollar market. The global coffee market was valued at over 88 billion dollars in 2023, with the growth forecast predicting a 4.6% rise every year until 2028. Coffee consumption and the demand for specialty and exotic coffee continue to rise. This increase in demand prompts the need for reliable and efficient shipping methods. Shipping coffee globally presents many opportunities for growth and expansion.\\nShipping Methods\\nChoosing the right shipping method for coffee beans is crucial, and various factors come into play, such as cost, transit time, destination, volume, and any specific requirements for maintaining the coffee’s quality during transit.\\nAir freight\\nis ideal for time-sensitive shipments, ensuring fast transit to preserve the coffee’s freshness. Often suitable for smaller quantities.\\nGround freight\\nsuits smaller quantities and shorter distances, providing a cost-effective solution. Ocean freight, while slower, is the most economical for large volumes, allowing beans to undergo a natural maturation process that enhances flavor.\\nOcean freight\\nis the cheapest option, allowing collaboration with others heading to the same destination and regulating temperature in full containers.\\nCargo ships commonly transport coffee beans, whether packed in Full Container Load (FCL) or Less than Container Load (LCL).\\nA potential option for specialty roasters or farmers is a refrigerated container to help control temperature and moisture levels.\\nExpress courier services\\nare excellent for time-sensitive and small orders, providing door-to-door delivery with tracking abilities. Specialty roasters or farmers may consider refrigerated containers for temperature and moisture control.\\nMastering the intricacies of the shipping process is essential to ensure coffee beans reach their destination with aroma, flavor, and quality intact, from meticulous packaging to strategic transportation.\\nAt\\nFreightCenter\\n, our industry expertise, extensive carrier network, comprehensive logistics support, and commitment to the safe transportation of coffee make us the ideal company to trust for shipping coffee. Our dedication to customer satisfaction and efficient delivery aligns perfectly with the industry’s unique requirements.\\nTable of Contents:\\nCoffee Supply Chain\\nImports & Exports\\nPackaging\\nPalletization\\nContainerization\\nTemperature Control\\nChallenges and Solutions\\nShipping Costs\\nConclusion\\nFAQ'}, {'Category': 'MCMC Regulation', 'Scraped Content': \"NATIONAL POLICY OBJECTIVES\\nThe Commission has been entrusted to promote the following policy objectives for the postal services industry:\\nTo safeguard the provision of affordable and quality universal service;\\nTo promote the growth of a competitive and innovative postal services industry;\\nTo establish Malaysia as a major global centre and hub for postal services;\\nTo regulate for the long-term benefit of the user;\\nTo promote a\\xa0high level of consumer confidence in service delivery by the postal services industry;\\nTo ensure the security of postal service industry workers and the security of postal articles and the postal network;\\nTo respond to the technical, economic and social environment and needs of consumers; and\\nTo ensure fair competition amongst the parties involved in the postal services industry in Malaysia.\\nNATIONAL POSTAL STRATEGY\\nEffective postal and courier services which meet commercial and social needs of the country are important to both competitiveness and social cohesion. Hence, the Government of Malaysia is committed:\\nTo promote a vibrant postal and courier market;\\nTo promote an efficient Post Office network to meet the country's present and future needs;\\nTo promote greater access to postal services for its population by creating a conducive postal regulatory and development policy framework; and\\nTo promote a modern and ubiquitous postal and courier service network that results in excellent service quality and innovative products by industry players.\\nThe National Postal Strategy (NPS) sets out a roadmap for the development of postal and courier sector in Malaysia for a period 2010 to 2014. It lays an aggressive and coherent development agenda which is designed to meet the changing needs of customers, marker and operating environment driven mainly by the information revolution, globalization and changing economic climate.\\nThe NPS was officially launched by the Deputy Minister of Information Communications and Culture Malaysia, YB Dato’ Joseph Salang on 9 October 2010 in conjunction with the World Postal Day celebration in Kuching, Sarawak.\\nVision\\nThe postal and courier sector - an essential component of the Malaysian economy.\\nMission\\nTo drive the development and growth of a robust postal and courier sector in line with the economic and social needs of the nation.\\nThrusts\\nNPS is engineered on five thrusts:\\nSustainable Universal Postal Service\\nImprove Service Quality\\nImprove Productivity\\nFoster Industry Growth\\nEnhance International Development\\nNational Postal Strategy - Full Document\"}]\n"
          ]
        },
        {
          "data": {
            "text/plain": [
              "list"
            ]
          },
          "execution_count": 98,
          "metadata": {},
          "output_type": "execute_result"
        }
      ],
      "source": [
        "print(docs)\n",
        "type(docs)"
      ]
    },
    {
      "cell_type": "code",
      "execution_count": 99,
      "metadata": {
        "colab": {
          "base_uri": "https://localhost:8080/"
        },
        "id": "mEFDkVdqIrnU",
        "outputId": "b04e4485-0c4c-4905-ca19-6d24943d8c4c"
      },
      "outputs": [
        {
          "data": {
            "text/plain": [
              "79"
            ]
          },
          "execution_count": 99,
          "metadata": {},
          "output_type": "execute_result"
        }
      ],
      "source": [
        "# Check that the length of the list of chunked documents is greater than the length of `docs`\n",
        "len(split_docs)"
      ]
    },
    {
      "cell_type": "code",
      "execution_count": 100,
      "metadata": {
        "colab": {
          "base_uri": "https://localhost:8080/"
        },
        "id": "_PW8NAHsIrnU",
        "outputId": "07b7c299-3939-49b7-ac28-d7d5e63f3bef"
      },
      "outputs": [
        {
          "data": {
            "text/plain": [
              "{'Category': 'Packaging Beans',\n",
              " 'Scraped Content': 'Share:\\nTwitter\\nFacebook\\nPocket\\nLinkedIn\\nSensorial degradation in green coffee can represent significant financial losses for producers, traders, and roasters. Yet while a certain degree of degradation over time may be inevitable, the material of the coffee packaging can have a significant impact on the shelf life and quality of the beans.\\nJute, high-barrier, vacuum: which is really best? How much of an impact does the material actually have on the beans? And how can we measure this? Let’s take a look.\\nLee este artículo en español\\nMaterial Del Empaque: Cómo Afecta al Café Verde Con el Tiempo\\nAn empty, used jute bag with moisture stains. Credit: Ivan Petrich\\nReviewing Green Coffee Packaging Materials\\nSome of the most common materials are burlap, permeable plastic, high-barrier plastic, and vacuum.\\nBurlap'}"
            ]
          },
          "execution_count": 100,
          "metadata": {},
          "output_type": "execute_result"
        }
      ],
      "source": [
        "# Preview one of the items in split_docs- ensure that it is a Python dictionary\n",
        "split_docs[0]"
      ]
    },
    {
      "cell_type": "markdown",
      "metadata": {
        "id": "HjDFGqVYIrnU"
      },
      "source": [
        "# Step 5: Generate embeddings\n"
      ]
    },
    {
      "cell_type": "code",
      "execution_count": 101,
      "metadata": {
        "id": "HbJJ1xxmIrnU"
      },
      "outputs": [],
      "source": [
        "from sentence_transformers import SentenceTransformer\n",
        "from tqdm import tqdm"
      ]
    },
    {
      "cell_type": "code",
      "execution_count": 102,
      "metadata": {
        "id": "4hM8qCh1IrnU"
      },
      "outputs": [],
      "source": [
        "# Load the `gte-small` model using the Sentence Transformers library\n",
        "embedding_model = SentenceTransformer(\"thenlper/gte-small\")"
      ]
    },
    {
      "cell_type": "markdown",
      "metadata": {
        "id": "j0NcDhr7IrnU"
      },
      "source": [
        "📚 https://huggingface.co/thenlper/gte-small"
      ]
    },
    {
      "cell_type": "code",
      "execution_count": 103,
      "metadata": {
        "id": "B8qwJuPDIrnU"
      },
      "outputs": [],
      "source": [
        "# Define a function that takes a piece of text (`text`) as input, embeds it using the `embedding_model` instantiated above and returns the embedding as a list\n",
        "# An array can be converted to a list using the `tolist()` method\n",
        "def get_embedding(text: str) -> List[float]:\n",
        "    \"\"\"\n",
        "    Generate the embedding for a piece of text.\n",
        "\n",
        "    Args:\n",
        "        text (str): Text to embed.\n",
        "\n",
        "    Returns:\n",
        "        List[float]: Embedding of the text as a list.\n",
        "    \"\"\"\n",
        "    embedding = embedding_model.encode(text)\n",
        "\n",
        "    return embedding.tolist()"
      ]
    },
    {
      "cell_type": "code",
      "execution_count": 104,
      "metadata": {
        "id": "l83X8RBzIrnU"
      },
      "outputs": [],
      "source": [
        "embedded_docs = []"
      ]
    },
    {
      "cell_type": "code",
      "execution_count": 105,
      "metadata": {
        "colab": {
          "base_uri": "https://localhost:8080/"
        },
        "id": "D76T0acEIrnU",
        "outputId": "ccb0eb57-bc72-4373-d17a-fd3049f31b30"
      },
      "outputs": [
        {
          "name": "stderr",
          "output_type": "stream",
          "text": [
            "100%|██████████| 79/79 [00:18<00:00,  4.24it/s]\n"
          ]
        }
      ],
      "source": [
        "# Add an `embedding` field to each dictionary in `split_docs`\n",
        "# The `embedding` field should correspond to the embedding of the value of the `body` field\n",
        "# Use the `get_embedding` function defined above to generate the embedding\n",
        "# Append the updated dictionaries to `embedded_docs` initialized above.\n",
        "for doc in tqdm(split_docs):\n",
        "    doc[\"embedding\"] = get_embedding(doc[\"Scraped Content\"])\n",
        "\n",
        "    embedded_docs.append(doc)"
      ]
    },
    {
      "cell_type": "code",
      "execution_count": 106,
      "metadata": {
        "colab": {
          "base_uri": "https://localhost:8080/"
        },
        "id": "ZzGSNpPDIrnU",
        "outputId": "be0f4454-0e81-46e8-f19d-9827755b4795"
      },
      "outputs": [
        {
          "data": {
            "text/plain": [
              "79"
            ]
          },
          "execution_count": 106,
          "metadata": {},
          "output_type": "execute_result"
        }
      ],
      "source": [
        "# Check that the length of `embedded_docs` is the same as that of `split_docs`\n",
        "len(embedded_docs)"
      ]
    },
    {
      "cell_type": "markdown",
      "metadata": {
        "id": "31HVf4viIrnU"
      },
      "source": [
        "# Step 6: Ingest data into MongoDB\n"
      ]
    },
    {
      "cell_type": "code",
      "execution_count": 107,
      "metadata": {
        "id": "E_29fQtmIrnU"
      },
      "outputs": [],
      "source": [
        "# Name of the database -- Change if needed or leave as is\n",
        "DB_NAME = \"mongodb_rag_lab\"\n",
        "# Name of the collection -- Change if needed or leave as is\n",
        "COLLECTION_NAME = \"knowledge_base\"\n",
        "# Name of the vector search index -- Change if needed or leave as is\n",
        "ATLAS_VECTOR_SEARCH_INDEX_NAME = \"vector_index\""
      ]
    },
    {
      "cell_type": "markdown",
      "metadata": {
        "id": "OmKDq5i4IrnU"
      },
      "source": [
        "📚 https://pymongo.readthedocs.io/en/stable/tutorial.html#getting-a-database\n",
        "\n",
        "📚 https://pymongo.readthedocs.io/en/stable/tutorial.html#getting-a-collection"
      ]
    },
    {
      "cell_type": "code",
      "execution_count": 108,
      "metadata": {
        "id": "sKrZumaEIrnU"
      },
      "outputs": [],
      "source": [
        "# Connect to the collection defined above using the `mongodb_client` defined in Step 2\n",
        "collection = mongodb_client[DB_NAME][COLLECTION_NAME]"
      ]
    },
    {
      "cell_type": "code",
      "execution_count": 109,
      "metadata": {
        "colab": {
          "base_uri": "https://localhost:8080/"
        },
        "id": "oQMTwoirIrnV",
        "outputId": "fead365e-2215-49d7-d009-b75320e8dfc6"
      },
      "outputs": [
        {
          "data": {
            "text/plain": [
              "DeleteResult({'n': 0, 'electionId': ObjectId('7fffffff00000000000000d7'), 'opTime': {'ts': Timestamp(1728923575, 20), 't': 215}, 'ok': 1.0, '$clusterTime': {'clusterTime': Timestamp(1728923575, 20), 'signature': {'hash': b's\\x9c\"\\x9e\\x0c\\x10\\xc3\\x95\\x12\\x10T9~\\xa9\\xc2f\\xea\\xd2\\xbe\\x12', 'keyId': 7374051199001034755}}, 'operationTime': Timestamp(1728923575, 20)}, acknowledged=True)"
            ]
          },
          "execution_count": 109,
          "metadata": {},
          "output_type": "execute_result"
        }
      ],
      "source": [
        "# Bulk delete all existing records from the collection defined above\n",
        "collection.delete_many({})"
      ]
    },
    {
      "cell_type": "markdown",
      "metadata": {
        "id": "uD8OKgQTIrnV"
      },
      "source": [
        "📚 https://pymongo.readthedocs.io/en/stable/examples/bulk.html#bulk-insert\n"
      ]
    },
    {
      "cell_type": "code",
      "execution_count": 110,
      "metadata": {
        "colab": {
          "base_uri": "https://localhost:8080/"
        },
        "id": "lpkhiDr3IrnV",
        "outputId": "d008eacc-8e80-4360-9e69-6e0078cb94fe"
      },
      "outputs": [
        {
          "name": "stdout",
          "output_type": "stream",
          "text": [
            "Data ingestion into MongoDB completed\n"
          ]
        }
      ],
      "source": [
        "# Bulk insert `embedded_docs` into the collection defined above -- should be a one-liner\n",
        "collection.insert_many(embedded_docs)\n",
        "\n",
        "print(\"Data ingestion into MongoDB completed\")"
      ]
    },
    {
      "cell_type": "markdown",
      "metadata": {
        "id": "JZiff8s8IrnX"
      },
      "source": [
        "# Step 7: Create a vector search index\n",
        "\n",
        "Follow the instructions in the documentation to create a Vector Search index in the Atlas UI.\n"
      ]
    },
    {
      "cell_type": "markdown",
      "metadata": {
        "id": "FF4jw2APIrnX"
      },
      "source": [
        "# Step 8: Perform semantic search on your data\n"
      ]
    },
    {
      "cell_type": "markdown",
      "metadata": {
        "id": "_aNpEvbeIrnY"
      },
      "source": [
        "### Define a vector search function\n",
        "\n",
        "📚 https://www.mongodb.com/docs/atlas/atlas-vector-search/vector-search-stage/#fields\n",
        "\n",
        "📚 https://www.mongodb.com/docs/atlas/atlas-vector-search/vector-search-stage/#ann-examples (Refer to the \"Basic Example\")\n"
      ]
    },
    {
      "cell_type": "code",
      "execution_count": 120,
      "metadata": {
        "id": "SFBReDiuIrnY"
      },
      "outputs": [],
      "source": [
        "# Define a function to retrieve relevant documents for a user query using vector search\n",
        "def vector_search(user_query: str) -> List[Dict]:\n",
        "    \"\"\"\n",
        "    Retrieve relevant documents for a user query using vector search.\n",
        "\n",
        "    Args:\n",
        "    user_query (str): The user's query string.\n",
        "\n",
        "    Returns:\n",
        "    list: A list of matching documents.\n",
        "    \"\"\"\n",
        "\n",
        "    # Generate embedding for the `user_query` using the `get_embedding` function defined in Step 5\n",
        "    query_embedding = get_embedding(user_query)\n",
        "\n",
        "    # Define an aggregation pipeline consisting of a $vectorSearch stage, followed by a $project stage\n",
        "    # Set the number of candidates to 150 and only return the top 5 documents from the vector search\n",
        "    # In the $project stage, exclude the `_id` field and include only the `body` field and `vectorSearchScore`\n",
        "    # NOTE: Use variables defined previously for the `index`, `queryVector` and `path` fields in the $vectorSearch stage\n",
        "    pipeline = [\n",
        "      {\n",
        "          \"$vectorSearch\": {\n",
        "              \"index\": ATLAS_VECTOR_SEARCH_INDEX_NAME,\n",
        "              \"queryVector\": query_embedding,\n",
        "              \"path\": \"embedding\",\n",
        "              \"numCandidates\": 150,\n",
        "              \"limit\": 5,\n",
        "          }\n",
        "      },\n",
        "      {\n",
        "          \"$project\": {\n",
        "              \"_id\": 0,\n",
        "              \"Scraped Content\": 1,\n",
        "              \"score\": {\"$meta\": \"vectorSearchScore\"}\n",
        "          }\n",
        "      }\n",
        "  ]\n",
        "\n",
        "    # Execute the aggregation `pipeline` and store the results in `results`\n",
        "    results = collection.aggregate(pipeline)\n",
        "\n",
        "    return list(results)"
      ]
    },
    {
      "cell_type": "markdown",
      "metadata": {
        "id": "8769kz1LIrnY"
      },
      "source": [
        "### Run vector search queries\n"
      ]
    },
    {
      "cell_type": "code",
      "execution_count": 121,
      "metadata": {
        "colab": {
          "base_uri": "https://localhost:8080/"
        },
        "id": "6SFeBGAtIrnY",
        "outputId": "8c4c78f5-5237-4b54-e1d2-5a30a39ed5da"
      },
      "outputs": [
        {
          "data": {
            "text/plain": [
              "[{'Scraped Content': 'Search\\nSearch\\nCommodities\\nAn Ultimate Guide to Shipping Metals and Minerals\\nAn Ultimate Guide to Shipping Generators and Power Systems\\nAn Ultimate Guide to Shipping Electrical and Plumbing Equipment\\nMost Popular\\nAn Insight Into BMW Supply Chain Strategy\\nBreaking Down McDonald’s Supply Chain Strategy: A Recipe for Success\\nAn Insight into Unilever Supply Chain Strategy\\nPrivacy Policy\\nCopyright © 2021 Dfreight.org\\nSafe Web\\nContact Us\\nOur customer support team is available for your assistance. You can give us a call or send us an email.\\nInfo@Dfreight.org\\n402, Emaar Square Bldg 4, Downtown, Dubai\\nQuick Menu\\nAbout\\nContact Us\\nCareers\\nCopyright © 2021 Dfreight.org',\n",
              "  'score': 0.9026746153831482},\n",
              " {'Scraped Content': 'NATIONAL POLICY OBJECTIVES\\nThe Commission has been entrusted to promote the following policy objectives for the postal services industry:\\nTo safeguard the provision of affordable and quality universal service;\\nTo promote the growth of a competitive and innovative postal services industry;\\nTo establish Malaysia as a major global centre and hub for postal services;\\nTo regulate for the long-term benefit of the user;\\nTo promote a\\xa0high level of consumer confidence in service delivery by the postal services industry;\\nTo ensure the security of postal service industry workers and the security of postal articles and the postal network;\\nTo respond to the technical, economic and social environment and needs of consumers; and\\nTo ensure fair competition amongst the parties involved in the postal services industry in Malaysia.\\nNATIONAL POSTAL STRATEGY\\nEffective postal and courier services which meet commercial and social needs of the country are important to both competitiveness and social cohesion. Hence, the Government of Malaysia is committed:',\n",
              "  'score': 0.8976967334747314},\n",
              " {'Scraped Content': 'DDP\\nDPU\\nEXW\\nFAS\\nFCA\\nFOB\\nCase Studies\\nAmerican Specialty Food\\nRoyal Care Medical Equipment\\nArista Construction Systems\\nAl Mazen\\nKenya and Burki Motors FZCO\\nPVS International\\nMulti Home Furniture\\nE-Guides\\nUAE Shipping Guide\\nCommodities Guide\\nLogistics Manager’s Guide\\nShipping Glossary\\nContainer Tracking\\nExplore World Ports\\nShipping Calculator\\nHow Our Platform Works\\nTake Your Supply Chain to the Next Level. End-to-End Supply Chain Management\\nWatch Demo\\nAbout\\nAbout Us\\nPrivacy Policy\\nContact Us\\nCustomer Care\\nTerms and Conditions\\nHow Our Platform Works\\nTake Your Supply Chain to the Next Level. End-to-End Supply Chain Management\\nWatch Demo\\nBlog\\nCareers\\nLogin\\nA Comprehensive Guide to Shipping Coffee\\nNovember 9, 2023',\n",
              "  'score': 0.8937430381774902},\n",
              " {'Scraped Content': 'After processing, the coffee beans need to be sorted, graded, and prepared for export. This involves removing any defects or impurities, categorizing the beans based on size and quality, and packaging them appropriately. Coffee grading systems, such as the\\nSpecialty Coffee Association’s (SCA)\\nprotocol, help determine the quality and value of the beans.\\nOnce the coffee is ready for export, it enters the international trade market. Exporters and importers play a vital role in facilitating the movement of coffee between producing and consuming countries. They handle logistics, negotiate contracts, arrange shipping, and navigate customs procedures to ensure the smooth flow of coffee across borders.',\n",
              "  'score': 0.8928576707839966},\n",
              " {'Scraped Content': 'Menu\\nServices\\nOcean Freight\\nUAE\\nIndia\\nChina\\nUSA\\nSaudi Arabia\\nKuwait\\nQatar\\nTurkey\\nItaly\\nBrazil\\nUK\\nFrance\\nArgentina\\nNetherlands\\nAustralia\\nNew Zealand\\nSouth Africa\\nGermany\\nAir Freight\\nUAE\\nAustralia\\nNetherlands\\nIndia\\nQatar\\nChina\\nItaly\\nUK\\nUSA\\nTurkey\\nArgentina\\nBrazil\\nChile\\nFrance\\nSaudi Arabia\\nGermany\\nSpain\\nCanada\\nCourier\\nLand Freight\\nCustoms Clearance\\nForwarder Alliance\\nDFreight Platfrom\\nHelp Center\\nDFreight Mobile App\\nHow Our Platform Works\\nTake Your Supply Chain to the Next Level. End-to-End Supply Chain Management\\nWatch Demo\\nResources\\nIncoterms\\nCFR\\nCIF\\nCIP\\nCPT\\nDAP\\nDAT\\nDDP\\nDPU\\nEXW\\nFAS\\nFCA\\nFOB\\nCase Studies\\nAmerican Specialty Food\\nRoyal Care Medical Equipment',\n",
              "  'score': 0.8917403221130371}]"
            ]
          },
          "execution_count": 121,
          "metadata": {},
          "output_type": "execute_result"
        }
      ],
      "source": [
        "vector_search(\"What is MCMC Regulations?\")"
      ]
    },
    {
      "cell_type": "code",
      "execution_count": 124,
      "metadata": {
        "colab": {
          "base_uri": "https://localhost:8080/"
        },
        "id": "PQFZnfOsIrnY",
        "outputId": "6adafb84-8342-46a6-97c0-50046a7a39c2"
      },
      "outputs": [
        {
          "data": {
            "text/plain": [
              "[{'Scraped Content': 'NATIONAL POLICY OBJECTIVES\\nThe Commission has been entrusted to promote the following policy objectives for the postal services industry:\\nTo safeguard the provision of affordable and quality universal service;\\nTo promote the growth of a competitive and innovative postal services industry;\\nTo establish Malaysia as a major global centre and hub for postal services;\\nTo regulate for the long-term benefit of the user;\\nTo promote a\\xa0high level of consumer confidence in service delivery by the postal services industry;\\nTo ensure the security of postal service industry workers and the security of postal articles and the postal network;\\nTo respond to the technical, economic and social environment and needs of consumers; and\\nTo ensure fair competition amongst the parties involved in the postal services industry in Malaysia.\\nNATIONAL POSTAL STRATEGY\\nEffective postal and courier services which meet commercial and social needs of the country are important to both competitiveness and social cohesion. Hence, the Government of Malaysia is committed:',\n",
              "  'score': 0.9461139440536499},\n",
              " {'Scraped Content': \"To promote a vibrant postal and courier market;\\nTo promote an efficient Post Office network to meet the country's present and future needs;\\nTo promote greater access to postal services for its population by creating a conducive postal regulatory and development policy framework; and\\nTo promote a modern and ubiquitous postal and courier service network that results in excellent service quality and innovative products by industry players.\\nThe National Postal Strategy (NPS) sets out a roadmap for the development of postal and courier sector in Malaysia for a period 2010 to 2014. It lays an aggressive and coherent development agenda which is designed to meet the changing needs of customers, marker and operating environment driven mainly by the information revolution, globalization and changing economic climate.\\nThe NPS was officially launched by the Deputy Minister of Information Communications and Culture Malaysia, YB Dato’ Joseph Salang on 9 October 2010 in conjunction with the World Postal Day celebration in Kuching, Sarawak.\\nVision\",\n",
              "  'score': 0.9345187544822693},\n",
              " {'Scraped Content': 'Vision\\nThe postal and courier sector - an essential component of the Malaysian economy.\\nMission\\nTo drive the development and growth of a robust postal and courier sector in line with the economic and social needs of the nation.\\nThrusts\\nNPS is engineered on five thrusts:\\nSustainable Universal Postal Service\\nImprove Service Quality\\nImprove Productivity\\nFoster Industry Growth\\nEnhance International Development\\nNational Postal Strategy - Full Document',\n",
              "  'score': 0.9254838228225708},\n",
              " {'Scraped Content': 'Search\\nSearch\\nCommodities\\nAn Ultimate Guide to Shipping Metals and Minerals\\nAn Ultimate Guide to Shipping Generators and Power Systems\\nAn Ultimate Guide to Shipping Electrical and Plumbing Equipment\\nMost Popular\\nAn Insight Into BMW Supply Chain Strategy\\nBreaking Down McDonald’s Supply Chain Strategy: A Recipe for Success\\nAn Insight into Unilever Supply Chain Strategy\\nPrivacy Policy\\nCopyright © 2021 Dfreight.org\\nSafe Web\\nContact Us\\nOur customer support team is available for your assistance. You can give us a call or send us an email.\\nInfo@Dfreight.org\\n402, Emaar Square Bldg 4, Downtown, Dubai\\nQuick Menu\\nAbout\\nContact Us\\nCareers\\nCopyright © 2021 Dfreight.org',\n",
              "  'score': 0.8978623151779175},\n",
              " {'Scraped Content': 'DDP\\nDPU\\nEXW\\nFAS\\nFCA\\nFOB\\nCase Studies\\nAmerican Specialty Food\\nRoyal Care Medical Equipment\\nArista Construction Systems\\nAl Mazen\\nKenya and Burki Motors FZCO\\nPVS International\\nMulti Home Furniture\\nE-Guides\\nUAE Shipping Guide\\nCommodities Guide\\nLogistics Manager’s Guide\\nShipping Glossary\\nContainer Tracking\\nExplore World Ports\\nShipping Calculator\\nHow Our Platform Works\\nTake Your Supply Chain to the Next Level. End-to-End Supply Chain Management\\nWatch Demo\\nAbout\\nAbout Us\\nPrivacy Policy\\nContact Us\\nCustomer Care\\nTerms and Conditions\\nHow Our Platform Works\\nTake Your Supply Chain to the Next Level. End-to-End Supply Chain Management\\nWatch Demo\\nBlog\\nCareers\\nLogin\\nA Comprehensive Guide to Shipping Coffee\\nNovember 9, 2023',\n",
              "  'score': 0.8972786664962769}]"
            ]
          },
          "execution_count": 124,
          "metadata": {},
          "output_type": "execute_result"
        }
      ],
      "source": [
        "vector_search(\"What are National Policy of MCMC on Postal\")"
      ]
    },
    {
      "cell_type": "markdown",
      "metadata": {
        "id": "KGp-Vy9QIrnY"
      },
      "source": [
        "# 🦹‍♀️ Combine pre-filtering with vector search\n",
        "\n",
        "📚 https://www.mongodb.com/docs/atlas/atlas-vector-search/vector-search-type/#about-the-filter-type\n",
        "\n",
        "📚 https://www.mongodb.com/docs/atlas/atlas-vector-search/vector-search-stage/#ann-examples (Refer to the \"Filter Example\")\n"
      ]
    },
    {
      "cell_type": "markdown",
      "metadata": {
        "id": "b_D9S7sfIrnY"
      },
      "source": [
        "### Filter for documents where the content type is `Video`\n",
        "\n",
        "Modify the vector search index definition (from Step 7) in the Atlas UI to include the `metadata.contentType` field as a `filter` field"
      ]
    },
    {
      "cell_type": "code",
      "execution_count": 125,
      "metadata": {
        "id": "Nv7O7XmVIrnY"
      },
      "outputs": [],
      "source": [
        "# Embed the user query\n",
        "query_embedding = get_embedding(\"What is MongoDB Atlas Search?\")"
      ]
    },
    {
      "cell_type": "code",
      "execution_count": null,
      "metadata": {
        "id": "_a9ONPY3IrnY"
      },
      "outputs": [],
      "source": [
        "# Modify the $vectorSearch stage of the aggregation pipeline defined previously to include a filter for documents where the `metadata.contentType` field has the value \"Video\"\n",
        "pipeline = [\n",
        "    {\n",
        "        \"$vectorSearch\": {\n",
        "            \"index\": \"vector_index\",\n",
        "            \"path\": \"embedding\",\n",
        "            \"queryVector\": query_embedding,\n",
        "            \"numCandidates\": 150,\n",
        "            \"limit\": 5,\n",
        "            \"filter\": {\"metadata.contentType\": \"Video\"}\n",
        "        }\n",
        "    },\n",
        "    {\n",
        "        \"$project\": {\n",
        "            \"_id\": 0,\n",
        "            \"body\": 1,\n",
        "            \"score\": {\"$meta\": \"vectorSearchScore\"}\n",
        "        }\n",
        "    }\n",
        "]"
      ]
    },
    {
      "cell_type": "code",
      "execution_count": null,
      "metadata": {
        "colab": {
          "base_uri": "https://localhost:8080/"
        },
        "id": "V7bD16RKIrnY",
        "outputId": "ae64e98b-53b5-4e46-f5f6-00faf8827f23"
      },
      "outputs": [
        {
          "data": {
            "text/plain": [
              "[{'body': \"# The Atlas Search 'cene: Season 1\\n\\n# The Atlas Search 'cene: Season 1\\n\\nWelcome to the first season of a video series dedicated to Atlas Search!  This series of videos is designed to guide you through the journey from getting started and understanding the concepts, to advanced techniques.\\n\\n## What is Atlas Search?\\n\\n[Atlas Search][1] is an embedded full-text search in MongoDB Atlas that gives you a seamless, scalable experience for building relevance-based app features. Built on Apache Lucene, Atlas Search eliminates the need to run a separate search system alongside your database.\\n\\nBy integrating the database, search engine, and sync mechanism into a single, unified, and fully managed platform, Atlas Search is the fastest and easiest way to build relevance-based search capabilities directly into applications.\",\n",
              "  'score': 0.9609129428863525},\n",
              " {'body': '[1]: https://www.mongodb.com/atlas/search\\n  [2]: https://www.mongodb.com/developer/videos/what-is-atlas-search-quick-start/\\n  [3]: https://www.mongodb.com/developer/videos/atlas-search-configuration-development-environment/\\n  [4]: https://www.mongodb.com/developer/videos/mastering-indexing-for-perfect-query-matches/\\n  [5]: https://www.mongodb.com/developer/videos/query-operators-relevancy-controls-for-precision-searches/\\n  [6]: https://www.mongodb.com/developer/videos/faceting-mastery-unlock-the-full-potential-of-atlas-search-s-contextual-insights/\\n  [7]: https://www.mongodb.com/developer/videos/atlas-search-mastery-elevate-your-search-with-fuzzy-geospatial-highlighting-hacks/\\n  [8]: https://www.mongodb.com/developer/videos/atlas-search-query-analytics/',\n",
              "  'score': 0.9582604765892029},\n",
              " {'body': '[8]: https://www.mongodb.com/developer/videos/atlas-search-query-analytics/\\n  [9]: https://www.mongodb.com/developer/videos/tips-and-tricks-the-atlas-search-cene-season-1-episode-8/',\n",
              "  'score': 0.9513591527938843},\n",
              " {'body': '### **[Episode 3: Indexing][4]**\\n\\nWhile Atlas Search automatically indexes your collections content, it does demand attention to the indexing configuration details in order to match users queries appropriately. This episode covers how Atlas Search builds an inverted index, and the options one must consider.\\n\\n### **[Episode 4: Searching][5]**\\n\\nAtlas Search provides a rich set of query operators and relevancy controls. This episode covers the common query operators, their relevancy controls, and ends with coverage of the must-have Query Analytics feature.\\n\\n### **[Episode 5:  Faceting][6]**\\n\\nFacets produce additional context for search results, providing a list of subsets and counts within. This episode details the faceting options available in Atlas Search.\\n\\n### **[Episode 6: Advanced Search Topics][7]**\\n\\nIn this episode, we go through some more advanced search topics including embedded documents, fuzzy search, autocomplete, highlighting, and geospatial.',\n",
              "  'score': 0.9452465772628784},\n",
              " {'body': '> Hip to the *\\'cene*\\n> \\n> The name of this video series comes from a contraction of \"Lucene\",\\n> the search engine library leveraged by Atlas. Or it\\'s a short form of \"scene\". \\n\\n## Episode Guide\\n\\n### **[Episode 1: What is Atlas Search & Quick Start][2]**\\n\\nIn this first episode of the Atlas Search \\'cene, learn what Atlas Search is, and get a quick start introduction to setting up Atlas Search on your data.  Within a few clicks, you can set up a powerful, full-text search index on your Atlas collection data, and leverage the fast, relevant results to your users queries.\\n\\n### **[Episode 2: Configuration / Development Environment][3]**\\n\\nIn order to best leverage Atlas Search, configuring it for your querying needs leads to success. In this episode, learn how Atlas Search maps your documents to its index, and discover the configuration control you have.',\n",
              "  'score': 0.9419650435447693}]"
            ]
          },
          "execution_count": 38,
          "metadata": {},
          "output_type": "execute_result"
        }
      ],
      "source": [
        "# Execute the aggregation pipeline and view the results\n",
        "results = collection.aggregate(pipeline)\n",
        "list(results)"
      ]
    },
    {
      "cell_type": "markdown",
      "metadata": {
        "id": "K3Aksvb3IrnY"
      },
      "source": [
        "### Filter on documents which have been updated on or after `2024-05-19` and where the content type is `Tutorial`\n",
        "\n",
        "Modify the index definition (from Step 7) in the Atlas UI to include the `metadata.contentType` and `updated` fields as `filter` fields"
      ]
    },
    {
      "cell_type": "code",
      "execution_count": null,
      "metadata": {
        "id": "X6b3SMB_IrnY"
      },
      "outputs": [],
      "source": [
        "# Embed the user query\n",
        "query_embedding = get_embedding(\"What is MongoDB Atlas Search?\")"
      ]
    },
    {
      "cell_type": "code",
      "execution_count": null,
      "metadata": {
        "id": "0Y0_omc7IrnY"
      },
      "outputs": [],
      "source": [
        "# Modify the $vectorSearch stage of the aggregation pipeline defined previously to include a filter for documents where\n",
        "# the `metadata.contentType` field has the value \"Tutorial\"\n",
        "# AND\n",
        "# the `updated` field is greater than or equal to \"2024-05-19\"\n",
        "pipeline = [\n",
        "    {\n",
        "        \"$vectorSearch\": {\n",
        "            \"index\": \"vector_index\",\n",
        "            \"path\": \"embedding\",\n",
        "            \"queryVector\": query_embedding,\n",
        "            \"numCandidates\": 150,\n",
        "            \"limit\": 5,\n",
        "            \"filter\": {\n",
        "                \"metadata.contentType\": \"Tutorial\",\n",
        "                \"updated\": {\"$gte\": \"2024-05-19\"}\n",
        "            }\n",
        "        }\n",
        "    },\n",
        "    {\n",
        "        \"$project\": {\n",
        "            \"_id\": 0,\n",
        "            \"body\": 1,\n",
        "            \"score\": {\"$meta\": \"vectorSearchScore\"}\n",
        "        }\n",
        "    }\n",
        "]"
      ]
    },
    {
      "cell_type": "code",
      "execution_count": null,
      "metadata": {
        "colab": {
          "base_uri": "https://localhost:8080/"
        },
        "id": "hNALhLTfIrnY",
        "outputId": "394ee153-27e6-4c98-8032-f6fe7da761a1"
      },
      "outputs": [
        {
          "data": {
            "text/plain": [
              "[{'body': '# How to Model Your Documents for Vector Search\\n\\nAtlas Vector Search was recently released, so let’s dive into a tutorial on how to properly model your documents when utilizing vector search to revolutionize your querying capabilities!\\n\\n## Data modeling normally in MongoDB\\n\\nVector search is new, so let’s first go over the basic ways of modeling your data in a MongoDB document before continuing on into how to incorporate vector embeddings. \\n\\nData modeling in MongoDB revolves around organizing your data into documents within various collections. Varied projects or organizations will require different ways of structuring data models due to the fact that successful data modeling depends on the specific requirements of each application, and for the most part, no one document design can be applied for every situation. There are some commonalities, though, that can guide the user. These are:',\n",
              "  'score': 0.952588677406311},\n",
              " {'body': '# How to Deploy MongoDB Atlas with AWS CloudFormation\\n\\nMongoDB Atlas is the multi-cloud developer data platform that provides an integrated suite of cloud database and data services. We help to accelerate and simplify how you build resilient and performant global applications on the cloud provider of your choice.\\n\\nAWS CloudFormation lets you model, provision, and manage AWS and third-party resources like MongoDB Atlas by treating infrastructure as code (IaC). CloudFormation templates are written in either JSON or YAML. \\n\\nWhile there are multiple ways to use CloudFormation to provision and manage your Atlas clusters, such as with Partner Solution Deployments or the AWS CDK, today we’re going to go over how to create your first YAML CloudFormation templates to deploy Atlas clusters with CloudFormation.',\n",
              "  'score': 0.9507526159286499},\n",
              " {'body': 'You will need the following to get started:\\n\\n- An account with Grafbase\\n- An account with MongoDB Atlas\\n- A database with data API access enabled\\n\\n## Enable data API access\\n\\nYou will need a database with MongoDB Atlas to follow along — create one now!\\n\\nFor the purposes of this tutorial, I’ve created a free shared cluster with a single database deployment. We’ll refer to this instance as your “Data Source” later.\\n\\n through the `g.datasource(mongodb)` call.\\n\\n## Create models for data\\n\\nThe MongoDB connector empowers developers to organize their MongoDB collections in a manner that allows Grafbase to autonomously generate the essential queries and mutations for document creation, retrieval, update, and deletion within these collections.\\n\\nWithin Grafbase, each configuration for a collection is referred to as a \"model,\" and you have the flexibility to employ the supported GraphQL Scalars to represent data within the collection(s).',\n",
              "  'score': 0.9448556303977966},\n",
              " {'body': \"To get our MongoDB URI, in our MongoDB Atlas dashboard: \\n\\n 1. Hit the **Connect** button. \\n 2. Then, click the **Connect to your application** button, and here you'll see a string that contains your **URI** that will look like this:\\n\\n```\\nmongodb+srv://:@cluster0..mongodb.net/?retryWrites=true&w=majority\\n```\\nIf you are new to MongoDB Atlas, you'll need to go to the **Database Access** section and create a username and password, as well as the **Network Access** tab to ensure your IP is allowed to connect to the database. However, if you already have a database user and network access enabled, you'll just need to replace the `` and `` fields with your information.\\n\\nFor the ``, we'll load the MongoDB Atlas sample datasets and use one of those databases.\\n\\n, and we'll help troubleshoot.\",\n",
              "  'score': 0.943320631980896},\n",
              " {'body': '## Extras: Querying with vector search\\n\\nWhen you’re ready to query and find results from your embedded documents, it’s time to create an aggregation pipeline on your embedded vector data. To do this, you can use the“$vectorSearch” operator, which is a new aggregation stage in Atlas. It helps execute an Approximate Nearest Neighbor query. \\n\\nFor more information on this step, please check out the tutorial on Developer Center about [building generative AI applications, and our YouTube video on vector search.',\n",
              "  'score': 0.9425933361053467}]"
            ]
          },
          "execution_count": 41,
          "metadata": {},
          "output_type": "execute_result"
        }
      ],
      "source": [
        "# Execute the aggregation pipeline and view the results\n",
        "results = collection.aggregate(pipeline)\n",
        "list(results)"
      ]
    },
    {
      "cell_type": "markdown",
      "metadata": {
        "id": "XAsYf3pLIrnY"
      },
      "source": [
        "# Step 9: Build the RAG application\n"
      ]
    },
    {
      "cell_type": "markdown",
      "metadata": {
        "id": "m3NBJjBZIrnY"
      },
      "source": [
        "### Instantiate a chat model\n"
      ]
    },
    {
      "cell_type": "code",
      "execution_count": 126,
      "metadata": {
        "id": "kTF-03X9IrnY"
      },
      "outputs": [],
      "source": [
        "from fireworks.client import Fireworks"
      ]
    },
    {
      "cell_type": "code",
      "execution_count": 127,
      "metadata": {
        "id": "CGGfYUh6IrnZ"
      },
      "outputs": [],
      "source": [
        "# Initializing the Fireworks AI client and the model string\n",
        "fw_client = Fireworks()\n",
        "model = \"accounts/fireworks/models/llama-v3-8b-instruct\""
      ]
    },
    {
      "cell_type": "markdown",
      "metadata": {
        "id": "alp3AcQXIrnZ"
      },
      "source": [
        "### Define a function to create the chat prompt"
      ]
    },
    {
      "cell_type": "code",
      "execution_count": 131,
      "metadata": {
        "id": "wwjE0OhHIrnZ"
      },
      "outputs": [],
      "source": [
        "# Define a function to create the user prompt for our RAG application\n",
        "def create_prompt(user_query: str) -> str:\n",
        "    \"\"\"\n",
        "    Create a chat prompt that includes the user query and retrieved context.\n",
        "\n",
        "    Args:\n",
        "        user_query (str): The user's query string.\n",
        "\n",
        "    Returns:\n",
        "        str: The chat prompt string.\n",
        "    \"\"\"\n",
        "    # Retrieve the most relevant documents for the `user_query` using the `vector_search` function defined in Step 8\n",
        "    context = vector_search(user_query)\n",
        "\n",
        "    # Join the retrieved documents into a single string, where each document is separated by two new lines (\"\\n\\n\")\n",
        "    context = \"\\n\\n\".join([doc.get('Scraped Content') for doc in context])\n",
        "    # Prompt consisting of the question and relevant context to answer it\n",
        "    prompt = f\"Answer the question based only on the following context. If the context is empty, say I DON'T KNOW\\n\\nContext:\\n{context}\\n\\nQuestion:{user_query}\"\n",
        "    return prompt"
      ]
    },
    {
      "cell_type": "markdown",
      "metadata": {
        "id": "PNBSDmh0IrnZ"
      },
      "source": [
        "### Define a function to answer user queries\n",
        "\n",
        "📚 https://docs.fireworks.ai/guides/querying-text-models#chat-completions-api"
      ]
    },
    {
      "cell_type": "code",
      "execution_count": 132,
      "metadata": {
        "id": "B8qfr4ZmIrnZ"
      },
      "outputs": [],
      "source": [
        "# Define a function to answer user queries using Fireworks' Chat Completion API\n",
        "def generate_answer(user_query: str) -> None:\n",
        "    \"\"\"\n",
        "    Generate an answer to the user query.\n",
        "\n",
        "    Args:\n",
        "        user_query (str): The user's query string.\n",
        "    \"\"\"\n",
        "    # Use the `create_prompt` function above to create a chat prompt\n",
        "    prompt = create_prompt(user_query)\n",
        "\n",
        "    # Use the `prompt` created above to populate the `content` field in the chat message\n",
        "    response = fw_client.chat.completions.create(\n",
        "        model=model,\n",
        "        messages=[{\"role\": \"user\", \"content\": prompt}]\n",
        "    )\n",
        "    # Print the final answer\n",
        "    print(response.choices[0].message.content)"
      ]
    },
    {
      "cell_type": "markdown",
      "metadata": {
        "id": "r4gtuF62IrnZ"
      },
      "source": [
        "### Query the RAG application\n"
      ]
    },
    {
      "cell_type": "code",
      "execution_count": 133,
      "metadata": {
        "colab": {
          "base_uri": "https://localhost:8080/"
        },
        "id": "b34B2S1zIrnZ",
        "outputId": "1f873f23-47d5-4c36-eba5-118496f57cce"
      },
      "outputs": [
        {
          "name": "stdout",
          "output_type": "stream",
          "text": [
            "According to the context, here are some packaging coffee bean tips:\n",
            "\n",
            "* Use mailer boxes for convenience and protection of your coffee pouches and cans.\n",
            "* Use sturdy exterior boxes to protect the beans and ensure they reach their destination in optimal condition.\n",
            "* Store coffee beans in an airtight container to increase the shelf life of the beans.\n",
            "* Store ground coffee in an unopened bag for 2-4 months, roasted whole coffee beans in a vacuum-sealed bag for 3-5 months, and whole coffee beans in an airtight container for 12 months.\n",
            "* Protect coffee beans from moisture and light to prevent mould, off-flavours, and shorter shelf life.\n",
            "* Use degassing valves to allow freshly roasted coffee beans to release carbon dioxide without compromising the package and bean quality.\n",
            "\n",
            "These tips are aimed at enhancing the unboxing experience, elevating the brand's perception, and simplifying the shipping process and reducing the carbon footprint.\n"
          ]
        }
      ],
      "source": [
        "generate_answer(\"Packaging coffee bean tips?\")"
      ]
    },
    {
      "cell_type": "code",
      "execution_count": 134,
      "metadata": {
        "colab": {
          "base_uri": "https://localhost:8080/"
        },
        "id": "auxo3K_rIrnZ",
        "outputId": "737145c3-d2e9-4778-eb08-ee473d506c15"
      },
      "outputs": [
        {
          "name": "stdout",
          "output_type": "stream",
          "text": [
            "I DON'T KNOW\n"
          ]
        }
      ],
      "source": [
        "generate_answer(\"What did I just ask you?\")"
      ]
    },
    {
      "cell_type": "markdown",
      "metadata": {
        "id": "lCXeOBLTIrnZ"
      },
      "source": [
        "# 🦹‍♀️ Re-rank retrieved results\n"
      ]
    },
    {
      "cell_type": "code",
      "execution_count": 135,
      "metadata": {
        "id": "5iQySEQxIrnZ"
      },
      "outputs": [],
      "source": [
        "from sentence_transformers import CrossEncoder"
      ]
    },
    {
      "cell_type": "code",
      "execution_count": 136,
      "metadata": {
        "colab": {
          "base_uri": "https://localhost:8080/",
          "height": 936
        },
        "id": "HSblx5K0IrnZ",
        "outputId": "200b6c7b-aa20-47f7-9945-b08ce3f4e637"
      },
      "outputs": [
        {
          "ename": "OSError",
          "evalue": "We couldn't connect to 'https://huggingface.co' to load this file, couldn't find it in the cached files and it looks like mixedbread-ai/mxbai-rerank-xsmall-v1 is not the path to a directory containing a file named config.json.\nCheckout your internet connection or see how to run the library in offline mode at 'https://huggingface.co/docs/transformers/installation#offline-mode'.",
          "output_type": "error",
          "traceback": [
            "\u001b[0;31m---------------------------------------------------------------------------\u001b[0m",
            "\u001b[0;31mTimeoutError\u001b[0m                              Traceback (most recent call last)",
            "\u001b[0;32m/usr/local/lib/python3.10/dist-packages/urllib3/connectionpool.py\u001b[0m in \u001b[0;36m_make_request\u001b[0;34m(self, conn, method, url, body, headers, retries, timeout, chunked, response_conn, preload_content, decode_content, enforce_content_length)\u001b[0m\n\u001b[1;32m    535\u001b[0m         \u001b[0;32mtry\u001b[0m\u001b[0;34m:\u001b[0m\u001b[0;34m\u001b[0m\u001b[0;34m\u001b[0m\u001b[0m\n\u001b[0;32m--> 536\u001b[0;31m             \u001b[0mresponse\u001b[0m \u001b[0;34m=\u001b[0m \u001b[0mconn\u001b[0m\u001b[0;34m.\u001b[0m\u001b[0mgetresponse\u001b[0m\u001b[0;34m(\u001b[0m\u001b[0;34m)\u001b[0m\u001b[0;34m\u001b[0m\u001b[0;34m\u001b[0m\u001b[0m\n\u001b[0m\u001b[1;32m    537\u001b[0m         \u001b[0;32mexcept\u001b[0m \u001b[0;34m(\u001b[0m\u001b[0mBaseSSLError\u001b[0m\u001b[0;34m,\u001b[0m \u001b[0mOSError\u001b[0m\u001b[0;34m)\u001b[0m \u001b[0;32mas\u001b[0m \u001b[0me\u001b[0m\u001b[0;34m:\u001b[0m\u001b[0;34m\u001b[0m\u001b[0;34m\u001b[0m\u001b[0m\n",
            "\u001b[0;32m/usr/local/lib/python3.10/dist-packages/urllib3/connection.py\u001b[0m in \u001b[0;36mgetresponse\u001b[0;34m(self)\u001b[0m\n\u001b[1;32m    506\u001b[0m         \u001b[0;31m# Get the response from http.client.HTTPConnection\u001b[0m\u001b[0;34m\u001b[0m\u001b[0;34m\u001b[0m\u001b[0m\n\u001b[0;32m--> 507\u001b[0;31m         \u001b[0mhttplib_response\u001b[0m \u001b[0;34m=\u001b[0m \u001b[0msuper\u001b[0m\u001b[0;34m(\u001b[0m\u001b[0;34m)\u001b[0m\u001b[0;34m.\u001b[0m\u001b[0mgetresponse\u001b[0m\u001b[0;34m(\u001b[0m\u001b[0;34m)\u001b[0m\u001b[0;34m\u001b[0m\u001b[0;34m\u001b[0m\u001b[0m\n\u001b[0m\u001b[1;32m    508\u001b[0m \u001b[0;34m\u001b[0m\u001b[0m\n",
            "\u001b[0;32m/usr/lib/python3.10/http/client.py\u001b[0m in \u001b[0;36mgetresponse\u001b[0;34m(self)\u001b[0m\n\u001b[1;32m   1374\u001b[0m             \u001b[0;32mtry\u001b[0m\u001b[0;34m:\u001b[0m\u001b[0;34m\u001b[0m\u001b[0;34m\u001b[0m\u001b[0m\n\u001b[0;32m-> 1375\u001b[0;31m                 \u001b[0mresponse\u001b[0m\u001b[0;34m.\u001b[0m\u001b[0mbegin\u001b[0m\u001b[0;34m(\u001b[0m\u001b[0;34m)\u001b[0m\u001b[0;34m\u001b[0m\u001b[0;34m\u001b[0m\u001b[0m\n\u001b[0m\u001b[1;32m   1376\u001b[0m             \u001b[0;32mexcept\u001b[0m \u001b[0mConnectionError\u001b[0m\u001b[0;34m:\u001b[0m\u001b[0;34m\u001b[0m\u001b[0;34m\u001b[0m\u001b[0m\n",
            "\u001b[0;32m/usr/lib/python3.10/http/client.py\u001b[0m in \u001b[0;36mbegin\u001b[0;34m(self)\u001b[0m\n\u001b[1;32m    317\u001b[0m         \u001b[0;32mwhile\u001b[0m \u001b[0;32mTrue\u001b[0m\u001b[0;34m:\u001b[0m\u001b[0;34m\u001b[0m\u001b[0;34m\u001b[0m\u001b[0m\n\u001b[0;32m--> 318\u001b[0;31m             \u001b[0mversion\u001b[0m\u001b[0;34m,\u001b[0m \u001b[0mstatus\u001b[0m\u001b[0;34m,\u001b[0m \u001b[0mreason\u001b[0m \u001b[0;34m=\u001b[0m \u001b[0mself\u001b[0m\u001b[0;34m.\u001b[0m\u001b[0m_read_status\u001b[0m\u001b[0;34m(\u001b[0m\u001b[0;34m)\u001b[0m\u001b[0;34m\u001b[0m\u001b[0;34m\u001b[0m\u001b[0m\n\u001b[0m\u001b[1;32m    319\u001b[0m             \u001b[0;32mif\u001b[0m \u001b[0mstatus\u001b[0m \u001b[0;34m!=\u001b[0m \u001b[0mCONTINUE\u001b[0m\u001b[0;34m:\u001b[0m\u001b[0;34m\u001b[0m\u001b[0;34m\u001b[0m\u001b[0m\n",
            "\u001b[0;32m/usr/lib/python3.10/http/client.py\u001b[0m in \u001b[0;36m_read_status\u001b[0;34m(self)\u001b[0m\n\u001b[1;32m    278\u001b[0m     \u001b[0;32mdef\u001b[0m \u001b[0m_read_status\u001b[0m\u001b[0;34m(\u001b[0m\u001b[0mself\u001b[0m\u001b[0;34m)\u001b[0m\u001b[0;34m:\u001b[0m\u001b[0;34m\u001b[0m\u001b[0;34m\u001b[0m\u001b[0m\n\u001b[0;32m--> 279\u001b[0;31m         \u001b[0mline\u001b[0m \u001b[0;34m=\u001b[0m \u001b[0mstr\u001b[0m\u001b[0;34m(\u001b[0m\u001b[0mself\u001b[0m\u001b[0;34m.\u001b[0m\u001b[0mfp\u001b[0m\u001b[0;34m.\u001b[0m\u001b[0mreadline\u001b[0m\u001b[0;34m(\u001b[0m\u001b[0m_MAXLINE\u001b[0m \u001b[0;34m+\u001b[0m \u001b[0;36m1\u001b[0m\u001b[0;34m)\u001b[0m\u001b[0;34m,\u001b[0m \u001b[0;34m\"iso-8859-1\"\u001b[0m\u001b[0;34m)\u001b[0m\u001b[0;34m\u001b[0m\u001b[0;34m\u001b[0m\u001b[0m\n\u001b[0m\u001b[1;32m    280\u001b[0m         \u001b[0;32mif\u001b[0m \u001b[0mlen\u001b[0m\u001b[0;34m(\u001b[0m\u001b[0mline\u001b[0m\u001b[0;34m)\u001b[0m \u001b[0;34m>\u001b[0m \u001b[0m_MAXLINE\u001b[0m\u001b[0;34m:\u001b[0m\u001b[0;34m\u001b[0m\u001b[0;34m\u001b[0m\u001b[0m\n",
            "\u001b[0;32m/usr/lib/python3.10/socket.py\u001b[0m in \u001b[0;36mreadinto\u001b[0;34m(self, b)\u001b[0m\n\u001b[1;32m    704\u001b[0m             \u001b[0;32mtry\u001b[0m\u001b[0;34m:\u001b[0m\u001b[0;34m\u001b[0m\u001b[0;34m\u001b[0m\u001b[0m\n\u001b[0;32m--> 705\u001b[0;31m                 \u001b[0;32mreturn\u001b[0m \u001b[0mself\u001b[0m\u001b[0;34m.\u001b[0m\u001b[0m_sock\u001b[0m\u001b[0;34m.\u001b[0m\u001b[0mrecv_into\u001b[0m\u001b[0;34m(\u001b[0m\u001b[0mb\u001b[0m\u001b[0;34m)\u001b[0m\u001b[0;34m\u001b[0m\u001b[0;34m\u001b[0m\u001b[0m\n\u001b[0m\u001b[1;32m    706\u001b[0m             \u001b[0;32mexcept\u001b[0m \u001b[0mtimeout\u001b[0m\u001b[0;34m:\u001b[0m\u001b[0;34m\u001b[0m\u001b[0;34m\u001b[0m\u001b[0m\n",
            "\u001b[0;32m/usr/lib/python3.10/ssl.py\u001b[0m in \u001b[0;36mrecv_into\u001b[0;34m(self, buffer, nbytes, flags)\u001b[0m\n\u001b[1;32m   1302\u001b[0m                   self.__class__)\n\u001b[0;32m-> 1303\u001b[0;31m             \u001b[0;32mreturn\u001b[0m \u001b[0mself\u001b[0m\u001b[0;34m.\u001b[0m\u001b[0mread\u001b[0m\u001b[0;34m(\u001b[0m\u001b[0mnbytes\u001b[0m\u001b[0;34m,\u001b[0m \u001b[0mbuffer\u001b[0m\u001b[0;34m)\u001b[0m\u001b[0;34m\u001b[0m\u001b[0;34m\u001b[0m\u001b[0m\n\u001b[0m\u001b[1;32m   1304\u001b[0m         \u001b[0;32melse\u001b[0m\u001b[0;34m:\u001b[0m\u001b[0;34m\u001b[0m\u001b[0;34m\u001b[0m\u001b[0m\n",
            "\u001b[0;32m/usr/lib/python3.10/ssl.py\u001b[0m in \u001b[0;36mread\u001b[0;34m(self, len, buffer)\u001b[0m\n\u001b[1;32m   1158\u001b[0m             \u001b[0;32mif\u001b[0m \u001b[0mbuffer\u001b[0m \u001b[0;32mis\u001b[0m \u001b[0;32mnot\u001b[0m \u001b[0;32mNone\u001b[0m\u001b[0;34m:\u001b[0m\u001b[0;34m\u001b[0m\u001b[0;34m\u001b[0m\u001b[0m\n\u001b[0;32m-> 1159\u001b[0;31m                 \u001b[0;32mreturn\u001b[0m \u001b[0mself\u001b[0m\u001b[0;34m.\u001b[0m\u001b[0m_sslobj\u001b[0m\u001b[0;34m.\u001b[0m\u001b[0mread\u001b[0m\u001b[0;34m(\u001b[0m\u001b[0mlen\u001b[0m\u001b[0;34m,\u001b[0m \u001b[0mbuffer\u001b[0m\u001b[0;34m)\u001b[0m\u001b[0;34m\u001b[0m\u001b[0;34m\u001b[0m\u001b[0m\n\u001b[0m\u001b[1;32m   1160\u001b[0m             \u001b[0;32melse\u001b[0m\u001b[0;34m:\u001b[0m\u001b[0;34m\u001b[0m\u001b[0;34m\u001b[0m\u001b[0m\n",
            "\u001b[0;31mTimeoutError\u001b[0m: The read operation timed out",
            "\nThe above exception was the direct cause of the following exception:\n",
            "\u001b[0;31mReadTimeoutError\u001b[0m                          Traceback (most recent call last)",
            "\u001b[0;32m/usr/local/lib/python3.10/dist-packages/requests/adapters.py\u001b[0m in \u001b[0;36msend\u001b[0;34m(self, request, stream, timeout, verify, cert, proxies)\u001b[0m\n\u001b[1;32m    666\u001b[0m         \u001b[0;32mtry\u001b[0m\u001b[0;34m:\u001b[0m\u001b[0;34m\u001b[0m\u001b[0;34m\u001b[0m\u001b[0m\n\u001b[0;32m--> 667\u001b[0;31m             resp = conn.urlopen(\n\u001b[0m\u001b[1;32m    668\u001b[0m                 \u001b[0mmethod\u001b[0m\u001b[0;34m=\u001b[0m\u001b[0mrequest\u001b[0m\u001b[0;34m.\u001b[0m\u001b[0mmethod\u001b[0m\u001b[0;34m,\u001b[0m\u001b[0;34m\u001b[0m\u001b[0;34m\u001b[0m\u001b[0m\n",
            "\u001b[0;32m/usr/local/lib/python3.10/dist-packages/urllib3/connectionpool.py\u001b[0m in \u001b[0;36murlopen\u001b[0;34m(self, method, url, body, headers, retries, redirect, assert_same_host, timeout, pool_timeout, release_conn, chunked, body_pos, preload_content, decode_content, **response_kw)\u001b[0m\n\u001b[1;32m    842\u001b[0m \u001b[0;34m\u001b[0m\u001b[0m\n\u001b[0;32m--> 843\u001b[0;31m             retries = retries.increment(\n\u001b[0m\u001b[1;32m    844\u001b[0m                 \u001b[0mmethod\u001b[0m\u001b[0;34m,\u001b[0m \u001b[0murl\u001b[0m\u001b[0;34m,\u001b[0m \u001b[0merror\u001b[0m\u001b[0;34m=\u001b[0m\u001b[0mnew_e\u001b[0m\u001b[0;34m,\u001b[0m \u001b[0m_pool\u001b[0m\u001b[0;34m=\u001b[0m\u001b[0mself\u001b[0m\u001b[0;34m,\u001b[0m \u001b[0m_stacktrace\u001b[0m\u001b[0;34m=\u001b[0m\u001b[0msys\u001b[0m\u001b[0;34m.\u001b[0m\u001b[0mexc_info\u001b[0m\u001b[0;34m(\u001b[0m\u001b[0;34m)\u001b[0m\u001b[0;34m[\u001b[0m\u001b[0;36m2\u001b[0m\u001b[0;34m]\u001b[0m\u001b[0;34m\u001b[0m\u001b[0;34m\u001b[0m\u001b[0m\n",
            "\u001b[0;32m/usr/local/lib/python3.10/dist-packages/urllib3/util/retry.py\u001b[0m in \u001b[0;36mincrement\u001b[0;34m(self, method, url, response, error, _pool, _stacktrace)\u001b[0m\n\u001b[1;32m    473\u001b[0m             \u001b[0;32mif\u001b[0m \u001b[0mread\u001b[0m \u001b[0;32mis\u001b[0m \u001b[0;32mFalse\u001b[0m \u001b[0;32mor\u001b[0m \u001b[0mmethod\u001b[0m \u001b[0;32mis\u001b[0m \u001b[0;32mNone\u001b[0m \u001b[0;32mor\u001b[0m \u001b[0;32mnot\u001b[0m \u001b[0mself\u001b[0m\u001b[0;34m.\u001b[0m\u001b[0m_is_method_retryable\u001b[0m\u001b[0;34m(\u001b[0m\u001b[0mmethod\u001b[0m\u001b[0;34m)\u001b[0m\u001b[0;34m:\u001b[0m\u001b[0;34m\u001b[0m\u001b[0;34m\u001b[0m\u001b[0m\n\u001b[0;32m--> 474\u001b[0;31m                 \u001b[0;32mraise\u001b[0m \u001b[0mreraise\u001b[0m\u001b[0;34m(\u001b[0m\u001b[0mtype\u001b[0m\u001b[0;34m(\u001b[0m\u001b[0merror\u001b[0m\u001b[0;34m)\u001b[0m\u001b[0;34m,\u001b[0m \u001b[0merror\u001b[0m\u001b[0;34m,\u001b[0m \u001b[0m_stacktrace\u001b[0m\u001b[0;34m)\u001b[0m\u001b[0;34m\u001b[0m\u001b[0;34m\u001b[0m\u001b[0m\n\u001b[0m\u001b[1;32m    475\u001b[0m             \u001b[0;32melif\u001b[0m \u001b[0mread\u001b[0m \u001b[0;32mis\u001b[0m \u001b[0;32mnot\u001b[0m \u001b[0;32mNone\u001b[0m\u001b[0;34m:\u001b[0m\u001b[0;34m\u001b[0m\u001b[0;34m\u001b[0m\u001b[0m\n",
            "\u001b[0;32m/usr/local/lib/python3.10/dist-packages/urllib3/util/util.py\u001b[0m in \u001b[0;36mreraise\u001b[0;34m(tp, value, tb)\u001b[0m\n\u001b[1;32m     38\u001b[0m             \u001b[0;32mraise\u001b[0m \u001b[0mvalue\u001b[0m\u001b[0;34m.\u001b[0m\u001b[0mwith_traceback\u001b[0m\u001b[0;34m(\u001b[0m\u001b[0mtb\u001b[0m\u001b[0;34m)\u001b[0m\u001b[0;34m\u001b[0m\u001b[0;34m\u001b[0m\u001b[0m\n\u001b[0;32m---> 39\u001b[0;31m         \u001b[0;32mraise\u001b[0m \u001b[0mvalue\u001b[0m\u001b[0;34m\u001b[0m\u001b[0;34m\u001b[0m\u001b[0m\n\u001b[0m\u001b[1;32m     40\u001b[0m     \u001b[0;32mfinally\u001b[0m\u001b[0;34m:\u001b[0m\u001b[0;34m\u001b[0m\u001b[0;34m\u001b[0m\u001b[0m\n",
            "\u001b[0;32m/usr/local/lib/python3.10/dist-packages/urllib3/connectionpool.py\u001b[0m in \u001b[0;36murlopen\u001b[0;34m(self, method, url, body, headers, retries, redirect, assert_same_host, timeout, pool_timeout, release_conn, chunked, body_pos, preload_content, decode_content, **response_kw)\u001b[0m\n\u001b[1;32m    788\u001b[0m             \u001b[0;31m# Make the request on the HTTPConnection object\u001b[0m\u001b[0;34m\u001b[0m\u001b[0;34m\u001b[0m\u001b[0m\n\u001b[0;32m--> 789\u001b[0;31m             response = self._make_request(\n\u001b[0m\u001b[1;32m    790\u001b[0m                 \u001b[0mconn\u001b[0m\u001b[0;34m,\u001b[0m\u001b[0;34m\u001b[0m\u001b[0;34m\u001b[0m\u001b[0m\n",
            "\u001b[0;32m/usr/local/lib/python3.10/dist-packages/urllib3/connectionpool.py\u001b[0m in \u001b[0;36m_make_request\u001b[0;34m(self, conn, method, url, body, headers, retries, timeout, chunked, response_conn, preload_content, decode_content, enforce_content_length)\u001b[0m\n\u001b[1;32m    537\u001b[0m         \u001b[0;32mexcept\u001b[0m \u001b[0;34m(\u001b[0m\u001b[0mBaseSSLError\u001b[0m\u001b[0;34m,\u001b[0m \u001b[0mOSError\u001b[0m\u001b[0;34m)\u001b[0m \u001b[0;32mas\u001b[0m \u001b[0me\u001b[0m\u001b[0;34m:\u001b[0m\u001b[0;34m\u001b[0m\u001b[0;34m\u001b[0m\u001b[0m\n\u001b[0;32m--> 538\u001b[0;31m             \u001b[0mself\u001b[0m\u001b[0;34m.\u001b[0m\u001b[0m_raise_timeout\u001b[0m\u001b[0;34m(\u001b[0m\u001b[0merr\u001b[0m\u001b[0;34m=\u001b[0m\u001b[0me\u001b[0m\u001b[0;34m,\u001b[0m \u001b[0murl\u001b[0m\u001b[0;34m=\u001b[0m\u001b[0murl\u001b[0m\u001b[0;34m,\u001b[0m \u001b[0mtimeout_value\u001b[0m\u001b[0;34m=\u001b[0m\u001b[0mread_timeout\u001b[0m\u001b[0;34m)\u001b[0m\u001b[0;34m\u001b[0m\u001b[0;34m\u001b[0m\u001b[0m\n\u001b[0m\u001b[1;32m    539\u001b[0m             \u001b[0;32mraise\u001b[0m\u001b[0;34m\u001b[0m\u001b[0;34m\u001b[0m\u001b[0m\n",
            "\u001b[0;32m/usr/local/lib/python3.10/dist-packages/urllib3/connectionpool.py\u001b[0m in \u001b[0;36m_raise_timeout\u001b[0;34m(self, err, url, timeout_value)\u001b[0m\n\u001b[1;32m    368\u001b[0m         \u001b[0;32mif\u001b[0m \u001b[0misinstance\u001b[0m\u001b[0;34m(\u001b[0m\u001b[0merr\u001b[0m\u001b[0;34m,\u001b[0m \u001b[0mSocketTimeout\u001b[0m\u001b[0;34m)\u001b[0m\u001b[0;34m:\u001b[0m\u001b[0;34m\u001b[0m\u001b[0;34m\u001b[0m\u001b[0m\n\u001b[0;32m--> 369\u001b[0;31m             raise ReadTimeoutError(\n\u001b[0m\u001b[1;32m    370\u001b[0m                 \u001b[0mself\u001b[0m\u001b[0;34m,\u001b[0m \u001b[0murl\u001b[0m\u001b[0;34m,\u001b[0m \u001b[0;34mf\"Read timed out. (read timeout={timeout_value})\"\u001b[0m\u001b[0;34m\u001b[0m\u001b[0;34m\u001b[0m\u001b[0m\n",
            "\u001b[0;31mReadTimeoutError\u001b[0m: HTTPSConnectionPool(host='huggingface.co', port=443): Read timed out. (read timeout=10)",
            "\nDuring handling of the above exception, another exception occurred:\n",
            "\u001b[0;31mReadTimeout\u001b[0m                               Traceback (most recent call last)",
            "\u001b[0;32m/usr/local/lib/python3.10/dist-packages/huggingface_hub/file_download.py\u001b[0m in \u001b[0;36m_get_metadata_or_catch_error\u001b[0;34m(repo_id, filename, repo_type, revision, endpoint, proxies, etag_timeout, headers, token, local_files_only, relative_filename, storage_folder)\u001b[0m\n\u001b[1;32m   1751\u001b[0m             \u001b[0;32mtry\u001b[0m\u001b[0;34m:\u001b[0m\u001b[0;34m\u001b[0m\u001b[0;34m\u001b[0m\u001b[0m\n\u001b[0;32m-> 1752\u001b[0;31m                 metadata = get_hf_file_metadata(\n\u001b[0m\u001b[1;32m   1753\u001b[0m                     \u001b[0murl\u001b[0m\u001b[0;34m=\u001b[0m\u001b[0murl\u001b[0m\u001b[0;34m,\u001b[0m \u001b[0mproxies\u001b[0m\u001b[0;34m=\u001b[0m\u001b[0mproxies\u001b[0m\u001b[0;34m,\u001b[0m \u001b[0mtimeout\u001b[0m\u001b[0;34m=\u001b[0m\u001b[0metag_timeout\u001b[0m\u001b[0;34m,\u001b[0m \u001b[0mheaders\u001b[0m\u001b[0;34m=\u001b[0m\u001b[0mheaders\u001b[0m\u001b[0;34m,\u001b[0m \u001b[0mtoken\u001b[0m\u001b[0;34m=\u001b[0m\u001b[0mtoken\u001b[0m\u001b[0;34m\u001b[0m\u001b[0;34m\u001b[0m\u001b[0m\n",
            "\u001b[0;32m/usr/local/lib/python3.10/dist-packages/huggingface_hub/utils/_validators.py\u001b[0m in \u001b[0;36m_inner_fn\u001b[0;34m(*args, **kwargs)\u001b[0m\n\u001b[1;32m    113\u001b[0m \u001b[0;34m\u001b[0m\u001b[0m\n\u001b[0;32m--> 114\u001b[0;31m         \u001b[0;32mreturn\u001b[0m \u001b[0mfn\u001b[0m\u001b[0;34m(\u001b[0m\u001b[0;34m*\u001b[0m\u001b[0margs\u001b[0m\u001b[0;34m,\u001b[0m \u001b[0;34m**\u001b[0m\u001b[0mkwargs\u001b[0m\u001b[0;34m)\u001b[0m\u001b[0;34m\u001b[0m\u001b[0;34m\u001b[0m\u001b[0m\n\u001b[0m\u001b[1;32m    115\u001b[0m \u001b[0;34m\u001b[0m\u001b[0m\n",
            "\u001b[0;32m/usr/local/lib/python3.10/dist-packages/huggingface_hub/file_download.py\u001b[0m in \u001b[0;36mget_hf_file_metadata\u001b[0;34m(url, token, proxies, timeout, library_name, library_version, user_agent, headers)\u001b[0m\n\u001b[1;32m   1673\u001b[0m     \u001b[0;31m# Retrieve metadata\u001b[0m\u001b[0;34m\u001b[0m\u001b[0;34m\u001b[0m\u001b[0m\n\u001b[0;32m-> 1674\u001b[0;31m     r = _request_wrapper(\n\u001b[0m\u001b[1;32m   1675\u001b[0m         \u001b[0mmethod\u001b[0m\u001b[0;34m=\u001b[0m\u001b[0;34m\"HEAD\"\u001b[0m\u001b[0;34m,\u001b[0m\u001b[0;34m\u001b[0m\u001b[0;34m\u001b[0m\u001b[0m\n",
            "\u001b[0;32m/usr/local/lib/python3.10/dist-packages/huggingface_hub/file_download.py\u001b[0m in \u001b[0;36m_request_wrapper\u001b[0;34m(method, url, follow_relative_redirects, **params)\u001b[0m\n\u001b[1;32m    375\u001b[0m     \u001b[0;32mif\u001b[0m \u001b[0mfollow_relative_redirects\u001b[0m\u001b[0;34m:\u001b[0m\u001b[0;34m\u001b[0m\u001b[0;34m\u001b[0m\u001b[0m\n\u001b[0;32m--> 376\u001b[0;31m         response = _request_wrapper(\n\u001b[0m\u001b[1;32m    377\u001b[0m             \u001b[0mmethod\u001b[0m\u001b[0;34m=\u001b[0m\u001b[0mmethod\u001b[0m\u001b[0;34m,\u001b[0m\u001b[0;34m\u001b[0m\u001b[0;34m\u001b[0m\u001b[0m\n",
            "\u001b[0;32m/usr/local/lib/python3.10/dist-packages/huggingface_hub/file_download.py\u001b[0m in \u001b[0;36m_request_wrapper\u001b[0;34m(method, url, follow_relative_redirects, **params)\u001b[0m\n\u001b[1;32m    398\u001b[0m     \u001b[0;31m# Perform request and return if status_code is not in the retry list.\u001b[0m\u001b[0;34m\u001b[0m\u001b[0;34m\u001b[0m\u001b[0m\n\u001b[0;32m--> 399\u001b[0;31m     \u001b[0mresponse\u001b[0m \u001b[0;34m=\u001b[0m \u001b[0mget_session\u001b[0m\u001b[0;34m(\u001b[0m\u001b[0;34m)\u001b[0m\u001b[0;34m.\u001b[0m\u001b[0mrequest\u001b[0m\u001b[0;34m(\u001b[0m\u001b[0mmethod\u001b[0m\u001b[0;34m=\u001b[0m\u001b[0mmethod\u001b[0m\u001b[0;34m,\u001b[0m \u001b[0murl\u001b[0m\u001b[0;34m=\u001b[0m\u001b[0murl\u001b[0m\u001b[0;34m,\u001b[0m \u001b[0;34m**\u001b[0m\u001b[0mparams\u001b[0m\u001b[0;34m)\u001b[0m\u001b[0;34m\u001b[0m\u001b[0;34m\u001b[0m\u001b[0m\n\u001b[0m\u001b[1;32m    400\u001b[0m     \u001b[0mhf_raise_for_status\u001b[0m\u001b[0;34m(\u001b[0m\u001b[0mresponse\u001b[0m\u001b[0;34m)\u001b[0m\u001b[0;34m\u001b[0m\u001b[0;34m\u001b[0m\u001b[0m\n",
            "\u001b[0;32m/usr/local/lib/python3.10/dist-packages/requests/sessions.py\u001b[0m in \u001b[0;36mrequest\u001b[0;34m(self, method, url, params, data, headers, cookies, files, auth, timeout, allow_redirects, proxies, hooks, stream, verify, cert, json)\u001b[0m\n\u001b[1;32m    588\u001b[0m         \u001b[0msend_kwargs\u001b[0m\u001b[0;34m.\u001b[0m\u001b[0mupdate\u001b[0m\u001b[0;34m(\u001b[0m\u001b[0msettings\u001b[0m\u001b[0;34m)\u001b[0m\u001b[0;34m\u001b[0m\u001b[0;34m\u001b[0m\u001b[0m\n\u001b[0;32m--> 589\u001b[0;31m         \u001b[0mresp\u001b[0m \u001b[0;34m=\u001b[0m \u001b[0mself\u001b[0m\u001b[0;34m.\u001b[0m\u001b[0msend\u001b[0m\u001b[0;34m(\u001b[0m\u001b[0mprep\u001b[0m\u001b[0;34m,\u001b[0m \u001b[0;34m**\u001b[0m\u001b[0msend_kwargs\u001b[0m\u001b[0;34m)\u001b[0m\u001b[0;34m\u001b[0m\u001b[0;34m\u001b[0m\u001b[0m\n\u001b[0m\u001b[1;32m    590\u001b[0m \u001b[0;34m\u001b[0m\u001b[0m\n",
            "\u001b[0;32m/usr/local/lib/python3.10/dist-packages/requests/sessions.py\u001b[0m in \u001b[0;36msend\u001b[0;34m(self, request, **kwargs)\u001b[0m\n\u001b[1;32m    702\u001b[0m         \u001b[0;31m# Send the request\u001b[0m\u001b[0;34m\u001b[0m\u001b[0;34m\u001b[0m\u001b[0m\n\u001b[0;32m--> 703\u001b[0;31m         \u001b[0mr\u001b[0m \u001b[0;34m=\u001b[0m \u001b[0madapter\u001b[0m\u001b[0;34m.\u001b[0m\u001b[0msend\u001b[0m\u001b[0;34m(\u001b[0m\u001b[0mrequest\u001b[0m\u001b[0;34m,\u001b[0m \u001b[0;34m**\u001b[0m\u001b[0mkwargs\u001b[0m\u001b[0;34m)\u001b[0m\u001b[0;34m\u001b[0m\u001b[0;34m\u001b[0m\u001b[0m\n\u001b[0m\u001b[1;32m    704\u001b[0m \u001b[0;34m\u001b[0m\u001b[0m\n",
            "\u001b[0;32m/usr/local/lib/python3.10/dist-packages/huggingface_hub/utils/_http.py\u001b[0m in \u001b[0;36msend\u001b[0;34m(self, request, *args, **kwargs)\u001b[0m\n\u001b[1;32m     65\u001b[0m         \u001b[0;32mtry\u001b[0m\u001b[0;34m:\u001b[0m\u001b[0;34m\u001b[0m\u001b[0;34m\u001b[0m\u001b[0m\n\u001b[0;32m---> 66\u001b[0;31m             \u001b[0;32mreturn\u001b[0m \u001b[0msuper\u001b[0m\u001b[0;34m(\u001b[0m\u001b[0;34m)\u001b[0m\u001b[0;34m.\u001b[0m\u001b[0msend\u001b[0m\u001b[0;34m(\u001b[0m\u001b[0mrequest\u001b[0m\u001b[0;34m,\u001b[0m \u001b[0;34m*\u001b[0m\u001b[0margs\u001b[0m\u001b[0;34m,\u001b[0m \u001b[0;34m**\u001b[0m\u001b[0mkwargs\u001b[0m\u001b[0;34m)\u001b[0m\u001b[0;34m\u001b[0m\u001b[0;34m\u001b[0m\u001b[0m\n\u001b[0m\u001b[1;32m     67\u001b[0m         \u001b[0;32mexcept\u001b[0m \u001b[0mrequests\u001b[0m\u001b[0;34m.\u001b[0m\u001b[0mRequestException\u001b[0m \u001b[0;32mas\u001b[0m \u001b[0me\u001b[0m\u001b[0;34m:\u001b[0m\u001b[0;34m\u001b[0m\u001b[0;34m\u001b[0m\u001b[0m\n",
            "\u001b[0;32m/usr/local/lib/python3.10/dist-packages/requests/adapters.py\u001b[0m in \u001b[0;36msend\u001b[0;34m(self, request, stream, timeout, verify, cert, proxies)\u001b[0m\n\u001b[1;32m    712\u001b[0m             \u001b[0;32melif\u001b[0m \u001b[0misinstance\u001b[0m\u001b[0;34m(\u001b[0m\u001b[0me\u001b[0m\u001b[0;34m,\u001b[0m \u001b[0mReadTimeoutError\u001b[0m\u001b[0;34m)\u001b[0m\u001b[0;34m:\u001b[0m\u001b[0;34m\u001b[0m\u001b[0;34m\u001b[0m\u001b[0m\n\u001b[0;32m--> 713\u001b[0;31m                 \u001b[0;32mraise\u001b[0m \u001b[0mReadTimeout\u001b[0m\u001b[0;34m(\u001b[0m\u001b[0me\u001b[0m\u001b[0;34m,\u001b[0m \u001b[0mrequest\u001b[0m\u001b[0;34m=\u001b[0m\u001b[0mrequest\u001b[0m\u001b[0;34m)\u001b[0m\u001b[0;34m\u001b[0m\u001b[0;34m\u001b[0m\u001b[0m\n\u001b[0m\u001b[1;32m    714\u001b[0m             \u001b[0;32melif\u001b[0m \u001b[0misinstance\u001b[0m\u001b[0;34m(\u001b[0m\u001b[0me\u001b[0m\u001b[0;34m,\u001b[0m \u001b[0m_InvalidHeader\u001b[0m\u001b[0;34m)\u001b[0m\u001b[0;34m:\u001b[0m\u001b[0;34m\u001b[0m\u001b[0;34m\u001b[0m\u001b[0m\n",
            "\u001b[0;31mReadTimeout\u001b[0m: (ReadTimeoutError(\"HTTPSConnectionPool(host='huggingface.co', port=443): Read timed out. (read timeout=10)\"), '(Request ID: 26e1efda-8214-4d17-bf88-8cfa0434e913)')",
            "\nThe above exception was the direct cause of the following exception:\n",
            "\u001b[0;31mLocalEntryNotFoundError\u001b[0m                   Traceback (most recent call last)",
            "\u001b[0;32m/usr/local/lib/python3.10/dist-packages/transformers/utils/hub.py\u001b[0m in \u001b[0;36mcached_file\u001b[0;34m(path_or_repo_id, filename, cache_dir, force_download, resume_download, proxies, token, revision, local_files_only, subfolder, repo_type, user_agent, _raise_exceptions_for_gated_repo, _raise_exceptions_for_missing_entries, _raise_exceptions_for_connection_errors, _commit_hash, **deprecated_kwargs)\u001b[0m\n\u001b[1;32m    401\u001b[0m         \u001b[0;31m# Load from URL or cache if already cached\u001b[0m\u001b[0;34m\u001b[0m\u001b[0;34m\u001b[0m\u001b[0m\n\u001b[0;32m--> 402\u001b[0;31m         resolved_file = hf_hub_download(\n\u001b[0m\u001b[1;32m    403\u001b[0m             \u001b[0mpath_or_repo_id\u001b[0m\u001b[0;34m,\u001b[0m\u001b[0;34m\u001b[0m\u001b[0;34m\u001b[0m\u001b[0m\n",
            "\u001b[0;32m/usr/local/lib/python3.10/dist-packages/huggingface_hub/utils/_deprecation.py\u001b[0m in \u001b[0;36minner_f\u001b[0;34m(*args, **kwargs)\u001b[0m\n\u001b[1;32m    100\u001b[0m                 \u001b[0mwarnings\u001b[0m\u001b[0;34m.\u001b[0m\u001b[0mwarn\u001b[0m\u001b[0;34m(\u001b[0m\u001b[0mmessage\u001b[0m\u001b[0;34m,\u001b[0m \u001b[0mFutureWarning\u001b[0m\u001b[0;34m)\u001b[0m\u001b[0;34m\u001b[0m\u001b[0;34m\u001b[0m\u001b[0m\n\u001b[0;32m--> 101\u001b[0;31m             \u001b[0;32mreturn\u001b[0m \u001b[0mf\u001b[0m\u001b[0;34m(\u001b[0m\u001b[0;34m*\u001b[0m\u001b[0margs\u001b[0m\u001b[0;34m,\u001b[0m \u001b[0;34m**\u001b[0m\u001b[0mkwargs\u001b[0m\u001b[0;34m)\u001b[0m\u001b[0;34m\u001b[0m\u001b[0;34m\u001b[0m\u001b[0m\n\u001b[0m\u001b[1;32m    102\u001b[0m \u001b[0;34m\u001b[0m\u001b[0m\n",
            "\u001b[0;32m/usr/local/lib/python3.10/dist-packages/huggingface_hub/utils/_validators.py\u001b[0m in \u001b[0;36m_inner_fn\u001b[0;34m(*args, **kwargs)\u001b[0m\n\u001b[1;32m    113\u001b[0m \u001b[0;34m\u001b[0m\u001b[0m\n\u001b[0;32m--> 114\u001b[0;31m         \u001b[0;32mreturn\u001b[0m \u001b[0mfn\u001b[0m\u001b[0;34m(\u001b[0m\u001b[0;34m*\u001b[0m\u001b[0margs\u001b[0m\u001b[0;34m,\u001b[0m \u001b[0;34m**\u001b[0m\u001b[0mkwargs\u001b[0m\u001b[0;34m)\u001b[0m\u001b[0;34m\u001b[0m\u001b[0;34m\u001b[0m\u001b[0m\n\u001b[0m\u001b[1;32m    115\u001b[0m \u001b[0;34m\u001b[0m\u001b[0m\n",
            "\u001b[0;32m/usr/local/lib/python3.10/dist-packages/huggingface_hub/file_download.py\u001b[0m in \u001b[0;36mhf_hub_download\u001b[0;34m(repo_id, filename, subfolder, repo_type, revision, library_name, library_version, cache_dir, local_dir, user_agent, force_download, proxies, etag_timeout, token, local_files_only, headers, endpoint, legacy_cache_layout, resume_download, force_filename, local_dir_use_symlinks)\u001b[0m\n\u001b[1;32m   1239\u001b[0m     \u001b[0;32melse\u001b[0m\u001b[0;34m:\u001b[0m\u001b[0;34m\u001b[0m\u001b[0;34m\u001b[0m\u001b[0m\n\u001b[0;32m-> 1240\u001b[0;31m         return _hf_hub_download_to_cache_dir(\n\u001b[0m\u001b[1;32m   1241\u001b[0m             \u001b[0;31m# Destination\u001b[0m\u001b[0;34m\u001b[0m\u001b[0;34m\u001b[0m\u001b[0m\n",
            "\u001b[0;32m/usr/local/lib/python3.10/dist-packages/huggingface_hub/file_download.py\u001b[0m in \u001b[0;36m_hf_hub_download_to_cache_dir\u001b[0;34m(cache_dir, repo_id, filename, repo_type, revision, endpoint, etag_timeout, headers, proxies, token, local_files_only, force_download)\u001b[0m\n\u001b[1;32m   1346\u001b[0m         \u001b[0;31m# Otherwise, raise appropriate error\u001b[0m\u001b[0;34m\u001b[0m\u001b[0;34m\u001b[0m\u001b[0m\n\u001b[0;32m-> 1347\u001b[0;31m         \u001b[0m_raise_on_head_call_error\u001b[0m\u001b[0;34m(\u001b[0m\u001b[0mhead_call_error\u001b[0m\u001b[0;34m,\u001b[0m \u001b[0mforce_download\u001b[0m\u001b[0;34m,\u001b[0m \u001b[0mlocal_files_only\u001b[0m\u001b[0;34m)\u001b[0m\u001b[0;34m\u001b[0m\u001b[0;34m\u001b[0m\u001b[0m\n\u001b[0m\u001b[1;32m   1348\u001b[0m \u001b[0;34m\u001b[0m\u001b[0m\n",
            "\u001b[0;32m/usr/local/lib/python3.10/dist-packages/huggingface_hub/file_download.py\u001b[0m in \u001b[0;36m_raise_on_head_call_error\u001b[0;34m(head_call_error, force_download, local_files_only)\u001b[0m\n\u001b[1;32m   1857\u001b[0m         \u001b[0;31m# Otherwise: most likely a connection issue or Hub downtime => let's warn the user\u001b[0m\u001b[0;34m\u001b[0m\u001b[0;34m\u001b[0m\u001b[0m\n\u001b[0;32m-> 1858\u001b[0;31m         raise LocalEntryNotFoundError(\n\u001b[0m\u001b[1;32m   1859\u001b[0m             \u001b[0;34m\"An error happened while trying to locate the file on the Hub and we cannot find the requested files\"\u001b[0m\u001b[0;34m\u001b[0m\u001b[0;34m\u001b[0m\u001b[0m\n",
            "\u001b[0;31mLocalEntryNotFoundError\u001b[0m: An error happened while trying to locate the file on the Hub and we cannot find the requested files in the local cache. Please check your connection and try again or make sure your Internet connection is on.",
            "\nThe above exception was the direct cause of the following exception:\n",
            "\u001b[0;31mOSError\u001b[0m                                   Traceback (most recent call last)",
            "\u001b[0;32m<ipython-input-136-eb31c83493ba>\u001b[0m in \u001b[0;36m<cell line: 1>\u001b[0;34m()\u001b[0m\n\u001b[0;32m----> 1\u001b[0;31m \u001b[0mrerank_model\u001b[0m \u001b[0;34m=\u001b[0m \u001b[0mCrossEncoder\u001b[0m\u001b[0;34m(\u001b[0m\u001b[0;34m\"mixedbread-ai/mxbai-rerank-xsmall-v1\"\u001b[0m\u001b[0;34m)\u001b[0m\u001b[0;34m\u001b[0m\u001b[0;34m\u001b[0m\u001b[0m\n\u001b[0m",
            "\u001b[0;32m/usr/local/lib/python3.10/dist-packages/sentence_transformers/cross_encoder/CrossEncoder.py\u001b[0m in \u001b[0;36m__init__\u001b[0;34m(self, model_name, num_labels, max_length, device, automodel_args, tokenizer_args, config_args, cache_dir, trust_remote_code, revision, local_files_only, default_activation_function, classifier_dropout)\u001b[0m\n\u001b[1;32m     80\u001b[0m         \u001b[0;32mif\u001b[0m \u001b[0mconfig_args\u001b[0m \u001b[0;32mis\u001b[0m \u001b[0;32mNone\u001b[0m\u001b[0;34m:\u001b[0m\u001b[0;34m\u001b[0m\u001b[0;34m\u001b[0m\u001b[0m\n\u001b[1;32m     81\u001b[0m             \u001b[0mconfig_args\u001b[0m \u001b[0;34m=\u001b[0m \u001b[0;34m{\u001b[0m\u001b[0;34m}\u001b[0m\u001b[0;34m\u001b[0m\u001b[0;34m\u001b[0m\u001b[0m\n\u001b[0;32m---> 82\u001b[0;31m         self.config = AutoConfig.from_pretrained(\n\u001b[0m\u001b[1;32m     83\u001b[0m             \u001b[0mmodel_name\u001b[0m\u001b[0;34m,\u001b[0m\u001b[0;34m\u001b[0m\u001b[0;34m\u001b[0m\u001b[0m\n\u001b[1;32m     84\u001b[0m             \u001b[0mtrust_remote_code\u001b[0m\u001b[0;34m=\u001b[0m\u001b[0mtrust_remote_code\u001b[0m\u001b[0;34m,\u001b[0m\u001b[0;34m\u001b[0m\u001b[0;34m\u001b[0m\u001b[0m\n",
            "\u001b[0;32m/usr/local/lib/python3.10/dist-packages/transformers/models/auto/configuration_auto.py\u001b[0m in \u001b[0;36mfrom_pretrained\u001b[0;34m(cls, pretrained_model_name_or_path, **kwargs)\u001b[0m\n\u001b[1;32m    974\u001b[0m         \u001b[0mcode_revision\u001b[0m \u001b[0;34m=\u001b[0m \u001b[0mkwargs\u001b[0m\u001b[0;34m.\u001b[0m\u001b[0mpop\u001b[0m\u001b[0;34m(\u001b[0m\u001b[0;34m\"code_revision\"\u001b[0m\u001b[0;34m,\u001b[0m \u001b[0;32mNone\u001b[0m\u001b[0;34m)\u001b[0m\u001b[0;34m\u001b[0m\u001b[0;34m\u001b[0m\u001b[0m\n\u001b[1;32m    975\u001b[0m \u001b[0;34m\u001b[0m\u001b[0m\n\u001b[0;32m--> 976\u001b[0;31m         \u001b[0mconfig_dict\u001b[0m\u001b[0;34m,\u001b[0m \u001b[0munused_kwargs\u001b[0m \u001b[0;34m=\u001b[0m \u001b[0mPretrainedConfig\u001b[0m\u001b[0;34m.\u001b[0m\u001b[0mget_config_dict\u001b[0m\u001b[0;34m(\u001b[0m\u001b[0mpretrained_model_name_or_path\u001b[0m\u001b[0;34m,\u001b[0m \u001b[0;34m**\u001b[0m\u001b[0mkwargs\u001b[0m\u001b[0;34m)\u001b[0m\u001b[0;34m\u001b[0m\u001b[0;34m\u001b[0m\u001b[0m\n\u001b[0m\u001b[1;32m    977\u001b[0m         \u001b[0mhas_remote_code\u001b[0m \u001b[0;34m=\u001b[0m \u001b[0;34m\"auto_map\"\u001b[0m \u001b[0;32min\u001b[0m \u001b[0mconfig_dict\u001b[0m \u001b[0;32mand\u001b[0m \u001b[0;34m\"AutoConfig\"\u001b[0m \u001b[0;32min\u001b[0m \u001b[0mconfig_dict\u001b[0m\u001b[0;34m[\u001b[0m\u001b[0;34m\"auto_map\"\u001b[0m\u001b[0;34m]\u001b[0m\u001b[0;34m\u001b[0m\u001b[0;34m\u001b[0m\u001b[0m\n\u001b[1;32m    978\u001b[0m         \u001b[0mhas_local_code\u001b[0m \u001b[0;34m=\u001b[0m \u001b[0;34m\"model_type\"\u001b[0m \u001b[0;32min\u001b[0m \u001b[0mconfig_dict\u001b[0m \u001b[0;32mand\u001b[0m \u001b[0mconfig_dict\u001b[0m\u001b[0;34m[\u001b[0m\u001b[0;34m\"model_type\"\u001b[0m\u001b[0;34m]\u001b[0m \u001b[0;32min\u001b[0m \u001b[0mCONFIG_MAPPING\u001b[0m\u001b[0;34m\u001b[0m\u001b[0;34m\u001b[0m\u001b[0m\n",
            "\u001b[0;32m/usr/local/lib/python3.10/dist-packages/transformers/configuration_utils.py\u001b[0m in \u001b[0;36mget_config_dict\u001b[0;34m(cls, pretrained_model_name_or_path, **kwargs)\u001b[0m\n\u001b[1;32m    630\u001b[0m         \u001b[0moriginal_kwargs\u001b[0m \u001b[0;34m=\u001b[0m \u001b[0mcopy\u001b[0m\u001b[0;34m.\u001b[0m\u001b[0mdeepcopy\u001b[0m\u001b[0;34m(\u001b[0m\u001b[0mkwargs\u001b[0m\u001b[0;34m)\u001b[0m\u001b[0;34m\u001b[0m\u001b[0;34m\u001b[0m\u001b[0m\n\u001b[1;32m    631\u001b[0m         \u001b[0;31m# Get config dict associated with the base config file\u001b[0m\u001b[0;34m\u001b[0m\u001b[0;34m\u001b[0m\u001b[0m\n\u001b[0;32m--> 632\u001b[0;31m         \u001b[0mconfig_dict\u001b[0m\u001b[0;34m,\u001b[0m \u001b[0mkwargs\u001b[0m \u001b[0;34m=\u001b[0m \u001b[0mcls\u001b[0m\u001b[0;34m.\u001b[0m\u001b[0m_get_config_dict\u001b[0m\u001b[0;34m(\u001b[0m\u001b[0mpretrained_model_name_or_path\u001b[0m\u001b[0;34m,\u001b[0m \u001b[0;34m**\u001b[0m\u001b[0mkwargs\u001b[0m\u001b[0;34m)\u001b[0m\u001b[0;34m\u001b[0m\u001b[0;34m\u001b[0m\u001b[0m\n\u001b[0m\u001b[1;32m    633\u001b[0m         \u001b[0;32mif\u001b[0m \u001b[0;34m\"_commit_hash\"\u001b[0m \u001b[0;32min\u001b[0m \u001b[0mconfig_dict\u001b[0m\u001b[0;34m:\u001b[0m\u001b[0;34m\u001b[0m\u001b[0;34m\u001b[0m\u001b[0m\n\u001b[1;32m    634\u001b[0m             \u001b[0moriginal_kwargs\u001b[0m\u001b[0;34m[\u001b[0m\u001b[0;34m\"_commit_hash\"\u001b[0m\u001b[0;34m]\u001b[0m \u001b[0;34m=\u001b[0m \u001b[0mconfig_dict\u001b[0m\u001b[0;34m[\u001b[0m\u001b[0;34m\"_commit_hash\"\u001b[0m\u001b[0;34m]\u001b[0m\u001b[0;34m\u001b[0m\u001b[0;34m\u001b[0m\u001b[0m\n",
            "\u001b[0;32m/usr/local/lib/python3.10/dist-packages/transformers/configuration_utils.py\u001b[0m in \u001b[0;36m_get_config_dict\u001b[0;34m(cls, pretrained_model_name_or_path, **kwargs)\u001b[0m\n\u001b[1;32m    687\u001b[0m             \u001b[0;32mtry\u001b[0m\u001b[0;34m:\u001b[0m\u001b[0;34m\u001b[0m\u001b[0;34m\u001b[0m\u001b[0m\n\u001b[1;32m    688\u001b[0m                 \u001b[0;31m# Load from local folder or from cache or download from model Hub and cache\u001b[0m\u001b[0;34m\u001b[0m\u001b[0;34m\u001b[0m\u001b[0m\n\u001b[0;32m--> 689\u001b[0;31m                 resolved_config_file = cached_file(\n\u001b[0m\u001b[1;32m    690\u001b[0m                     \u001b[0mpretrained_model_name_or_path\u001b[0m\u001b[0;34m,\u001b[0m\u001b[0;34m\u001b[0m\u001b[0;34m\u001b[0m\u001b[0m\n\u001b[1;32m    691\u001b[0m                     \u001b[0mconfiguration_file\u001b[0m\u001b[0;34m,\u001b[0m\u001b[0;34m\u001b[0m\u001b[0;34m\u001b[0m\u001b[0m\n",
            "\u001b[0;32m/usr/local/lib/python3.10/dist-packages/transformers/utils/hub.py\u001b[0m in \u001b[0;36mcached_file\u001b[0;34m(path_or_repo_id, filename, cache_dir, force_download, resume_download, proxies, token, revision, local_files_only, subfolder, repo_type, user_agent, _raise_exceptions_for_gated_repo, _raise_exceptions_for_missing_entries, _raise_exceptions_for_connection_errors, _commit_hash, **deprecated_kwargs)\u001b[0m\n\u001b[1;32m    443\u001b[0m         ):\n\u001b[1;32m    444\u001b[0m             \u001b[0;32mreturn\u001b[0m \u001b[0mresolved_file\u001b[0m\u001b[0;34m\u001b[0m\u001b[0;34m\u001b[0m\u001b[0m\n\u001b[0;32m--> 445\u001b[0;31m         raise EnvironmentError(\n\u001b[0m\u001b[1;32m    446\u001b[0m             \u001b[0;34mf\"We couldn't connect to '{HUGGINGFACE_CO_RESOLVE_ENDPOINT}' to load this file, couldn't find it in the\"\u001b[0m\u001b[0;34m\u001b[0m\u001b[0;34m\u001b[0m\u001b[0m\n\u001b[1;32m    447\u001b[0m             \u001b[0;34mf\" cached files and it looks like {path_or_repo_id} is not the path to a directory containing a file named\"\u001b[0m\u001b[0;34m\u001b[0m\u001b[0;34m\u001b[0m\u001b[0m\n",
            "\u001b[0;31mOSError\u001b[0m: We couldn't connect to 'https://huggingface.co' to load this file, couldn't find it in the cached files and it looks like mixedbread-ai/mxbai-rerank-xsmall-v1 is not the path to a directory containing a file named config.json.\nCheckout your internet connection or see how to run the library in offline mode at 'https://huggingface.co/docs/transformers/installation#offline-mode'."
          ]
        }
      ],
      "source": [
        "rerank_model = CrossEncoder(\"mixedbread-ai/mxbai-rerank-xsmall-v1\")"
      ]
    },
    {
      "cell_type": "markdown",
      "metadata": {
        "id": "gYiKvWUMIrnZ"
      },
      "source": [
        "📚 https://huggingface.co/mixedbread-ai/mxbai-rerank-xsmall-v1"
      ]
    },
    {
      "cell_type": "code",
      "execution_count": null,
      "metadata": {
        "id": "ml6LwqzXIrnZ"
      },
      "outputs": [],
      "source": [
        "# Add a re-ranking step to the following function\n",
        "def create_prompt(user_query: str) -> str:\n",
        "    \"\"\"\n",
        "    Create a chat prompt that includes the user query and retrieved context.\n",
        "\n",
        "    Args:\n",
        "        user_query (str): The user's query string.\n",
        "\n",
        "    Returns:\n",
        "        str: The chat prompt string.\n",
        "    \"\"\"\n",
        "    # Retrieve the most relevant documents for the `user_query` using the `vector_search` function defined in Step 8\n",
        "    context = vector_search(user_query)\n",
        "    # Extract the \"body\" field from each document in `context`\n",
        "    documents = [d.get(\"Scraped Content\") for d in context]\n",
        "    # Use the `rerank_model` instantiated above to re-rank `documents`\n",
        "    # Set the `top_k` argument to 5\n",
        "    reranked_documents = rerank_model.rank(\n",
        "        user_query, documents, return_documents=True, top_k=5\n",
        "    )\n",
        "    # Join the re-ranked documents into a single string, where each document is separated by two new lines (\"\\n\\n\")\n",
        "    context = \"\\n\\n\".join([d.get(\"text\", \"\") for d in reranked_documents])\n",
        "    # Prompt consisting of the question and relevant context to answer it\n",
        "    prompt = f\"Answer the question based only on the following context. If the context is empty, say I DON'T KNOW\\n\\nContext:\\n{context}\\n\\nQuestion:{user_query}\"\n",
        "    return prompt"
      ]
    },
    {
      "cell_type": "code",
      "execution_count": null,
      "metadata": {
        "colab": {
          "base_uri": "https://localhost:8080/"
        },
        "id": "bwTffrC4IrnZ",
        "outputId": "18f46cd4-8675-4728-e50c-a6ca9773b4d8"
      },
      "outputs": [
        {
          "name": "stdout",
          "output_type": "stream",
          "text": [
            "According to the context, triggers in MongoDB Atlas are a feature that allows you to create a trigger that monitors all changes in a certain collection (in this case, the `test` collection) for `insert`, `update`, and `delete` operations.\n"
          ]
        }
      ],
      "source": [
        "# Note the impact of re-ranking on the generated answer\n",
        "generate_answer(\"What are triggers in MongoDB Atlas?\")"
      ]
    },
    {
      "cell_type": "markdown",
      "metadata": {
        "id": "QPIqU769IrnZ"
      },
      "source": [
        "# 🦹‍♀️ Return streaming responses\n",
        "\n",
        "📚 https://docs.fireworks.ai/guides/querying-text-models#streaming\n"
      ]
    },
    {
      "cell_type": "code",
      "execution_count": null,
      "metadata": {
        "id": "WSvyWquxIrnZ"
      },
      "outputs": [],
      "source": [
        "# Define a function to answer user queries in streaming mode using Fireworks' Chat Completion API\n",
        "def generate_answer(user_query: str) -> None:\n",
        "    \"\"\"\n",
        "    Generate an answer to the user query.\n",
        "\n",
        "    Args:\n",
        "        user_query (str): The user's query string.\n",
        "    \"\"\"\n",
        "    # Use the `create_prompt` function defined in Step 9 to create a chat prompt\n",
        "    prompt = create_prompt(user_query)\n",
        "\n",
        "    # Use the `prompt` created above to populate the `content` field in the chat message\n",
        "    # Set the `stream` parameter to True\n",
        "    response = fw_client.chat.completions.create(\n",
        "        model=model,\n",
        "        messages=[{\"role\": \"user\", \"content\": prompt}],\n",
        "        stream=True\n",
        "    )\n",
        "\n",
        "    # Iterate through the `response` generator and print the results as they are generated\n",
        "    for chunk in response:\n",
        "        if chunk.choices[0].delta.content:\n",
        "            print(chunk.choices[0].delta.content, end=\"\")"
      ]
    },
    {
      "cell_type": "code",
      "execution_count": null,
      "metadata": {
        "colab": {
          "base_uri": "https://localhost:8080/"
        },
        "id": "Lz9mw-MmIrnZ",
        "outputId": "59d02d22-7fff-4695-8e94-9b6855e6e3f1"
      },
      "outputs": [
        {
          "name": "stdout",
          "output_type": "stream",
          "text": [
            "Atlas Search is an embedded full-text search in MongoDB Atlas that gives you a seamless, scalable experience for building relevance-based app features."
          ]
        }
      ],
      "source": [
        "generate_answer(\"What is MongoDB Atlas Search?\")"
      ]
    },
    {
      "cell_type": "markdown",
      "metadata": {
        "id": "1TrU1QPeIrnZ"
      },
      "source": [
        "# Step 10: Add memory to the RAG application\n"
      ]
    },
    {
      "cell_type": "code",
      "execution_count": 137,
      "metadata": {
        "id": "Tu9wdUBYIrnZ"
      },
      "outputs": [],
      "source": [
        "from datetime import datetime"
      ]
    },
    {
      "cell_type": "code",
      "execution_count": 138,
      "metadata": {
        "id": "Nj8CFmmFIrna"
      },
      "outputs": [],
      "source": [
        "history_collection = mongodb_client[DB_NAME][\"chat_history\"]"
      ]
    },
    {
      "cell_type": "markdown",
      "metadata": {
        "id": "NbgnZqY6Irna"
      },
      "source": [
        "📚 https://pymongo.readthedocs.io/en/stable/api/pymongo/collection.html#pymongo.collection.Collection.create_index\n"
      ]
    },
    {
      "cell_type": "code",
      "execution_count": 139,
      "metadata": {
        "colab": {
          "base_uri": "https://localhost:8080/",
          "height": 35
        },
        "id": "1GFcTaSgIrna",
        "outputId": "813a005a-a820-4b4c-f9f2-e8c3a1244910"
      },
      "outputs": [
        {
          "data": {
            "application/vnd.google.colaboratory.intrinsic+json": {
              "type": "string"
            },
            "text/plain": [
              "'session_id_1'"
            ]
          },
          "execution_count": 139,
          "metadata": {},
          "output_type": "execute_result"
        }
      ],
      "source": [
        "# Create an index on the key `session_id` for the `history_collection` collection\n",
        "history_collection.create_index(\"session_id\")"
      ]
    },
    {
      "cell_type": "markdown",
      "metadata": {
        "id": "FoZKu7COIrna"
      },
      "source": [
        "### Define a function to store chat messages in MongoDB\n",
        "\n",
        "📚 https://pymongo.readthedocs.io/en/stable/api/pymongo/collection.html#pymongo.collection.Collection.insert_one"
      ]
    },
    {
      "cell_type": "code",
      "execution_count": 140,
      "metadata": {
        "id": "32-A6ISZIrna"
      },
      "outputs": [],
      "source": [
        "def store_chat_message(session_id: str, role: str, content: str) -> None:\n",
        "    \"\"\"\n",
        "    Store a chat message in a MongoDB collection.\n",
        "\n",
        "    Args:\n",
        "        session_id (str): Session ID of the message.\n",
        "        role (str): Role for the message. One of `system`, `user` or `assistant`.\n",
        "        content (str): Content of the message.\n",
        "    \"\"\"\n",
        "    # Create a message object with `session_id`, `role`, `content` and `timestamp` fields\n",
        "    # `timestamp` should be set the current timestamp\n",
        "    message = {\n",
        "        \"session_id\": session_id,\n",
        "        \"role\": role,\n",
        "        \"content\": content,\n",
        "        \"timestamp\": datetime.now(),\n",
        "    }\n",
        "    # Insert the `message` into the `history_collection` collection\n",
        "    history_collection.insert_one(message)\n",
        "\n"
      ]
    },
    {
      "cell_type": "markdown",
      "metadata": {
        "id": "uxf593MVIrna"
      },
      "source": [
        "### Define a function to retrieve chat history from MongoDB\n",
        "\n",
        "📚 https://pymongo.readthedocs.io/en/stable/api/pymongo/collection.html#pymongo.collection.Collection.find\n",
        "\n",
        "📚 https://pymongo.readthedocs.io/en/stable/api/pymongo/cursor.html#pymongo.cursor.Cursor.sort"
      ]
    },
    {
      "cell_type": "code",
      "execution_count": 141,
      "metadata": {
        "id": "C7Sr374HIrna"
      },
      "outputs": [],
      "source": [
        "def retrieve_session_history(session_id: str) -> List:\n",
        "    \"\"\"\n",
        "    Retrieve chat message history for a particular session.\n",
        "\n",
        "    Args:\n",
        "        session_id (str): Session ID to retrieve chat message history for.\n",
        "\n",
        "    Returns:\n",
        "        List: List of chat messages.\n",
        "    \"\"\"\n",
        "    # Query the `history_collection` collection for documents where the \"session_id\" field has the value of the input `session_id`\n",
        "    # Sort the results in increasing order of the values in `timestamp` field\n",
        "    cursor =  history_collection.find({\"session_id\": session_id}).sort(\"timestamp\", 1)\n",
        "\n",
        "    if cursor:\n",
        "        # Iterate through the cursor and extract the `role` and `content` field from each entry\n",
        "        # Then format each entry as: {\"role\": <role_value>, \"content\": <content_value>}\n",
        "        messages = [{\"role\": msg[\"role\"], \"content\": msg[\"content\"]} for msg in cursor]\n",
        "    else:\n",
        "        # If cursor is empty, return an empty list\n",
        "        messages = []\n",
        "\n",
        "    return messages"
      ]
    },
    {
      "cell_type": "markdown",
      "metadata": {
        "id": "-Yt7zJQ_Irna"
      },
      "source": [
        "### Handle chat history in the `generate_answer` function\n",
        "\n",
        "📚 https://docs.fireworks.ai/guides/querying-text-models#chat-completions-api\n"
      ]
    },
    {
      "cell_type": "code",
      "execution_count": 142,
      "metadata": {
        "id": "Im7VZEwFIrna"
      },
      "outputs": [],
      "source": [
        "def generate_answer(session_id: str, user_query: str) -> None:\n",
        "    \"\"\"\n",
        "    Generate an answer to the user's query taking chat history into account.\n",
        "\n",
        "    Args:\n",
        "        session_id (str): Session ID to retrieve chat history for.\n",
        "        user_query (str): The user's query string.\n",
        "    \"\"\"\n",
        "    # Initialize list of messages to pass to the chat completion model\n",
        "    messages = []\n",
        "\n",
        "    # Retrieve documents relevant to the user query and convert them to a single string\n",
        "    context = vector_search(user_query)\n",
        "    context = \"\\n\\n\".join([d.get(\"Scraped Content\", \"\") for d in context])\n",
        "    # Create a system prompt containing the retrieved context\n",
        "    system_message = {\n",
        "        \"role\": \"system\",\n",
        "        \"content\": f\"Answer the question based only on the following context. If the context is empty, say I DON'T KNOW\\n\\nContext:\\n{context}\",\n",
        "    }\n",
        "    # Append the system prompt to the `messages` list\n",
        "    messages.append(system_message)\n",
        "\n",
        "    # Use the `retrieve_session_history` function to retrieve message history from MongoDB for the session ID `session_id`\n",
        "    # And add all messages in the message history to the `messages` list\n",
        "    message_history = retrieve_session_history(session_id)\n",
        "\n",
        "    messages.extend(message_history)\n",
        "\n",
        "    # Format the user message in the format {\"role\": <role_value>, \"content\": <content_value>}\n",
        "    # The role value for user messages must be \"user\"\n",
        "    # And append the user message to the `messages` list\n",
        "    user_message = {\"role\": \"user\", \"content\": user_query}\n",
        "\n",
        "\n",
        "    messages.append(user_message)\n",
        "\n",
        "    # Call the chat completions API\n",
        "    response = fw_client.chat.completions.create(model=model, messages=messages)\n",
        "\n",
        "    # Extract the answer from the API response\n",
        "    answer = response.choices[0].message.content\n",
        "\n",
        "    # Use the `store_chat_message` function to store the user message and also the generated answer in the message history collection\n",
        "    # The role value for user messages is \"user\", and \"assistant\" for the generated answer\n",
        "    store_chat_message(session_id, \"user\", user_query)\n",
        "    store_chat_message(session_id, \"assistant\", answer)\n",
        "\n",
        "    print(answer)"
      ]
    },
    {
      "cell_type": "code",
      "execution_count": 143,
      "metadata": {
        "colab": {
          "base_uri": "https://localhost:8080/"
        },
        "id": "nZID6RXzIrna",
        "outputId": "1c7d1a91-075e-4ba3-e580-4720049213b3"
      },
      "outputs": [
        {
          "name": "stdout",
          "output_type": "stream",
          "text": [
            "I DON'T KNOW. The context only provides general information about coffee packaging, its importance, and the factors to consider when choosing a packaging material. It does not specifically mention or recommend a particular type of coffee bean packaging as the best.\n"
          ]
        }
      ],
      "source": [
        "generate_answer(\n",
        "    session_id=\"1\",\n",
        "    user_query=\"Which type of coffee bean packaging is the best\",\n",
        ")"
      ]
    },
    {
      "cell_type": "code",
      "execution_count": 144,
      "metadata": {
        "colab": {
          "base_uri": "https://localhost:8080/"
        },
        "id": "CedtFEZcIrna",
        "outputId": "5560693f-e35b-47c5-cce8-34b6ddcc6a08"
      },
      "outputs": [
        {
          "name": "stdout",
          "output_type": "stream",
          "text": [
            "You asked me which type of coffee bean packaging is the best.\n"
          ]
        }
      ],
      "source": [
        "generate_answer(\n",
        "    session_id=\"1\",\n",
        "    user_query=\"What did I just ask you?\",\n",
        ")"
      ]
    }
  ],
  "metadata": {
    "colab": {
      "provenance": []
    },
    "kernelspec": {
      "display_name": ".venv",
      "language": "python",
      "name": "python3"
    },
    "language_info": {
      "codemirror_mode": {
        "name": "ipython",
        "version": 3
      },
      "file_extension": ".py",
      "mimetype": "text/x-python",
      "name": "python",
      "nbconvert_exporter": "python",
      "pygments_lexer": "ipython3",
      "version": "3.12.1"
    }
  },
  "nbformat": 4,
  "nbformat_minor": 0
}
